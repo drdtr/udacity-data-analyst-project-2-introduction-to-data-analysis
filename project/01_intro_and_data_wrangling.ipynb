{
 "cells": [
  {
   "cell_type": "markdown",
   "source": [
    "# Table of content\n",
    "\n",
    "- <a href='#intro'>Introduction</a>\n",
    "- <a href='#data-wrangling'>Data Wrangling</a>\n",
    "  - <a href='#gdp-ppp-dollars'>GDP in PPP dollars</a>\n",
    "  - <a href='#gdp-current-dollars'>GDP in current USD</a>\n",
    "  - <a href='#total-population'>Total population</a>\n",
    "  - <a href='#fuel-exports'>Fuel exports</a>\n",
    "  - <a href='#democracy-index'>Democracy index</a>\n",
    "  - <a href='#join-data'>Join the data sets</a>"
   ],
   "metadata": {
    "collapsed": false,
    "pycharm": {
     "name": "#%% md\n"
    }
   }
  },
  {
   "cell_type": "markdown",
   "source": [
    "<a id='intro'></a>\n",
    "# Introduction\n",
    "\n",
    "In this project we investigate data sets on\n",
    "GDP per capita,\n",
    "democracy indices,\n",
    "total population,\n",
    "and fuel exports,\n",
    "available\n",
    "from [www.gapminder.org](https://www.gapminder.org/)\n",
    "and [World Bank Open Data](https://data.worldbank.org/).\n",
    "The data was available under the [CC BY 4.0](https://creativecommons.org/licenses/by/4.0/)\n",
    "from both sources, see\n",
    "[free material from Gapminder](https://www.gapminder.org/free-material/)\n",
    "and\n",
    "[Summary of the Terms of Use for Datasets Listed in The World Bank Data Catalog](https://data.worldbank.org/summary-terms-of-use).\n"
   ],
   "metadata": {
    "collapsed": false,
    "pycharm": {
     "name": "#%% md\n"
    }
   }
  },
  {
   "cell_type": "markdown",
   "source": [
    "<a id='data-wrangling'></a>\n",
    "# Data Wrangling\n"
   ],
   "metadata": {
    "collapsed": false,
    "pycharm": {
     "name": "#%% md\n"
    }
   }
  },
  {
   "cell_type": "code",
   "execution_count": 1,
   "outputs": [],
   "source": [
    "from common import *\n",
    "\n",
    "import pandas as pd"
   ],
   "metadata": {
    "collapsed": false,
    "pycharm": {
     "name": "#%%\n"
    }
   }
  },
  {
   "cell_type": "code",
   "execution_count": 2,
   "outputs": [],
   "source": [
    "%load_ext autoreload\n",
    "%autoreload"
   ],
   "metadata": {
    "collapsed": false,
    "pycharm": {
     "name": "#%%\n"
    }
   }
  },
  {
   "cell_type": "code",
   "execution_count": 3,
   "outputs": [
    {
     "name": "stdout",
     "output_type": "stream",
     "text": [
      "We are going to analyze data sets for the year 2018.\n"
     ]
    }
   ],
   "source": [
    "print(f\"We are going to analyze data sets for the year {the_year}.\")"
   ],
   "metadata": {
    "collapsed": false,
    "pycharm": {
     "name": "#%%\n"
    }
   }
  },
  {
   "cell_type": "markdown",
   "source": [
    "### Helper functions\n",
    "\n",
    "First we define helper functions for data wrangling."
   ],
   "metadata": {
    "collapsed": false,
    "pycharm": {
     "name": "#%% md\n"
    }
   }
  },
  {
   "cell_type": "code",
   "execution_count": 4,
   "outputs": [],
   "source": [
    "def read_csv(filepath, usecols = None, col_names = None, indexcol = None, header = 0):\n",
    "    \"\"\"\n",
    "    Convenience function to read selected columns from a CSV and assign them custom names.\n",
    "\n",
    "    :param filepath: Path to the CSV file to be read\n",
    "    :param usecols: Original columns to be used. If None then all columns will be read\n",
    "    :param col_names: Custom column names to be set after reading\n",
    "    :param indexcol: Column to be set as index column\n",
    "    :param header: Row number to be used as header containing the original column names\n",
    "    :return:\n",
    "    \"\"\"\n",
    "    df = pd.read_csv(filepath, usecols=usecols, header=header)\n",
    "    if usecols is not None:\n",
    "        df.columns = col_names\n",
    "    if indexcol is not None:\n",
    "        df.set_index(indexcol, inplace=True)\n",
    "    return df"
   ],
   "metadata": {
    "collapsed": false,
    "pycharm": {
     "name": "#%%\n"
    }
   }
  },
  {
   "cell_type": "markdown",
   "source": [
    "<a id='gdp-ppp-dollars'></a>\n",
    "## GDP data, in PPP dollars\n",
    "\n",
    "We investigate the data set \"GD001: GDP per capita, constant PPP dollars\",\n",
    "available [here](https://www.gapminder.org/data/documentation/gd001/) from Gapminder.\n",
    "We consider the data on GDP per capita in [PPP (Purchasing Power Parity)](https://en.wikipedia.org/wiki/Purchasing_power_parity)\n",
    "dollars for the year 2018,\n",
    "compiled by [Gapminder](https://www.gapminder.org/)\n",
    "from the data provided by the World Bank [here](https://data.worldbank.org/indicator/NY.GDP.PCAP.PP.KD)."
   ],
   "metadata": {
    "collapsed": false,
    "pycharm": {
     "name": "#%% md\n"
    }
   }
  },
  {
   "cell_type": "markdown",
   "source": [
    "We will use pre-defined column names."
   ],
   "metadata": {
    "collapsed": false,
    "pycharm": {
     "name": "#%% md\n"
    }
   }
  },
  {
   "cell_type": "code",
   "execution_count": 5,
   "outputs": [
    {
     "name": "stdout",
     "output_type": "stream",
     "text": [
      "class ColGdp:\n",
      "\tcountry_code = \"Country code\"\n",
      "\tcountry = \"Country\"\n",
      "\tyear = \"Year\"\n",
      "\tgdp_per_capita = \"GDP per capita\"\n",
      "\tgdp_per_capita_ppp = \"GDP per capita (PPP dollars)\"\n",
      "\tabove_avg_gdp_per_capita = \"Above-average GDP per capita\"\n",
      "\tabove_avg_gdp_per_capita_ppp = \"Above-average GDP per capita (PPP dollars)\"\n",
      "\tgdp_level = \"GDP level\"\n",
      "\tgdp_total = \"GDP total\"\n",
      "\tgdp_total_ppp = \"GDP total (PPP dollars)\"\n"
     ]
    }
   ],
   "source": [
    "print_declared_class_attributes(ColGdp)"
   ],
   "metadata": {
    "collapsed": false,
    "pycharm": {
     "name": "#%%\n"
    }
   }
  },
  {
   "cell_type": "code",
   "execution_count": 6,
   "outputs": [
    {
     "data": {
      "text/plain": "                  Country  Year  GDP per capita (PPP dollars)\nCountry code                                                 \nafg           Afghanistan  2018                          1735\nalb               Albania  2018                         12306\ndza               Algeria  2018                         13886\nand               Andorra  2018                         51494\nago                Angola  2018                          5725",
      "text/html": "<div>\n<style scoped>\n    .dataframe tbody tr th:only-of-type {\n        vertical-align: middle;\n    }\n\n    .dataframe tbody tr th {\n        vertical-align: top;\n    }\n\n    .dataframe thead th {\n        text-align: right;\n    }\n</style>\n<table border=\"1\" class=\"dataframe\">\n  <thead>\n    <tr style=\"text-align: right;\">\n      <th></th>\n      <th>Country</th>\n      <th>Year</th>\n      <th>GDP per capita (PPP dollars)</th>\n    </tr>\n    <tr>\n      <th>Country code</th>\n      <th></th>\n      <th></th>\n      <th></th>\n    </tr>\n  </thead>\n  <tbody>\n    <tr>\n      <th>afg</th>\n      <td>Afghanistan</td>\n      <td>2018</td>\n      <td>1735</td>\n    </tr>\n    <tr>\n      <th>alb</th>\n      <td>Albania</td>\n      <td>2018</td>\n      <td>12306</td>\n    </tr>\n    <tr>\n      <th>dza</th>\n      <td>Algeria</td>\n      <td>2018</td>\n      <td>13886</td>\n    </tr>\n    <tr>\n      <th>and</th>\n      <td>Andorra</td>\n      <td>2018</td>\n      <td>51494</td>\n    </tr>\n    <tr>\n      <th>ago</th>\n      <td>Angola</td>\n      <td>2018</td>\n      <td>5725</td>\n    </tr>\n  </tbody>\n</table>\n</div>"
     },
     "execution_count": 6,
     "metadata": {},
     "output_type": "execute_result"
    }
   ],
   "source": [
    "df_gdp_ppp = read_csv('../resources/project/GM-GDP-per-capita_Dataset-v26_data-for-contries-by-year.csv',\n",
    "    header=0,\n",
    "    usecols=[\"geo\",\"name\",\"time\",\"Income per person\"],\n",
    "    col_names=[ColGdp.country_code, ColGdp.country, ColGdp.year, ColGdp.gdp_per_capita_ppp],\n",
    "    indexcol=ColGdp.country_code)\n",
    "df_gdp_ppp = df_gdp_ppp[df_gdp_ppp[ColGdp.year] == the_year]\n",
    "df_gdp_ppp.head()"
   ],
   "metadata": {
    "collapsed": false,
    "pycharm": {
     "name": "#%%\n"
    }
   }
  },
  {
   "cell_type": "markdown",
   "source": [
    "Which countries are there in the dataset?"
   ],
   "metadata": {
    "collapsed": false,
    "pycharm": {
     "name": "#%% md\n"
    }
   }
  },
  {
   "cell_type": "code",
   "execution_count": 7,
   "outputs": [
    {
     "name": "stdout",
     "output_type": "stream",
     "text": [
      "There are 195 countries in the data set:\n",
      "['Afghanistan' 'Albania' 'Algeria' 'Andorra' 'Angola'\n",
      " 'Antigua and Barbuda' 'Argentina' 'Armenia' 'Australia' 'Austria'\n",
      " 'Azerbaijan' 'Bahamas' 'Bahrain' 'Bangladesh' 'Barbados' 'Belarus'\n",
      " 'Belgium' 'Belize' 'Benin' 'Bhutan' 'Bolivia' 'Bosnia and Herzegovina'\n",
      " 'Botswana' 'Brazil' 'Brunei' 'Bulgaria' 'Burkina Faso' 'Burundi'\n",
      " 'Cambodia' 'Cameroon' 'Canada' 'Cape Verde' 'Central African Republic'\n",
      " 'Chad' 'Chile' 'China' 'Colombia' 'Comoros' 'Congo, Dem. Rep.'\n",
      " 'Congo, Rep.' 'Costa Rica' \"Cote d'Ivoire\" 'Croatia' 'Cuba' 'Cyprus'\n",
      " 'Czech Republic' 'Denmark' 'Djibouti' 'Dominica' 'Dominican Republic'\n",
      " 'Ecuador' 'Egypt' 'El Salvador' 'Equatorial Guinea' 'Eritrea' 'Estonia'\n",
      " 'Ethiopia' 'Fiji' 'Finland' 'France' 'Gabon' 'Gambia' 'Georgia' 'Germany'\n",
      " 'Ghana' 'Greece' 'Grenada' 'Guatemala' 'Guinea' 'Guinea-Bissau' 'Guyana'\n",
      " 'Haiti' 'Honduras' 'Hong Kong, China' 'Hungary' 'Iceland' 'India'\n",
      " 'Indonesia' 'Iran' 'Iraq' 'Ireland' 'Israel' 'Italy' 'Jamaica' 'Japan'\n",
      " 'Jordan' 'Kazakhstan' 'Kenya' 'Kiribati' 'North Korea' 'South Korea'\n",
      " 'Kuwait' 'Kyrgyz Republic' 'Lao' 'Latvia' 'Lebanon' 'Lesotho' 'Liberia'\n",
      " 'Libya' 'Lithuania' 'Luxembourg' 'Macedonia, FYR' 'Madagascar' 'Malawi'\n",
      " 'Malaysia' 'Maldives' 'Mali' 'Malta' 'Marshall Islands' 'Mauritania'\n",
      " 'Mauritius' 'Mexico' 'Micronesia, Fed. Sts.' 'Moldova' 'Monaco'\n",
      " 'Mongolia' 'Montenegro' 'Morocco' 'Mozambique' 'Myanmar' 'Namibia'\n",
      " 'Nauru' 'Nepal' 'Netherlands' 'New Zealand' 'Nicaragua' 'Niger' 'Nigeria'\n",
      " 'Norway' 'Oman' 'Pakistan' 'Palau' 'Panama' 'Papua New Guinea' 'Paraguay'\n",
      " 'Peru' 'Philippines' 'Poland' 'Portugal' 'Qatar' 'Romania' 'Russia'\n",
      " 'Rwanda' 'St. Kitts and Nevis' 'St. Lucia'\n",
      " 'St. Vincent and the Grenadines' 'Samoa' 'San Marino'\n",
      " 'Sao Tome and Principe' 'Saudi Arabia' 'Senegal' 'Serbia' 'Seychelles'\n",
      " 'Sierra Leone' 'Singapore' 'Slovak Republic' 'Slovenia' 'Solomon Islands'\n",
      " 'Somalia' 'South Africa' 'South Sudan' 'Spain' 'Sri Lanka' 'Sudan'\n",
      " 'Suriname' 'Swaziland' 'Sweden' 'Switzerland' 'Syria' 'Taiwan'\n",
      " 'Tajikistan' 'Tanzania' 'Thailand' 'Timor-Leste' 'Togo' 'Tonga'\n",
      " 'Trinidad and Tobago' 'Tunisia' 'Turkey' 'Turkmenistan' 'Tuvalu' 'Uganda'\n",
      " 'Ukraine' 'United Arab Emirates' 'United Kingdom' 'United States'\n",
      " 'Uruguay' 'Uzbekistan' 'Vanuatu' 'Venezuela' 'Vietnam' 'Palestine'\n",
      " 'Yemen' 'Zambia' 'Zimbabwe']\n"
     ]
    }
   ],
   "source": [
    "print(f\"There are {df_gdp_ppp[ColGdp.country].nunique()} countries in the data set:\\n\"\n",
    "      f\"{df_gdp_ppp[ColGdp.country].unique()}\")"
   ],
   "metadata": {
    "collapsed": false,
    "pycharm": {
     "name": "#%%\n"
    }
   }
  },
  {
   "cell_type": "code",
   "execution_count": 8,
   "outputs": [
    {
     "name": "stdout",
     "output_type": "stream",
     "text": [
      "<class 'pandas.core.frame.DataFrame'>\n",
      "Index: 195 entries, afg to zwe\n",
      "Data columns (total 3 columns):\n",
      " #   Column                        Non-Null Count  Dtype \n",
      "---  ------                        --------------  ----- \n",
      " 0   Country                       195 non-null    object\n",
      " 1   Year                          195 non-null    int64 \n",
      " 2   GDP per capita (PPP dollars)  195 non-null    int64 \n",
      "dtypes: int64(2), object(1)\n",
      "memory usage: 6.1+ KB\n"
     ]
    }
   ],
   "source": [
    "df_gdp_ppp.info()"
   ],
   "metadata": {
    "collapsed": false,
    "pycharm": {
     "name": "#%%\n"
    }
   }
  },
  {
   "cell_type": "markdown",
   "source": [
    "There are 195 rows and no missing values in the data set."
   ],
   "metadata": {
    "collapsed": false,
    "pycharm": {
     "name": "#%% md\n"
    }
   }
  },
  {
   "cell_type": "code",
   "execution_count": 9,
   "outputs": [
    {
     "data": {
      "text/plain": "0"
     },
     "execution_count": 9,
     "metadata": {},
     "output_type": "execute_result"
    }
   ],
   "source": [
    "df_gdp_ppp.duplicated().sum()"
   ],
   "metadata": {
    "collapsed": false,
    "pycharm": {
     "name": "#%%\n"
    }
   }
  },
  {
   "cell_type": "markdown",
   "source": [
    "There are no duplicated rows in the data set."
   ],
   "metadata": {
    "collapsed": false,
    "pycharm": {
     "name": "#%% md\n"
    }
   }
  },
  {
   "cell_type": "code",
   "execution_count": 10,
   "outputs": [
    {
     "data": {
      "text/plain": "0"
     },
     "execution_count": 10,
     "metadata": {},
     "output_type": "execute_result"
    }
   ],
   "source": [
    "df_gdp_ppp[ColGdp.country].duplicated().sum()"
   ],
   "metadata": {
    "collapsed": false,
    "pycharm": {
     "name": "#%%\n"
    }
   }
  },
  {
   "cell_type": "markdown",
   "source": [
    "There are also no duplicate country values:\n",
    "each country has exactly one entry for the considered year 2018."
   ],
   "metadata": {
    "collapsed": false,
    "pycharm": {
     "name": "#%% md\n"
    }
   }
  },
  {
   "cell_type": "markdown",
   "source": [
    "<a id='gdp-current-dollars'></a>\n",
    "## GDP data, in current USD\n",
    "\n",
    "We investigate the data set \"GDP per capita (current US$)\",\n",
    "available [here](https://data.worldbank.org/indicator/NY.GDP.PCAP.CD) from the World Bank.\n",
    "We consider the data on GDP per capita in current US dollars for the year 2018."
   ],
   "metadata": {
    "collapsed": false,
    "pycharm": {
     "name": "#%% md\n"
    }
   }
  },
  {
   "cell_type": "code",
   "execution_count": 11,
   "outputs": [
    {
     "data": {
      "text/plain": "                  Country  GDP per capita\nCountry code                             \nABW                 Aruba             NaN\nAFG           Afghanistan      493.750418\nAGO                Angola     3289.646664\nALB               Albania     5284.380184\nAND               Andorra    41793.055258",
      "text/html": "<div>\n<style scoped>\n    .dataframe tbody tr th:only-of-type {\n        vertical-align: middle;\n    }\n\n    .dataframe tbody tr th {\n        vertical-align: top;\n    }\n\n    .dataframe thead th {\n        text-align: right;\n    }\n</style>\n<table border=\"1\" class=\"dataframe\">\n  <thead>\n    <tr style=\"text-align: right;\">\n      <th></th>\n      <th>Country</th>\n      <th>GDP per capita</th>\n    </tr>\n    <tr>\n      <th>Country code</th>\n      <th></th>\n      <th></th>\n    </tr>\n  </thead>\n  <tbody>\n    <tr>\n      <th>ABW</th>\n      <td>Aruba</td>\n      <td>NaN</td>\n    </tr>\n    <tr>\n      <th>AFG</th>\n      <td>Afghanistan</td>\n      <td>493.750418</td>\n    </tr>\n    <tr>\n      <th>AGO</th>\n      <td>Angola</td>\n      <td>3289.646664</td>\n    </tr>\n    <tr>\n      <th>ALB</th>\n      <td>Albania</td>\n      <td>5284.380184</td>\n    </tr>\n    <tr>\n      <th>AND</th>\n      <td>Andorra</td>\n      <td>41793.055258</td>\n    </tr>\n  </tbody>\n</table>\n</div>"
     },
     "execution_count": 11,
     "metadata": {},
     "output_type": "execute_result"
    }
   ],
   "source": [
    "df_gdp_curr = read_csv('../resources/project/API_NY.GDP.PCAP.CD_DS2_en_csv_v2_2055804_WorldBank_GDP_per_capita_current_USD.csv',\n",
    "    header=2,\n",
    "    usecols=[\"Country Name\", \"Country Code\", \"2018\"],\n",
    "    col_names=[ColGdp.country, ColGdp.country_code, ColGdp.gdp_per_capita],\n",
    "    indexcol=ColGdp.country_code) # the actual header row in the dataset is preceded by some other information\n",
    "df_gdp_curr.head()"
   ],
   "metadata": {
    "collapsed": false,
    "pycharm": {
     "name": "#%%\n"
    }
   }
  },
  {
   "cell_type": "markdown",
   "source": [
    "Convert the country codes to lower case so that it matches the country codes in `df_gdp_ppp`."
   ],
   "metadata": {
    "collapsed": false,
    "pycharm": {
     "name": "#%% md\n"
    }
   }
  },
  {
   "cell_type": "code",
   "execution_count": 12,
   "outputs": [
    {
     "data": {
      "text/plain": "                  Country  GDP per capita\nCountry code                             \nabw                 Aruba             NaN\nafg           Afghanistan      493.750418\nago                Angola     3289.646664\nalb               Albania     5284.380184\nand               Andorra    41793.055258",
      "text/html": "<div>\n<style scoped>\n    .dataframe tbody tr th:only-of-type {\n        vertical-align: middle;\n    }\n\n    .dataframe tbody tr th {\n        vertical-align: top;\n    }\n\n    .dataframe thead th {\n        text-align: right;\n    }\n</style>\n<table border=\"1\" class=\"dataframe\">\n  <thead>\n    <tr style=\"text-align: right;\">\n      <th></th>\n      <th>Country</th>\n      <th>GDP per capita</th>\n    </tr>\n    <tr>\n      <th>Country code</th>\n      <th></th>\n      <th></th>\n    </tr>\n  </thead>\n  <tbody>\n    <tr>\n      <th>abw</th>\n      <td>Aruba</td>\n      <td>NaN</td>\n    </tr>\n    <tr>\n      <th>afg</th>\n      <td>Afghanistan</td>\n      <td>493.750418</td>\n    </tr>\n    <tr>\n      <th>ago</th>\n      <td>Angola</td>\n      <td>3289.646664</td>\n    </tr>\n    <tr>\n      <th>alb</th>\n      <td>Albania</td>\n      <td>5284.380184</td>\n    </tr>\n    <tr>\n      <th>and</th>\n      <td>Andorra</td>\n      <td>41793.055258</td>\n    </tr>\n  </tbody>\n</table>\n</div>"
     },
     "execution_count": 12,
     "metadata": {},
     "output_type": "execute_result"
    }
   ],
   "source": [
    "df_gdp_curr.index = df_gdp_curr.index.str.lower()\n",
    "df_gdp_curr.head()"
   ],
   "metadata": {
    "collapsed": false,
    "pycharm": {
     "name": "#%%\n"
    }
   }
  },
  {
   "cell_type": "code",
   "execution_count": 13,
   "outputs": [
    {
     "name": "stdout",
     "output_type": "stream",
     "text": [
      "<class 'pandas.core.frame.DataFrame'>\n",
      "Index: 264 entries, abw to zwe\n",
      "Data columns (total 2 columns):\n",
      " #   Column          Non-Null Count  Dtype  \n",
      "---  ------          --------------  -----  \n",
      " 0   Country         264 non-null    object \n",
      " 1   GDP per capita  249 non-null    float64\n",
      "dtypes: float64(1), object(1)\n",
      "memory usage: 6.2+ KB\n"
     ]
    }
   ],
   "source": [
    "df_gdp_curr.info()"
   ],
   "metadata": {
    "collapsed": false,
    "pycharm": {
     "name": "#%%\n"
    }
   }
  },
  {
   "cell_type": "markdown",
   "source": [
    "There are some missing values. We will deal with them after joining the two GDP data frames in the next subsection."
   ],
   "metadata": {
    "collapsed": false,
    "pycharm": {
     "name": "#%% md\n"
    }
   }
  },
  {
   "cell_type": "markdown",
   "source": [
    "## Join the GDP data frames\n",
    "\n",
    "We join the `df_dgp_curr` data frame containing GDP per capita in actual USD,\n",
    "and the `df_gdp_ppp` data frame containing GDP in PPP dollars."
   ],
   "metadata": {
    "collapsed": false,
    "pycharm": {
     "name": "#%% md\n"
    }
   }
  },
  {
   "cell_type": "code",
   "execution_count": 14,
   "outputs": [
    {
     "data": {
      "text/plain": "                  Country  Year  GDP per capita (PPP dollars)  GDP per capita\nCountry code                                                                 \nafg           Afghanistan  2018                          1735      493.750418\nalb               Albania  2018                         12306     5284.380184\ndza               Algeria  2018                         13886     4153.733978\nand               Andorra  2018                         51494    41793.055258\nago                Angola  2018                          5725     3289.646664",
      "text/html": "<div>\n<style scoped>\n    .dataframe tbody tr th:only-of-type {\n        vertical-align: middle;\n    }\n\n    .dataframe tbody tr th {\n        vertical-align: top;\n    }\n\n    .dataframe thead th {\n        text-align: right;\n    }\n</style>\n<table border=\"1\" class=\"dataframe\">\n  <thead>\n    <tr style=\"text-align: right;\">\n      <th></th>\n      <th>Country</th>\n      <th>Year</th>\n      <th>GDP per capita (PPP dollars)</th>\n      <th>GDP per capita</th>\n    </tr>\n    <tr>\n      <th>Country code</th>\n      <th></th>\n      <th></th>\n      <th></th>\n      <th></th>\n    </tr>\n  </thead>\n  <tbody>\n    <tr>\n      <th>afg</th>\n      <td>Afghanistan</td>\n      <td>2018</td>\n      <td>1735</td>\n      <td>493.750418</td>\n    </tr>\n    <tr>\n      <th>alb</th>\n      <td>Albania</td>\n      <td>2018</td>\n      <td>12306</td>\n      <td>5284.380184</td>\n    </tr>\n    <tr>\n      <th>dza</th>\n      <td>Algeria</td>\n      <td>2018</td>\n      <td>13886</td>\n      <td>4153.733978</td>\n    </tr>\n    <tr>\n      <th>and</th>\n      <td>Andorra</td>\n      <td>2018</td>\n      <td>51494</td>\n      <td>41793.055258</td>\n    </tr>\n    <tr>\n      <th>ago</th>\n      <td>Angola</td>\n      <td>2018</td>\n      <td>5725</td>\n      <td>3289.646664</td>\n    </tr>\n  </tbody>\n</table>\n</div>"
     },
     "execution_count": 14,
     "metadata": {},
     "output_type": "execute_result"
    }
   ],
   "source": [
    "df_gdp = df_gdp_ppp.join(df_gdp_curr[[ColGdp.gdp_per_capita]])\n",
    "df_gdp.head()"
   ],
   "metadata": {
    "collapsed": false,
    "pycharm": {
     "name": "#%%\n"
    }
   }
  },
  {
   "cell_type": "code",
   "execution_count": 15,
   "outputs": [
    {
     "data": {
      "text/plain": "         Year  GDP per capita (PPP dollars)  GDP per capita\ncount   195.0                    195.000000      188.000000\nmean   2018.0                  18786.097436    15558.870464\nstd       0.0                  19779.346476    23448.392538\nmin    2018.0                    629.000000      271.752044\n25%    2018.0                   3779.500000     2158.678618\n50%    2018.0                  12143.000000     6117.407428\n75%    2018.0                  28209.500000    17394.775949\nmax    2018.0                 112532.000000   185829.017960",
      "text/html": "<div>\n<style scoped>\n    .dataframe tbody tr th:only-of-type {\n        vertical-align: middle;\n    }\n\n    .dataframe tbody tr th {\n        vertical-align: top;\n    }\n\n    .dataframe thead th {\n        text-align: right;\n    }\n</style>\n<table border=\"1\" class=\"dataframe\">\n  <thead>\n    <tr style=\"text-align: right;\">\n      <th></th>\n      <th>Year</th>\n      <th>GDP per capita (PPP dollars)</th>\n      <th>GDP per capita</th>\n    </tr>\n  </thead>\n  <tbody>\n    <tr>\n      <th>count</th>\n      <td>195.0</td>\n      <td>195.000000</td>\n      <td>188.000000</td>\n    </tr>\n    <tr>\n      <th>mean</th>\n      <td>2018.0</td>\n      <td>18786.097436</td>\n      <td>15558.870464</td>\n    </tr>\n    <tr>\n      <th>std</th>\n      <td>0.0</td>\n      <td>19779.346476</td>\n      <td>23448.392538</td>\n    </tr>\n    <tr>\n      <th>min</th>\n      <td>2018.0</td>\n      <td>629.000000</td>\n      <td>271.752044</td>\n    </tr>\n    <tr>\n      <th>25%</th>\n      <td>2018.0</td>\n      <td>3779.500000</td>\n      <td>2158.678618</td>\n    </tr>\n    <tr>\n      <th>50%</th>\n      <td>2018.0</td>\n      <td>12143.000000</td>\n      <td>6117.407428</td>\n    </tr>\n    <tr>\n      <th>75%</th>\n      <td>2018.0</td>\n      <td>28209.500000</td>\n      <td>17394.775949</td>\n    </tr>\n    <tr>\n      <th>max</th>\n      <td>2018.0</td>\n      <td>112532.000000</td>\n      <td>185829.017960</td>\n    </tr>\n  </tbody>\n</table>\n</div>"
     },
     "execution_count": 15,
     "metadata": {},
     "output_type": "execute_result"
    }
   ],
   "source": [
    "df_gdp.describe()"
   ],
   "metadata": {
    "collapsed": false,
    "pycharm": {
     "name": "#%%\n"
    }
   }
  },
  {
   "cell_type": "markdown",
   "source": [
    "There are a few countries where the GDP per capita is missing."
   ],
   "metadata": {
    "collapsed": false,
    "pycharm": {
     "name": "#%% md\n"
    }
   }
  },
  {
   "cell_type": "code",
   "execution_count": 16,
   "outputs": [
    {
     "data": {
      "text/plain": "                  Country  Year  GDP per capita (PPP dollars)  GDP per capita\nCountry code                                                                 \neri               Eritrea  2018                          1374             NaN\nprk           North Korea  2018                          1716             NaN\nsom               Somalia  2018                           629             NaN\nssd           South Sudan  2018                          1772             NaN\nsyr                 Syria  2018                          2900             NaN\ntwn                Taiwan  2018                         43273             NaN\nven             Venezuela  2018                         12468             NaN",
      "text/html": "<div>\n<style scoped>\n    .dataframe tbody tr th:only-of-type {\n        vertical-align: middle;\n    }\n\n    .dataframe tbody tr th {\n        vertical-align: top;\n    }\n\n    .dataframe thead th {\n        text-align: right;\n    }\n</style>\n<table border=\"1\" class=\"dataframe\">\n  <thead>\n    <tr style=\"text-align: right;\">\n      <th></th>\n      <th>Country</th>\n      <th>Year</th>\n      <th>GDP per capita (PPP dollars)</th>\n      <th>GDP per capita</th>\n    </tr>\n    <tr>\n      <th>Country code</th>\n      <th></th>\n      <th></th>\n      <th></th>\n      <th></th>\n    </tr>\n  </thead>\n  <tbody>\n    <tr>\n      <th>eri</th>\n      <td>Eritrea</td>\n      <td>2018</td>\n      <td>1374</td>\n      <td>NaN</td>\n    </tr>\n    <tr>\n      <th>prk</th>\n      <td>North Korea</td>\n      <td>2018</td>\n      <td>1716</td>\n      <td>NaN</td>\n    </tr>\n    <tr>\n      <th>som</th>\n      <td>Somalia</td>\n      <td>2018</td>\n      <td>629</td>\n      <td>NaN</td>\n    </tr>\n    <tr>\n      <th>ssd</th>\n      <td>South Sudan</td>\n      <td>2018</td>\n      <td>1772</td>\n      <td>NaN</td>\n    </tr>\n    <tr>\n      <th>syr</th>\n      <td>Syria</td>\n      <td>2018</td>\n      <td>2900</td>\n      <td>NaN</td>\n    </tr>\n    <tr>\n      <th>twn</th>\n      <td>Taiwan</td>\n      <td>2018</td>\n      <td>43273</td>\n      <td>NaN</td>\n    </tr>\n    <tr>\n      <th>ven</th>\n      <td>Venezuela</td>\n      <td>2018</td>\n      <td>12468</td>\n      <td>NaN</td>\n    </tr>\n  </tbody>\n</table>\n</div>"
     },
     "execution_count": 16,
     "metadata": {},
     "output_type": "execute_result"
    }
   ],
   "source": [
    "df_gdp[df_gdp[ColGdp.gdp_per_capita].isnull()]"
   ],
   "metadata": {
    "collapsed": false,
    "pycharm": {
     "name": "#%%\n"
    }
   }
  },
  {
   "cell_type": "markdown",
   "source": [
    "We will substitute the missing values by the available values in PPP dollars:\n",
    "although this is not very accurate, it should be sufficient for the envisioned analysis.\n",
    "We will only make more precise manual adjustments for two of these countries."
   ],
   "metadata": {
    "collapsed": false,
    "pycharm": {
     "name": "#%% md\n"
    }
   }
  },
  {
   "cell_type": "code",
   "execution_count": 17,
   "outputs": [
    {
     "data": {
      "text/plain": "Country                         0\nYear                            0\nGDP per capita (PPP dollars)    0\nGDP per capita                  0\ndtype: int64"
     },
     "execution_count": 17,
     "metadata": {},
     "output_type": "execute_result"
    }
   ],
   "source": [
    "df_gdp[ColGdp.gdp_per_capita].fillna(df_gdp[ColGdp.gdp_per_capita_ppp], inplace=True)\n",
    "df_gdp.isnull().sum()"
   ],
   "metadata": {
    "collapsed": false,
    "pycharm": {
     "name": "#%%\n"
    }
   }
  },
  {
   "cell_type": "markdown",
   "source": [
    "Now there are no more missing values."
   ],
   "metadata": {
    "collapsed": false,
    "pycharm": {
     "name": "#%% md\n"
    }
   }
  },
  {
   "cell_type": "markdown",
   "source": [
    "#### Manual adjustments for selected countries"
   ],
   "metadata": {
    "collapsed": false,
    "pycharm": {
     "name": "#%% md\n"
    }
   }
  },
  {
   "cell_type": "markdown",
   "source": [
    "We separately adjust the data points for [Venezuela](https://en.wikipedia.org/wiki/Venezuela)\n",
    "and [Taiwan](https://en.wikipedia.org/wiki/Taiwan)."
   ],
   "metadata": {
    "collapsed": false,
    "pycharm": {
     "name": "#%% md\n"
    }
   }
  },
  {
   "cell_type": "markdown",
   "source": [
    "[Venezuela](https://en.wikipedia.org/wiki/Venezuela)\n",
    "is a country with large [oil and natural gas reserves](https://en.wikipedia.org/wiki/Venezuela#Petroleum_and_other_resources)\n",
    "that experienced a significant decline in both\n",
    "[GDP](https://countryeconomy.com/gdp/venezuela#:~:text=The%20GDP%20per%20capita%20of,2017%2C%20when%20it%20was%20%244%2C894.)\n",
    "and [democracy index](https://en.wikipedia.org/wiki/Democracy_Index#By_country)\n",
    "since 2015.\n",
    "The GDP per capita fell from ca. 10,000 USD in 2015 to less than 4,000 USD in 2018.\n",
    "We will approximate the missing GDP value with the latter figure."
   ],
   "metadata": {
    "collapsed": false,
    "pycharm": {
     "name": "#%% md\n"
    }
   }
  },
  {
   "cell_type": "code",
   "execution_count": 18,
   "outputs": [
    {
     "data": {
      "text/plain": "4000.0"
     },
     "execution_count": 18,
     "metadata": {},
     "output_type": "execute_result"
    }
   ],
   "source": [
    "df_gdp.at['ven', ColGdp.gdp_per_capita] = 4000\n",
    "df_gdp[ColGdp.gdp_per_capita]['ven']"
   ],
   "metadata": {
    "collapsed": false,
    "pycharm": {
     "name": "#%%\n"
    }
   }
  },
  {
   "cell_type": "markdown",
   "source": [
    "[Taiwan](https://en.wikipedia.org/wiki/Taiwan), officially the Republic of China (ROC),\n",
    "is a developed democratic country in East Asia.\n",
    "It's political status is disputed because it's considered by China as one if its provinces.\n",
    "Only few other countries maintain official diplomatic relations with it.\n",
    "Yet, many contries, including China, cooperate economically.\n",
    "Taiwans high-tech industry plays an important role for economies worldwide.\n",
    "As an example, its semiconductor contract manufacturers have\n",
    "[over 50% of world market share](https://www.cnbc.com/2021/03/16/2-charts-show-how-much-the-world-depends-on-taiwan-for-semiconductors.html).\n",
    "\n",
    "Taiwans disputed political status could also be a reason why it's missing in some data sets,\n",
    "esp. the ones from the World Bank,\n",
    "so that we have to separately collect it from other sources,\n",
    "e.g., [Wikipedia](https://en.wikipedia.org/wiki/Economy_of_Taiwan).\n",
    "Based on various sources on the Internet, we will approximate its GDP per capita for 2018 by 25,000 in current USD."
   ],
   "metadata": {
    "collapsed": false,
    "pycharm": {
     "name": "#%% md\n"
    }
   }
  },
  {
   "cell_type": "code",
   "execution_count": 19,
   "outputs": [
    {
     "data": {
      "text/plain": "25000.0"
     },
     "execution_count": 19,
     "metadata": {},
     "output_type": "execute_result"
    }
   ],
   "source": [
    "df_gdp.at['twn', ColGdp.gdp_per_capita] = 25000\n",
    "df_gdp[ColGdp.gdp_per_capita]['twn']"
   ],
   "metadata": {
    "collapsed": false,
    "pycharm": {
     "name": "#%%\n"
    }
   }
  },
  {
   "cell_type": "markdown",
   "source": [
    "<a id='total-population'></a>\n",
    "## The total population data set\n",
    "\n",
    "We investigate the data set \"Total population\",\n",
    "available [here](https://data.worldbank.org/indicator/SP.POP.TOTL) from the World Bank.\n",
    "We consider the data on total population for the year 2018."
   ],
   "metadata": {
    "collapsed": false,
    "pycharm": {
     "name": "#%% md\n"
    }
   }
  },
  {
   "cell_type": "code",
   "execution_count": 20,
   "outputs": [
    {
     "name": "stdout",
     "output_type": "stream",
     "text": [
      "class ColPop:\n",
      "\tcountry_code = \"Country code\"\n",
      "\tcountry = \"Country\"\n",
      "\tpopulation = \"Population\"\n"
     ]
    }
   ],
   "source": [
    "print_declared_class_attributes(ColPop)"
   ],
   "metadata": {
    "collapsed": false,
    "pycharm": {
     "name": "#%%\n"
    }
   }
  },
  {
   "cell_type": "code",
   "execution_count": 21,
   "outputs": [
    {
     "data": {
      "text/plain": "                  Country  Population\nCountry code                         \nABW                 Aruba    105845.0\nAFG           Afghanistan  37172386.0\nAGO                Angola  30809762.0\nALB               Albania   2866376.0\nAND               Andorra     77006.0",
      "text/html": "<div>\n<style scoped>\n    .dataframe tbody tr th:only-of-type {\n        vertical-align: middle;\n    }\n\n    .dataframe tbody tr th {\n        vertical-align: top;\n    }\n\n    .dataframe thead th {\n        text-align: right;\n    }\n</style>\n<table border=\"1\" class=\"dataframe\">\n  <thead>\n    <tr style=\"text-align: right;\">\n      <th></th>\n      <th>Country</th>\n      <th>Population</th>\n    </tr>\n    <tr>\n      <th>Country code</th>\n      <th></th>\n      <th></th>\n    </tr>\n  </thead>\n  <tbody>\n    <tr>\n      <th>ABW</th>\n      <td>Aruba</td>\n      <td>105845.0</td>\n    </tr>\n    <tr>\n      <th>AFG</th>\n      <td>Afghanistan</td>\n      <td>37172386.0</td>\n    </tr>\n    <tr>\n      <th>AGO</th>\n      <td>Angola</td>\n      <td>30809762.0</td>\n    </tr>\n    <tr>\n      <th>ALB</th>\n      <td>Albania</td>\n      <td>2866376.0</td>\n    </tr>\n    <tr>\n      <th>AND</th>\n      <td>Andorra</td>\n      <td>77006.0</td>\n    </tr>\n  </tbody>\n</table>\n</div>"
     },
     "execution_count": 21,
     "metadata": {},
     "output_type": "execute_result"
    }
   ],
   "source": [
    "df_pop = read_csv('../resources/project/API_SP.POP.TOTL_DS2_en_csv_v2_2163507_WorldBank_total_population.csv',\n",
    "    header=2,\n",
    "    usecols=[\"Country Name\", \"Country Code\", f\"{the_year}\"],\n",
    "    col_names=[ColPop.country, ColPop.country_code, ColPop.population],\n",
    "    indexcol=ColPop.country_code)\n",
    "df_pop.head()"
   ],
   "metadata": {
    "collapsed": false,
    "pycharm": {
     "name": "#%%\n"
    }
   }
  },
  {
   "cell_type": "markdown",
   "source": [
    "Convert the country codes to lower case so that it matches the country codes in the other data frames."
   ],
   "metadata": {
    "collapsed": false,
    "pycharm": {
     "name": "#%% md\n"
    }
   }
  },
  {
   "cell_type": "code",
   "execution_count": 22,
   "outputs": [
    {
     "data": {
      "text/plain": "                  Country  Population\nCountry code                         \nabw                 Aruba    105845.0\nafg           Afghanistan  37172386.0\nago                Angola  30809762.0\nalb               Albania   2866376.0\nand               Andorra     77006.0",
      "text/html": "<div>\n<style scoped>\n    .dataframe tbody tr th:only-of-type {\n        vertical-align: middle;\n    }\n\n    .dataframe tbody tr th {\n        vertical-align: top;\n    }\n\n    .dataframe thead th {\n        text-align: right;\n    }\n</style>\n<table border=\"1\" class=\"dataframe\">\n  <thead>\n    <tr style=\"text-align: right;\">\n      <th></th>\n      <th>Country</th>\n      <th>Population</th>\n    </tr>\n    <tr>\n      <th>Country code</th>\n      <th></th>\n      <th></th>\n    </tr>\n  </thead>\n  <tbody>\n    <tr>\n      <th>abw</th>\n      <td>Aruba</td>\n      <td>105845.0</td>\n    </tr>\n    <tr>\n      <th>afg</th>\n      <td>Afghanistan</td>\n      <td>37172386.0</td>\n    </tr>\n    <tr>\n      <th>ago</th>\n      <td>Angola</td>\n      <td>30809762.0</td>\n    </tr>\n    <tr>\n      <th>alb</th>\n      <td>Albania</td>\n      <td>2866376.0</td>\n    </tr>\n    <tr>\n      <th>and</th>\n      <td>Andorra</td>\n      <td>77006.0</td>\n    </tr>\n  </tbody>\n</table>\n</div>"
     },
     "execution_count": 22,
     "metadata": {},
     "output_type": "execute_result"
    }
   ],
   "source": [
    "df_pop.index = df_pop.index.str.lower()\n",
    "df_pop.head()"
   ],
   "metadata": {
    "collapsed": false,
    "pycharm": {
     "name": "#%%\n"
    }
   }
  },
  {
   "cell_type": "code",
   "execution_count": 23,
   "outputs": [
    {
     "name": "stdout",
     "output_type": "stream",
     "text": [
      "<class 'pandas.core.frame.DataFrame'>\n",
      "Index: 264 entries, abw to zwe\n",
      "Data columns (total 2 columns):\n",
      " #   Column      Non-Null Count  Dtype  \n",
      "---  ------      --------------  -----  \n",
      " 0   Country     264 non-null    object \n",
      " 1   Population  262 non-null    float64\n",
      "dtypes: float64(1), object(1)\n",
      "memory usage: 6.2+ KB\n"
     ]
    }
   ],
   "source": [
    "df_pop.info()"
   ],
   "metadata": {
    "collapsed": false,
    "pycharm": {
     "name": "#%%\n"
    }
   }
  },
  {
   "cell_type": "code",
   "execution_count": 24,
   "outputs": [
    {
     "data": {
      "text/plain": "                     Country  Population\nCountry code                            \neri                  Eritrea         NaN\ninx           Not classified         NaN",
      "text/html": "<div>\n<style scoped>\n    .dataframe tbody tr th:only-of-type {\n        vertical-align: middle;\n    }\n\n    .dataframe tbody tr th {\n        vertical-align: top;\n    }\n\n    .dataframe thead th {\n        text-align: right;\n    }\n</style>\n<table border=\"1\" class=\"dataframe\">\n  <thead>\n    <tr style=\"text-align: right;\">\n      <th></th>\n      <th>Country</th>\n      <th>Population</th>\n    </tr>\n    <tr>\n      <th>Country code</th>\n      <th></th>\n      <th></th>\n    </tr>\n  </thead>\n  <tbody>\n    <tr>\n      <th>eri</th>\n      <td>Eritrea</td>\n      <td>NaN</td>\n    </tr>\n    <tr>\n      <th>inx</th>\n      <td>Not classified</td>\n      <td>NaN</td>\n    </tr>\n  </tbody>\n</table>\n</div>"
     },
     "execution_count": 24,
     "metadata": {},
     "output_type": "execute_result"
    }
   ],
   "source": [
    "df_pop[df_pop[ColPop.population].isnull()]"
   ],
   "metadata": {
    "collapsed": false,
    "pycharm": {
     "name": "#%%\n"
    }
   }
  },
  {
   "cell_type": "markdown",
   "source": [
    "There are two rows with missing population figures. We will omit these rows for our analysis."
   ],
   "metadata": {
    "collapsed": false,
    "pycharm": {
     "name": "#%% md\n"
    }
   }
  },
  {
   "cell_type": "code",
   "execution_count": 25,
   "outputs": [],
   "source": [
    "df_pop.dropna(inplace=True)"
   ],
   "metadata": {
    "collapsed": false,
    "pycharm": {
     "name": "#%%\n"
    }
   }
  },
  {
   "cell_type": "code",
   "execution_count": 26,
   "outputs": [
    {
     "data": {
      "text/plain": "                             Country    Population\nCountry code                                      \nwld                            World  7.591945e+09\nibt                 IDA & IBRD total  6.410739e+09\nlmy              Low & middle income  6.361430e+09\nmic                    Middle income  5.710102e+09\nibd                        IBRD only  4.777257e+09\n...                              ...           ...\ngib                        Gibraltar  3.371800e+04\nvgb           British Virgin Islands  2.980200e+04\nplw                            Palau  1.790700e+04\nnru                            Nauru  1.270400e+04\ntuv                           Tuvalu  1.150800e+04\n\n[262 rows x 2 columns]",
      "text/html": "<div>\n<style scoped>\n    .dataframe tbody tr th:only-of-type {\n        vertical-align: middle;\n    }\n\n    .dataframe tbody tr th {\n        vertical-align: top;\n    }\n\n    .dataframe thead th {\n        text-align: right;\n    }\n</style>\n<table border=\"1\" class=\"dataframe\">\n  <thead>\n    <tr style=\"text-align: right;\">\n      <th></th>\n      <th>Country</th>\n      <th>Population</th>\n    </tr>\n    <tr>\n      <th>Country code</th>\n      <th></th>\n      <th></th>\n    </tr>\n  </thead>\n  <tbody>\n    <tr>\n      <th>wld</th>\n      <td>World</td>\n      <td>7.591945e+09</td>\n    </tr>\n    <tr>\n      <th>ibt</th>\n      <td>IDA &amp; IBRD total</td>\n      <td>6.410739e+09</td>\n    </tr>\n    <tr>\n      <th>lmy</th>\n      <td>Low &amp; middle income</td>\n      <td>6.361430e+09</td>\n    </tr>\n    <tr>\n      <th>mic</th>\n      <td>Middle income</td>\n      <td>5.710102e+09</td>\n    </tr>\n    <tr>\n      <th>ibd</th>\n      <td>IBRD only</td>\n      <td>4.777257e+09</td>\n    </tr>\n    <tr>\n      <th>...</th>\n      <td>...</td>\n      <td>...</td>\n    </tr>\n    <tr>\n      <th>gib</th>\n      <td>Gibraltar</td>\n      <td>3.371800e+04</td>\n    </tr>\n    <tr>\n      <th>vgb</th>\n      <td>British Virgin Islands</td>\n      <td>2.980200e+04</td>\n    </tr>\n    <tr>\n      <th>plw</th>\n      <td>Palau</td>\n      <td>1.790700e+04</td>\n    </tr>\n    <tr>\n      <th>nru</th>\n      <td>Nauru</td>\n      <td>1.270400e+04</td>\n    </tr>\n    <tr>\n      <th>tuv</th>\n      <td>Tuvalu</td>\n      <td>1.150800e+04</td>\n    </tr>\n  </tbody>\n</table>\n<p>262 rows × 2 columns</p>\n</div>"
     },
     "execution_count": 26,
     "metadata": {},
     "output_type": "execute_result"
    }
   ],
   "source": [
    "df_pop.sort_values(by=ColPop.population, ascending=False)"
   ],
   "metadata": {
    "collapsed": false,
    "pycharm": {
     "name": "#%%\n"
    }
   }
  },
  {
   "cell_type": "markdown",
   "source": [
    "It turns out that the data set contains more values, than just the population by country.\n",
    "For example, it has a row for the total world population and also rows for population by region and income.\n",
    "This data would only disturb our analysis, so we filter the data set to contain only countries\n",
    "that are also present in the other data sets."
   ],
   "metadata": {
    "collapsed": false,
    "pycharm": {
     "name": "#%% md\n"
    }
   }
  },
  {
   "cell_type": "code",
   "execution_count": 27,
   "outputs": [
    {
     "name": "stdout",
     "output_type": "stream",
     "text": [
      "<class 'pandas.core.frame.DataFrame'>\n",
      "Index: 193 entries, afg to zwe\n",
      "Data columns (total 2 columns):\n",
      " #   Column      Non-Null Count  Dtype  \n",
      "---  ------      --------------  -----  \n",
      " 0   Country     193 non-null    object \n",
      " 1   Population  193 non-null    float64\n",
      "dtypes: float64(1), object(1)\n",
      "memory usage: 4.5+ KB\n"
     ]
    }
   ],
   "source": [
    "df_pop = df_pop.filter(df_gdp.index, axis='index')\n",
    "df_pop.info()"
   ],
   "metadata": {
    "collapsed": false,
    "pycharm": {
     "name": "#%%\n"
    }
   }
  },
  {
   "cell_type": "markdown",
   "source": [
    "The `population` column should contain integers, but was imported as `float64`,\n",
    "probably because of the rows with missing values.\n",
    "We will convert the column to `int64`."
   ],
   "metadata": {
    "collapsed": false,
    "pycharm": {
     "name": "#%% md\n"
    }
   }
  },
  {
   "cell_type": "code",
   "execution_count": 28,
   "outputs": [
    {
     "data": {
      "text/plain": "                  Country  Population\nCountry code                         \nafg           Afghanistan    37172386\nalb               Albania     2866376\ndza               Algeria    42228429\nand               Andorra       77006\nago                Angola    30809762",
      "text/html": "<div>\n<style scoped>\n    .dataframe tbody tr th:only-of-type {\n        vertical-align: middle;\n    }\n\n    .dataframe tbody tr th {\n        vertical-align: top;\n    }\n\n    .dataframe thead th {\n        text-align: right;\n    }\n</style>\n<table border=\"1\" class=\"dataframe\">\n  <thead>\n    <tr style=\"text-align: right;\">\n      <th></th>\n      <th>Country</th>\n      <th>Population</th>\n    </tr>\n    <tr>\n      <th>Country code</th>\n      <th></th>\n      <th></th>\n    </tr>\n  </thead>\n  <tbody>\n    <tr>\n      <th>afg</th>\n      <td>Afghanistan</td>\n      <td>37172386</td>\n    </tr>\n    <tr>\n      <th>alb</th>\n      <td>Albania</td>\n      <td>2866376</td>\n    </tr>\n    <tr>\n      <th>dza</th>\n      <td>Algeria</td>\n      <td>42228429</td>\n    </tr>\n    <tr>\n      <th>and</th>\n      <td>Andorra</td>\n      <td>77006</td>\n    </tr>\n    <tr>\n      <th>ago</th>\n      <td>Angola</td>\n      <td>30809762</td>\n    </tr>\n  </tbody>\n</table>\n</div>"
     },
     "execution_count": 28,
     "metadata": {},
     "output_type": "execute_result"
    }
   ],
   "source": [
    "df_pop[ColPop.population] = df_pop[ColPop.population].astype('int64')\n",
    "df_pop.head()"
   ],
   "metadata": {
    "collapsed": false,
    "pycharm": {
     "name": "#%%\n"
    }
   }
  },
  {
   "cell_type": "code",
   "execution_count": 29,
   "outputs": [
    {
     "name": "stdout",
     "output_type": "stream",
     "text": [
      "<class 'pandas.core.frame.DataFrame'>\n",
      "Index: 193 entries, afg to zwe\n",
      "Data columns (total 2 columns):\n",
      " #   Column      Non-Null Count  Dtype \n",
      "---  ------      --------------  ----- \n",
      " 0   Country     193 non-null    object\n",
      " 1   Population  193 non-null    int64 \n",
      "dtypes: int64(1), object(1)\n",
      "memory usage: 4.5+ KB\n"
     ]
    }
   ],
   "source": [
    "df_pop.info()"
   ],
   "metadata": {
    "collapsed": false,
    "pycharm": {
     "name": "#%%\n"
    }
   }
  },
  {
   "cell_type": "markdown",
   "source": [
    "As for GDP, the data for Taiwan is missing. We approximate it by 23 million."
   ],
   "metadata": {
    "collapsed": false,
    "pycharm": {
     "name": "#%% md\n"
    }
   }
  },
  {
   "cell_type": "code",
   "execution_count": 30,
   "outputs": [
    {
     "data": {
      "text/plain": "23000000.0"
     },
     "execution_count": 30,
     "metadata": {},
     "output_type": "execute_result"
    }
   ],
   "source": [
    "df_pop.at['twn', ColPop.population] = 23000000\n",
    "df_pop[ColPop.population]['twn']"
   ],
   "metadata": {
    "collapsed": false,
    "pycharm": {
     "name": "#%%\n"
    }
   }
  },
  {
   "cell_type": "markdown",
   "source": [
    "Now the population data set has been cleaned for our intended analysis."
   ],
   "metadata": {
    "collapsed": false,
    "pycharm": {
     "name": "#%% md\n"
    }
   }
  },
  {
   "cell_type": "markdown",
   "source": [
    "<a id='fuel-exports'></a>\n",
    "## The fuel exports data set\n",
    "\n",
    "We investigate the data set \"Fuel exports (% of merchandise exports)\",\n",
    "available [here](https://data.worldbank.org/indicator/TX.VAL.FUEL.ZS.UN) from the World Bank.\n",
    "We consider the data on fuel exports for the year 2018."
   ],
   "metadata": {
    "collapsed": false,
    "pycharm": {
     "name": "#%% md\n"
    }
   }
  },
  {
   "cell_type": "code",
   "execution_count": 31,
   "outputs": [
    {
     "name": "stdout",
     "output_type": "stream",
     "text": [
      "class ColFuel:\n",
      "\tcountry_code = \"Country code\"\n",
      "\tcountry = \"Country\"\n",
      "\tfuel_exports = \"Fuel exports (% of merchandise exports)\"\n"
     ]
    }
   ],
   "source": [
    "print_declared_class_attributes(ColFuel)"
   ],
   "metadata": {
    "collapsed": false,
    "pycharm": {
     "name": "#%%\n"
    }
   }
  },
  {
   "cell_type": "markdown",
   "source": [
    "We expect some missing values for 2018,\n",
    "so we also import the data for 2 previous years in order to fill the gaps."
   ],
   "metadata": {
    "collapsed": false,
    "pycharm": {
     "name": "#%% md\n"
    }
   }
  },
  {
   "cell_type": "code",
   "execution_count": 32,
   "outputs": [
    {
     "data": {
      "text/plain": "                  Country  Fuel exports 2 years ago  Fuel exports 1 year ago  \\\nCountry code                                                                   \nABW                 Aruba                  0.104982                 0.114804   \nAFG           Afghanistan                       NaN                      NaN   \nAGO                Angola                 92.701056                94.691252   \nALB               Albania                 11.175063                 0.824033   \nAND               Andorra                  0.010607                 0.008582   \n\n              Fuel exports (% of merchandise exports)  \nCountry code                                           \nABW                                          0.059140  \nAFG                                         10.213180  \nAGO                                         92.417810  \nALB                                          1.662666  \nAND                                          0.013639  ",
      "text/html": "<div>\n<style scoped>\n    .dataframe tbody tr th:only-of-type {\n        vertical-align: middle;\n    }\n\n    .dataframe tbody tr th {\n        vertical-align: top;\n    }\n\n    .dataframe thead th {\n        text-align: right;\n    }\n</style>\n<table border=\"1\" class=\"dataframe\">\n  <thead>\n    <tr style=\"text-align: right;\">\n      <th></th>\n      <th>Country</th>\n      <th>Fuel exports 2 years ago</th>\n      <th>Fuel exports 1 year ago</th>\n      <th>Fuel exports (% of merchandise exports)</th>\n    </tr>\n    <tr>\n      <th>Country code</th>\n      <th></th>\n      <th></th>\n      <th></th>\n      <th></th>\n    </tr>\n  </thead>\n  <tbody>\n    <tr>\n      <th>ABW</th>\n      <td>Aruba</td>\n      <td>0.104982</td>\n      <td>0.114804</td>\n      <td>0.059140</td>\n    </tr>\n    <tr>\n      <th>AFG</th>\n      <td>Afghanistan</td>\n      <td>NaN</td>\n      <td>NaN</td>\n      <td>10.213180</td>\n    </tr>\n    <tr>\n      <th>AGO</th>\n      <td>Angola</td>\n      <td>92.701056</td>\n      <td>94.691252</td>\n      <td>92.417810</td>\n    </tr>\n    <tr>\n      <th>ALB</th>\n      <td>Albania</td>\n      <td>11.175063</td>\n      <td>0.824033</td>\n      <td>1.662666</td>\n    </tr>\n    <tr>\n      <th>AND</th>\n      <td>Andorra</td>\n      <td>0.010607</td>\n      <td>0.008582</td>\n      <td>0.013639</td>\n    </tr>\n  </tbody>\n</table>\n</div>"
     },
     "execution_count": 32,
     "metadata": {},
     "output_type": "execute_result"
    }
   ],
   "source": [
    "fuel_exports_2_years_ago = \"Fuel exports 2 years ago\"\n",
    "fuel_exports_1_year_ago = \"Fuel exports 1 year ago\"\n",
    "df_fuel = read_csv('../resources/project/API_TX.VAL.FUEL.ZS.UN_DS2_en_csv_v2_2167156_WorldBank_fuel_exports.csv',\n",
    "    header=2,\n",
    "    usecols=[\"Country Name\", \"Country Code\", f\"{the_year - 2}\", f\"{the_year - 1}\", f\"{the_year}\"],\n",
    "    col_names=[ColFuel.country, ColFuel.country_code, fuel_exports_2_years_ago, fuel_exports_1_year_ago, ColFuel.fuel_exports],\n",
    "    indexcol=ColFuel.country_code)\n",
    "df_fuel.head()"
   ],
   "metadata": {
    "collapsed": false,
    "pycharm": {
     "name": "#%%\n"
    }
   }
  },
  {
   "cell_type": "markdown",
   "source": [
    "Convert the country codes to lower case so that it matches the country codes in the other data frames."
   ],
   "metadata": {
    "collapsed": false,
    "pycharm": {
     "name": "#%% md\n"
    }
   }
  },
  {
   "cell_type": "code",
   "execution_count": 33,
   "outputs": [
    {
     "data": {
      "text/plain": "                  Country  Fuel exports 2 years ago  Fuel exports 1 year ago  \\\nCountry code                                                                   \nabw                 Aruba                  0.104982                 0.114804   \nafg           Afghanistan                       NaN                      NaN   \nago                Angola                 92.701056                94.691252   \nalb               Albania                 11.175063                 0.824033   \nand               Andorra                  0.010607                 0.008582   \n\n              Fuel exports (% of merchandise exports)  \nCountry code                                           \nabw                                          0.059140  \nafg                                         10.213180  \nago                                         92.417810  \nalb                                          1.662666  \nand                                          0.013639  ",
      "text/html": "<div>\n<style scoped>\n    .dataframe tbody tr th:only-of-type {\n        vertical-align: middle;\n    }\n\n    .dataframe tbody tr th {\n        vertical-align: top;\n    }\n\n    .dataframe thead th {\n        text-align: right;\n    }\n</style>\n<table border=\"1\" class=\"dataframe\">\n  <thead>\n    <tr style=\"text-align: right;\">\n      <th></th>\n      <th>Country</th>\n      <th>Fuel exports 2 years ago</th>\n      <th>Fuel exports 1 year ago</th>\n      <th>Fuel exports (% of merchandise exports)</th>\n    </tr>\n    <tr>\n      <th>Country code</th>\n      <th></th>\n      <th></th>\n      <th></th>\n      <th></th>\n    </tr>\n  </thead>\n  <tbody>\n    <tr>\n      <th>abw</th>\n      <td>Aruba</td>\n      <td>0.104982</td>\n      <td>0.114804</td>\n      <td>0.059140</td>\n    </tr>\n    <tr>\n      <th>afg</th>\n      <td>Afghanistan</td>\n      <td>NaN</td>\n      <td>NaN</td>\n      <td>10.213180</td>\n    </tr>\n    <tr>\n      <th>ago</th>\n      <td>Angola</td>\n      <td>92.701056</td>\n      <td>94.691252</td>\n      <td>92.417810</td>\n    </tr>\n    <tr>\n      <th>alb</th>\n      <td>Albania</td>\n      <td>11.175063</td>\n      <td>0.824033</td>\n      <td>1.662666</td>\n    </tr>\n    <tr>\n      <th>and</th>\n      <td>Andorra</td>\n      <td>0.010607</td>\n      <td>0.008582</td>\n      <td>0.013639</td>\n    </tr>\n  </tbody>\n</table>\n</div>"
     },
     "execution_count": 33,
     "metadata": {},
     "output_type": "execute_result"
    }
   ],
   "source": [
    "df_fuel.index = df_fuel.index.str.lower()\n",
    "df_fuel.head()"
   ],
   "metadata": {
    "collapsed": false,
    "pycharm": {
     "name": "#%%\n"
    }
   }
  },
  {
   "cell_type": "code",
   "execution_count": 34,
   "outputs": [
    {
     "data": {
      "text/plain": "                             Country  Fuel exports 2 years ago  \\\nCountry code                                                     \nasm                   American Samoa                       NaN   \nbgd                       Bangladesh                       NaN   \nbtn                           Bhutan                       NaN   \nchi                  Channel Islands                       NaN   \ncmr                         Cameroon                  7.692626   \n...                              ...                       ...   \nvgb           British Virgin Islands                       NaN   \nvir            Virgin Islands (U.S.)                       NaN   \nvut                          Vanuatu                       NaN   \nxkx                           Kosovo                       NaN   \nyem                      Yemen, Rep.                       NaN   \n\n              Fuel exports 1 year ago  Fuel exports (% of merchandise exports)  \nCountry code                                                                    \nasm                               NaN                                      NaN  \nbgd                               NaN                                      NaN  \nbtn                               NaN                                      NaN  \nchi                               NaN                                      NaN  \ncmr                         43.449411                                      NaN  \n...                               ...                                      ...  \nvgb                               NaN                                      NaN  \nvir                               NaN                                      NaN  \nvut                               NaN                                      NaN  \nxkx                               NaN                                      NaN  \nyem                               NaN                                      NaN  \n\n[79 rows x 4 columns]",
      "text/html": "<div>\n<style scoped>\n    .dataframe tbody tr th:only-of-type {\n        vertical-align: middle;\n    }\n\n    .dataframe tbody tr th {\n        vertical-align: top;\n    }\n\n    .dataframe thead th {\n        text-align: right;\n    }\n</style>\n<table border=\"1\" class=\"dataframe\">\n  <thead>\n    <tr style=\"text-align: right;\">\n      <th></th>\n      <th>Country</th>\n      <th>Fuel exports 2 years ago</th>\n      <th>Fuel exports 1 year ago</th>\n      <th>Fuel exports (% of merchandise exports)</th>\n    </tr>\n    <tr>\n      <th>Country code</th>\n      <th></th>\n      <th></th>\n      <th></th>\n      <th></th>\n    </tr>\n  </thead>\n  <tbody>\n    <tr>\n      <th>asm</th>\n      <td>American Samoa</td>\n      <td>NaN</td>\n      <td>NaN</td>\n      <td>NaN</td>\n    </tr>\n    <tr>\n      <th>bgd</th>\n      <td>Bangladesh</td>\n      <td>NaN</td>\n      <td>NaN</td>\n      <td>NaN</td>\n    </tr>\n    <tr>\n      <th>btn</th>\n      <td>Bhutan</td>\n      <td>NaN</td>\n      <td>NaN</td>\n      <td>NaN</td>\n    </tr>\n    <tr>\n      <th>chi</th>\n      <td>Channel Islands</td>\n      <td>NaN</td>\n      <td>NaN</td>\n      <td>NaN</td>\n    </tr>\n    <tr>\n      <th>cmr</th>\n      <td>Cameroon</td>\n      <td>7.692626</td>\n      <td>43.449411</td>\n      <td>NaN</td>\n    </tr>\n    <tr>\n      <th>...</th>\n      <td>...</td>\n      <td>...</td>\n      <td>...</td>\n      <td>...</td>\n    </tr>\n    <tr>\n      <th>vgb</th>\n      <td>British Virgin Islands</td>\n      <td>NaN</td>\n      <td>NaN</td>\n      <td>NaN</td>\n    </tr>\n    <tr>\n      <th>vir</th>\n      <td>Virgin Islands (U.S.)</td>\n      <td>NaN</td>\n      <td>NaN</td>\n      <td>NaN</td>\n    </tr>\n    <tr>\n      <th>vut</th>\n      <td>Vanuatu</td>\n      <td>NaN</td>\n      <td>NaN</td>\n      <td>NaN</td>\n    </tr>\n    <tr>\n      <th>xkx</th>\n      <td>Kosovo</td>\n      <td>NaN</td>\n      <td>NaN</td>\n      <td>NaN</td>\n    </tr>\n    <tr>\n      <th>yem</th>\n      <td>Yemen, Rep.</td>\n      <td>NaN</td>\n      <td>NaN</td>\n      <td>NaN</td>\n    </tr>\n  </tbody>\n</table>\n<p>79 rows × 4 columns</p>\n</div>"
     },
     "execution_count": 34,
     "metadata": {},
     "output_type": "execute_result"
    }
   ],
   "source": [
    "df_fuel[df_fuel[ColFuel.fuel_exports].isnull()]"
   ],
   "metadata": {
    "collapsed": false,
    "pycharm": {
     "name": "#%%\n"
    }
   }
  },
  {
   "cell_type": "markdown",
   "source": [
    "There are a lot of missing values.\n",
    "We fill try to fill them from the previous years."
   ],
   "metadata": {
    "collapsed": false,
    "pycharm": {
     "name": "#%% md\n"
    }
   }
  },
  {
   "cell_type": "code",
   "execution_count": 35,
   "outputs": [
    {
     "data": {
      "text/plain": "62"
     },
     "execution_count": 35,
     "metadata": {},
     "output_type": "execute_result"
    }
   ],
   "source": [
    "df_fuel.loc[:, fuel_exports_2_years_ago:] = df_fuel.loc[:, fuel_exports_2_years_ago:].fillna(method='ffill', axis='columns')\n",
    "df_fuel[ColFuel.fuel_exports].isnull().sum()"
   ],
   "metadata": {
    "collapsed": false,
    "pycharm": {
     "name": "#%%\n"
    }
   }
  },
  {
   "cell_type": "markdown",
   "source": [
    "There are still a lot of missing values: we now assume that those are no longer relevant for our analysis\n",
    "and fill them with 0."
   ],
   "metadata": {
    "collapsed": false,
    "pycharm": {
     "name": "#%% md\n"
    }
   }
  },
  {
   "cell_type": "code",
   "execution_count": 36,
   "outputs": [],
   "source": [
    "df_fuel.fillna(0, inplace=True)"
   ],
   "metadata": {
    "collapsed": false,
    "pycharm": {
     "name": "#%%\n"
    }
   }
  },
  {
   "cell_type": "markdown",
   "source": [
    "We drop the columns for previous years because we only needed them to fill missing values."
   ],
   "metadata": {
    "collapsed": false,
    "pycharm": {
     "name": "#%% md\n"
    }
   }
  },
  {
   "cell_type": "code",
   "execution_count": 37,
   "outputs": [
    {
     "data": {
      "text/plain": "                  Country  Fuel exports (% of merchandise exports)\nCountry code                                                      \nabw                 Aruba                                 0.059140\nafg           Afghanistan                                10.213180\nago                Angola                                92.417810\nalb               Albania                                 1.662666\nand               Andorra                                 0.013639",
      "text/html": "<div>\n<style scoped>\n    .dataframe tbody tr th:only-of-type {\n        vertical-align: middle;\n    }\n\n    .dataframe tbody tr th {\n        vertical-align: top;\n    }\n\n    .dataframe thead th {\n        text-align: right;\n    }\n</style>\n<table border=\"1\" class=\"dataframe\">\n  <thead>\n    <tr style=\"text-align: right;\">\n      <th></th>\n      <th>Country</th>\n      <th>Fuel exports (% of merchandise exports)</th>\n    </tr>\n    <tr>\n      <th>Country code</th>\n      <th></th>\n      <th></th>\n    </tr>\n  </thead>\n  <tbody>\n    <tr>\n      <th>abw</th>\n      <td>Aruba</td>\n      <td>0.059140</td>\n    </tr>\n    <tr>\n      <th>afg</th>\n      <td>Afghanistan</td>\n      <td>10.213180</td>\n    </tr>\n    <tr>\n      <th>ago</th>\n      <td>Angola</td>\n      <td>92.417810</td>\n    </tr>\n    <tr>\n      <th>alb</th>\n      <td>Albania</td>\n      <td>1.662666</td>\n    </tr>\n    <tr>\n      <th>and</th>\n      <td>Andorra</td>\n      <td>0.013639</td>\n    </tr>\n  </tbody>\n</table>\n</div>"
     },
     "execution_count": 37,
     "metadata": {},
     "output_type": "execute_result"
    }
   ],
   "source": [
    "df_fuel.drop(columns=[fuel_exports_2_years_ago, fuel_exports_1_year_ago], inplace=True)\n",
    "df_fuel.head()"
   ],
   "metadata": {
    "collapsed": false,
    "pycharm": {
     "name": "#%%\n"
    }
   }
  },
  {
   "cell_type": "code",
   "execution_count": 38,
   "outputs": [
    {
     "data": {
      "text/plain": "       Fuel exports (% of merchandise exports)\ncount                               264.000000\nmean                                 14.150729\nstd                                  23.942621\nmin                                   0.000000\n25%                                   0.000008\n50%                                   2.114630\n75%                                  15.619748\nmax                                  99.986485",
      "text/html": "<div>\n<style scoped>\n    .dataframe tbody tr th:only-of-type {\n        vertical-align: middle;\n    }\n\n    .dataframe tbody tr th {\n        vertical-align: top;\n    }\n\n    .dataframe thead th {\n        text-align: right;\n    }\n</style>\n<table border=\"1\" class=\"dataframe\">\n  <thead>\n    <tr style=\"text-align: right;\">\n      <th></th>\n      <th>Fuel exports (% of merchandise exports)</th>\n    </tr>\n  </thead>\n  <tbody>\n    <tr>\n      <th>count</th>\n      <td>264.000000</td>\n    </tr>\n    <tr>\n      <th>mean</th>\n      <td>14.150729</td>\n    </tr>\n    <tr>\n      <th>std</th>\n      <td>23.942621</td>\n    </tr>\n    <tr>\n      <th>min</th>\n      <td>0.000000</td>\n    </tr>\n    <tr>\n      <th>25%</th>\n      <td>0.000008</td>\n    </tr>\n    <tr>\n      <th>50%</th>\n      <td>2.114630</td>\n    </tr>\n    <tr>\n      <th>75%</th>\n      <td>15.619748</td>\n    </tr>\n    <tr>\n      <th>max</th>\n      <td>99.986485</td>\n    </tr>\n  </tbody>\n</table>\n</div>"
     },
     "execution_count": 38,
     "metadata": {},
     "output_type": "execute_result"
    }
   ],
   "source": [
    "df_fuel.describe()"
   ],
   "metadata": {
    "collapsed": false,
    "pycharm": {
     "name": "#%%\n"
    }
   }
  },
  {
   "cell_type": "code",
   "execution_count": 39,
   "outputs": [
    {
     "data": {
      "text/plain": "                                 Country  \\\nCountry code                               \nwld                                World   \nmea           Middle East & North Africa   \noed                         OECD members   \n\n              Fuel exports (% of merchandise exports)  \nCountry code                                           \nwld                                         14.251782  \nmea                                         67.595873  \noed                                          8.382116  ",
      "text/html": "<div>\n<style scoped>\n    .dataframe tbody tr th:only-of-type {\n        vertical-align: middle;\n    }\n\n    .dataframe tbody tr th {\n        vertical-align: top;\n    }\n\n    .dataframe thead th {\n        text-align: right;\n    }\n</style>\n<table border=\"1\" class=\"dataframe\">\n  <thead>\n    <tr style=\"text-align: right;\">\n      <th></th>\n      <th>Country</th>\n      <th>Fuel exports (% of merchandise exports)</th>\n    </tr>\n    <tr>\n      <th>Country code</th>\n      <th></th>\n      <th></th>\n    </tr>\n  </thead>\n  <tbody>\n    <tr>\n      <th>wld</th>\n      <td>World</td>\n      <td>14.251782</td>\n    </tr>\n    <tr>\n      <th>mea</th>\n      <td>Middle East &amp; North Africa</td>\n      <td>67.595873</td>\n    </tr>\n    <tr>\n      <th>oed</th>\n      <td>OECD members</td>\n      <td>8.382116</td>\n    </tr>\n  </tbody>\n</table>\n</div>"
     },
     "execution_count": 39,
     "metadata": {},
     "output_type": "execute_result"
    }
   ],
   "source": [
    "df_fuel.loc[['wld', 'mea', 'oed']]"
   ],
   "metadata": {
    "collapsed": false,
    "pycharm": {
     "name": "#%%\n"
    }
   }
  },
  {
   "cell_type": "markdown",
   "source": [
    "This data set, similarly to the population data set, contains more values than just the fuel exports by country.\n",
    "For example, it has a row for the world and for some world regions.\n",
    "This data would only disturb our analysis, so we filter the data set to contain only countries\n",
    "that are also present in the other data sets."
   ],
   "metadata": {
    "collapsed": false,
    "pycharm": {
     "name": "#%% md\n"
    }
   }
  },
  {
   "cell_type": "code",
   "execution_count": 40,
   "outputs": [
    {
     "name": "stdout",
     "output_type": "stream",
     "text": [
      "<class 'pandas.core.frame.DataFrame'>\n",
      "Index: 194 entries, afg to zwe\n",
      "Data columns (total 2 columns):\n",
      " #   Column                                   Non-Null Count  Dtype  \n",
      "---  ------                                   --------------  -----  \n",
      " 0   Country                                  194 non-null    object \n",
      " 1   Fuel exports (% of merchandise exports)  194 non-null    float64\n",
      "dtypes: float64(1), object(1)\n",
      "memory usage: 4.5+ KB\n"
     ]
    }
   ],
   "source": [
    "df_fuel = df_fuel.filter(df_gdp.index, axis='index')\n",
    "df_fuel.info()"
   ],
   "metadata": {
    "collapsed": false,
    "pycharm": {
     "name": "#%%\n"
    }
   }
  },
  {
   "cell_type": "markdown",
   "source": [
    "Now the fuel export data set has been cleaned for our intended analysis."
   ],
   "metadata": {
    "collapsed": false,
    "pycharm": {
     "name": "#%% md\n"
    }
   }
  },
  {
   "cell_type": "markdown",
   "source": [
    "<a id='democracy-index'></a>\n",
    "## The democracy index data set\n",
    "\n",
    "We investigate the data set \"Democracy indices\" published by the\n",
    "[The Economist Intelligence Unit](https://www.eiu.com/),\n",
    "available [here](https://data.worldbank.org/indicator/NY.GDP.PCAP.CD) from the World Bank.\n",
    "\n",
    "We consider the overall democracy index scores for the year 2018,\n",
    "calculated from five category indices measuring\n",
    "electoral process and pluralism, functioning of government, political participation, political culture, and civil liberties.\n",
    "Further freely available explanation on the democracy index can be found in the [Wikipedia article](https://en.wikipedia.org/wiki/Democracy_Index)."
   ],
   "metadata": {
    "collapsed": false,
    "pycharm": {
     "name": "#%% md\n"
    }
   }
  },
  {
   "cell_type": "code",
   "execution_count": 41,
   "outputs": [
    {
     "name": "stdout",
     "output_type": "stream",
     "text": [
      "class ColDem:\n",
      "\tcountry_code = \"Country code\"\n",
      "\tcountry = \"Country\"\n",
      "\tyear = \"Year\"\n",
      "\tdemocracy_index = \"Democracy index\"\n",
      "\tregime_type = \"Regime type\"\n"
     ]
    }
   ],
   "source": [
    "print_declared_class_attributes(ColDem)"
   ],
   "metadata": {
    "collapsed": false,
    "pycharm": {
     "name": "#%%\n"
    }
   }
  },
  {
   "cell_type": "code",
   "execution_count": 42,
   "outputs": [
    {
     "data": {
      "text/plain": "                  Country  Year  Democracy index\nCountry code                                    \nafg           Afghanistan  2018             29.7\nalb               Albania  2018             59.8\ndza               Algeria  2018             35.0\nago                Angola  2018             36.2\narg             Argentina  2018             70.2",
      "text/html": "<div>\n<style scoped>\n    .dataframe tbody tr th:only-of-type {\n        vertical-align: middle;\n    }\n\n    .dataframe tbody tr th {\n        vertical-align: top;\n    }\n\n    .dataframe thead th {\n        text-align: right;\n    }\n</style>\n<table border=\"1\" class=\"dataframe\">\n  <thead>\n    <tr style=\"text-align: right;\">\n      <th></th>\n      <th>Country</th>\n      <th>Year</th>\n      <th>Democracy index</th>\n    </tr>\n    <tr>\n      <th>Country code</th>\n      <th></th>\n      <th></th>\n      <th></th>\n    </tr>\n  </thead>\n  <tbody>\n    <tr>\n      <th>afg</th>\n      <td>Afghanistan</td>\n      <td>2018</td>\n      <td>29.7</td>\n    </tr>\n    <tr>\n      <th>alb</th>\n      <td>Albania</td>\n      <td>2018</td>\n      <td>59.8</td>\n    </tr>\n    <tr>\n      <th>dza</th>\n      <td>Algeria</td>\n      <td>2018</td>\n      <td>35.0</td>\n    </tr>\n    <tr>\n      <th>ago</th>\n      <td>Angola</td>\n      <td>2018</td>\n      <td>36.2</td>\n    </tr>\n    <tr>\n      <th>arg</th>\n      <td>Argentina</td>\n      <td>2018</td>\n      <td>70.2</td>\n    </tr>\n  </tbody>\n</table>\n</div>"
     },
     "execution_count": 42,
     "metadata": {},
     "output_type": "execute_result"
    }
   ],
   "source": [
    "df_dem = read_csv('../resources/project/EIU-Democracy-Indices_Dataset-v3_data-for-countries-by-year.csv',\n",
    "    usecols=[\"geo\", \"name\", \"time\", \"Democracy index (EIU)\"],\n",
    "    col_names=[ColDem.country_code, ColDem.country, ColDem.year, ColDem.democracy_index],\n",
    "    indexcol=ColDem.country_code)\n",
    "df_dem = df_dem[df_dem[ColDem.year] == the_year].copy()\n",
    "df_dem.head()"
   ],
   "metadata": {
    "collapsed": false,
    "pycharm": {
     "name": "#%%\n"
    }
   }
  },
  {
   "cell_type": "code",
   "execution_count": 43,
   "outputs": [
    {
     "name": "stdout",
     "output_type": "stream",
     "text": [
      "<class 'pandas.core.frame.DataFrame'>\n",
      "Index: 167 entries, afg to zwe\n",
      "Data columns (total 3 columns):\n",
      " #   Column           Non-Null Count  Dtype  \n",
      "---  ------           --------------  -----  \n",
      " 0   Country          167 non-null    object \n",
      " 1   Year             167 non-null    int64  \n",
      " 2   Democracy index  167 non-null    float64\n",
      "dtypes: float64(1), int64(1), object(1)\n",
      "memory usage: 5.2+ KB\n"
     ]
    }
   ],
   "source": [
    "df_dem.info()"
   ],
   "metadata": {
    "collapsed": false,
    "pycharm": {
     "name": "#%%\n"
    }
   }
  },
  {
   "cell_type": "markdown",
   "source": [
    "There are 167 rows and no missing values in the data set."
   ],
   "metadata": {
    "collapsed": false,
    "pycharm": {
     "name": "#%% md\n"
    }
   }
  },
  {
   "cell_type": "markdown",
   "source": [
    "We now calcluate the regime types. The EUI differentiates between\n",
    "full democracy, flawed democracy, hybrid regime, and authoritarian regime,\n",
    "cf. [EUI's democracy index visualization](https://infographics.economist.com/2018/DemocracyIndex/)\n",
    "or the [Wikipedia article on Democracy Index](https://en.wikipedia.org/wiki/Democracy_Index#By_regime_type).\n",
    "We simplify this differentiation to the 3 categories Democracy, Hybrid, and Authoritarian:\n",
    "\n",
    "| Type of Regime | Democracy Index |\n",
    "|:---------------|:----------------|\n",
    "| Democracy | 6 - 10 |\n",
    "| Hybrid | 4 - 6 |\n",
    "| Authoritarian | 0 - 4 |"
   ],
   "metadata": {
    "collapsed": false,
    "pycharm": {
     "name": "#%% md\n"
    }
   }
  },
  {
   "cell_type": "code",
   "execution_count": 44,
   "outputs": [
    {
     "name": "stdout",
     "output_type": "stream",
     "text": [
      "class RegimeType:\n",
      "\tdemocracy = \"Democracy\"\n",
      "\thybrid = \"Hybrid\"\n",
      "\tauthoritarian = \"Authoritarian\"\n",
      "\tvalues = \"['Democracy', 'Hybrid', 'Authoritarian']\"\n"
     ]
    }
   ],
   "source": [
    "print_declared_class_attributes(RegimeType)"
   ],
   "metadata": {
    "collapsed": false,
    "pycharm": {
     "name": "#%%\n"
    }
   }
  },
  {
   "cell_type": "code",
   "execution_count": 45,
   "outputs": [
    {
     "data": {
      "text/plain": "                  Country  Year  Democracy index    Regime type\nCountry code                                                   \nafg           Afghanistan  2018             29.7  Authoritarian\nalb               Albania  2018             59.8         Hybrid\ndza               Algeria  2018             35.0  Authoritarian\nago                Angola  2018             36.2  Authoritarian\narg             Argentina  2018             70.2      Democracy",
      "text/html": "<div>\n<style scoped>\n    .dataframe tbody tr th:only-of-type {\n        vertical-align: middle;\n    }\n\n    .dataframe tbody tr th {\n        vertical-align: top;\n    }\n\n    .dataframe thead th {\n        text-align: right;\n    }\n</style>\n<table border=\"1\" class=\"dataframe\">\n  <thead>\n    <tr style=\"text-align: right;\">\n      <th></th>\n      <th>Country</th>\n      <th>Year</th>\n      <th>Democracy index</th>\n      <th>Regime type</th>\n    </tr>\n    <tr>\n      <th>Country code</th>\n      <th></th>\n      <th></th>\n      <th></th>\n      <th></th>\n    </tr>\n  </thead>\n  <tbody>\n    <tr>\n      <th>afg</th>\n      <td>Afghanistan</td>\n      <td>2018</td>\n      <td>29.7</td>\n      <td>Authoritarian</td>\n    </tr>\n    <tr>\n      <th>alb</th>\n      <td>Albania</td>\n      <td>2018</td>\n      <td>59.8</td>\n      <td>Hybrid</td>\n    </tr>\n    <tr>\n      <th>dza</th>\n      <td>Algeria</td>\n      <td>2018</td>\n      <td>35.0</td>\n      <td>Authoritarian</td>\n    </tr>\n    <tr>\n      <th>ago</th>\n      <td>Angola</td>\n      <td>2018</td>\n      <td>36.2</td>\n      <td>Authoritarian</td>\n    </tr>\n    <tr>\n      <th>arg</th>\n      <td>Argentina</td>\n      <td>2018</td>\n      <td>70.2</td>\n      <td>Democracy</td>\n    </tr>\n  </tbody>\n</table>\n</div>"
     },
     "execution_count": 45,
     "metadata": {},
     "output_type": "execute_result"
    }
   ],
   "source": [
    "regime_types = [RegimeType.authoritarian, RegimeType.hybrid, RegimeType.democracy]\n",
    "regime_type_edges = [0, 40, 60, 100]\n",
    "df_dem[ColDem.regime_type] = pd.cut(df_dem[ColDem.democracy_index], bins=regime_type_edges, labels=regime_types)\n",
    "df_dem.head()"
   ],
   "metadata": {
    "collapsed": false,
    "pycharm": {
     "name": "#%%\n"
    }
   }
  },
  {
   "cell_type": "markdown",
   "source": [
    "### Assess missing data in democracy data frame"
   ],
   "metadata": {
    "collapsed": false,
    "pycharm": {
     "name": "#%% md\n"
    }
   }
  },
  {
   "cell_type": "code",
   "execution_count": 46,
   "outputs": [
    {
     "name": "stdout",
     "output_type": "stream",
     "text": [
      "Number of countries in GDP data frame: 195\n",
      "Number of countries in Democracy data frame: 167\n",
      "There are 28 countries with GDP data but no democracy index data\n"
     ]
    }
   ],
   "source": [
    "print(f\"Number of countries in GDP data frame: {len(df_gdp)}\")\n",
    "print(f\"Number of countries in Democracy data frame: {len(df_dem)}\")\n",
    "print(f\"There are {df_gdp.index.difference(df_dem.index).size} countries with GDP data but no democracy index data\")"
   ],
   "metadata": {
    "collapsed": false,
    "pycharm": {
     "name": "#%%\n"
    }
   }
  },
  {
   "cell_type": "markdown",
   "source": [
    "The democracy index data is missing for 28 countries.\n",
    "We want to check how much of GDP and population they represent to assess\n",
    "if we can omit them from our analysis."
   ],
   "metadata": {
    "collapsed": false,
    "pycharm": {
     "name": "#%% md\n"
    }
   }
  },
  {
   "cell_type": "code",
   "execution_count": 47,
   "outputs": [
    {
     "data": {
      "text/plain": "                                     Country  Year  \\\nCountry code                                         \nand                                  Andorra  2018   \natg                      Antigua and Barbuda  2018   \nbhs                                  Bahamas  2018   \nblz                                   Belize  2018   \nbrb                                 Barbados  2018   \nbrn                                   Brunei  2018   \ndma                                 Dominica  2018   \nfsm                    Micronesia, Fed. Sts.  2018   \ngrd                                  Grenada  2018   \nkir                                 Kiribati  2018   \nkna                      St. Kitts and Nevis  2018   \nlca                                St. Lucia  2018   \nmco                                   Monaco  2018   \nmdv                                 Maldives  2018   \nmhl                         Marshall Islands  2018   \nnru                                    Nauru  2018   \nplw                                    Palau  2018   \nslb                          Solomon Islands  2018   \nsmr                               San Marino  2018   \nsom                                  Somalia  2018   \nssd                              South Sudan  2018   \nstp                    Sao Tome and Principe  2018   \nsyc                               Seychelles  2018   \nton                                    Tonga  2018   \ntuv                                   Tuvalu  2018   \nvct           St. Vincent and the Grenadines  2018   \nvut                                  Vanuatu  2018   \nwsm                                    Samoa  2018   \n\n              GDP per capita (PPP dollars)  GDP per capita  Population  \nCountry code                                                            \nand                                  51494    41793.055258     77006.0  \natg                                  23768    16672.744240     96286.0  \nbhs                                  28833    33767.503371    385640.0  \nblz                                   7810     4884.734162    383071.0  \nbrb                                  16698    17745.193465    286641.0  \nbrn                                  71802    31628.328791    428962.0  \ndma                                   9467     7693.878870     71625.0  \nfsm                                   3196     3568.291016    112640.0  \ngrd                                  13970    10485.907157    111454.0  \nkir                                   2035     1698.256286    115847.0  \nkna                                  28295    19276.521267     52438.0  \nlca                                  12344    11357.889010    181889.0  \nmco                                  60712   185829.017960     38682.0  \nmdv                                  13611    10276.932815    515696.0  \nmhl                                   3599     3788.163594     58413.0  \nnru                                  13373     9762.389302     12704.0  \nplw                                  17202    15660.674597     17907.0  \nslb                                   2142     2441.517393    652858.0  \nsmr                                  57647    48995.142002     33785.0  \nsom                                    629      629.000000  15008154.0  \nssd                                   1772     1772.000000  10975920.0  \nstp                                   3033     1953.588290    211028.0  \nsyc                                  27114    16390.824908     96762.0  \nton                                   5696     4740.792149    103197.0  \ntuv                                   3593     3700.744263     11508.0  \nvct                                  10940     7361.400962    110210.0  \nvut                                   2846     3125.257989    292680.0  \nwsm                                   6089     4188.528346    196130.0  ",
      "text/html": "<div>\n<style scoped>\n    .dataframe tbody tr th:only-of-type {\n        vertical-align: middle;\n    }\n\n    .dataframe tbody tr th {\n        vertical-align: top;\n    }\n\n    .dataframe thead th {\n        text-align: right;\n    }\n</style>\n<table border=\"1\" class=\"dataframe\">\n  <thead>\n    <tr style=\"text-align: right;\">\n      <th></th>\n      <th>Country</th>\n      <th>Year</th>\n      <th>GDP per capita (PPP dollars)</th>\n      <th>GDP per capita</th>\n      <th>Population</th>\n    </tr>\n    <tr>\n      <th>Country code</th>\n      <th></th>\n      <th></th>\n      <th></th>\n      <th></th>\n      <th></th>\n    </tr>\n  </thead>\n  <tbody>\n    <tr>\n      <th>and</th>\n      <td>Andorra</td>\n      <td>2018</td>\n      <td>51494</td>\n      <td>41793.055258</td>\n      <td>77006.0</td>\n    </tr>\n    <tr>\n      <th>atg</th>\n      <td>Antigua and Barbuda</td>\n      <td>2018</td>\n      <td>23768</td>\n      <td>16672.744240</td>\n      <td>96286.0</td>\n    </tr>\n    <tr>\n      <th>bhs</th>\n      <td>Bahamas</td>\n      <td>2018</td>\n      <td>28833</td>\n      <td>33767.503371</td>\n      <td>385640.0</td>\n    </tr>\n    <tr>\n      <th>blz</th>\n      <td>Belize</td>\n      <td>2018</td>\n      <td>7810</td>\n      <td>4884.734162</td>\n      <td>383071.0</td>\n    </tr>\n    <tr>\n      <th>brb</th>\n      <td>Barbados</td>\n      <td>2018</td>\n      <td>16698</td>\n      <td>17745.193465</td>\n      <td>286641.0</td>\n    </tr>\n    <tr>\n      <th>brn</th>\n      <td>Brunei</td>\n      <td>2018</td>\n      <td>71802</td>\n      <td>31628.328791</td>\n      <td>428962.0</td>\n    </tr>\n    <tr>\n      <th>dma</th>\n      <td>Dominica</td>\n      <td>2018</td>\n      <td>9467</td>\n      <td>7693.878870</td>\n      <td>71625.0</td>\n    </tr>\n    <tr>\n      <th>fsm</th>\n      <td>Micronesia, Fed. Sts.</td>\n      <td>2018</td>\n      <td>3196</td>\n      <td>3568.291016</td>\n      <td>112640.0</td>\n    </tr>\n    <tr>\n      <th>grd</th>\n      <td>Grenada</td>\n      <td>2018</td>\n      <td>13970</td>\n      <td>10485.907157</td>\n      <td>111454.0</td>\n    </tr>\n    <tr>\n      <th>kir</th>\n      <td>Kiribati</td>\n      <td>2018</td>\n      <td>2035</td>\n      <td>1698.256286</td>\n      <td>115847.0</td>\n    </tr>\n    <tr>\n      <th>kna</th>\n      <td>St. Kitts and Nevis</td>\n      <td>2018</td>\n      <td>28295</td>\n      <td>19276.521267</td>\n      <td>52438.0</td>\n    </tr>\n    <tr>\n      <th>lca</th>\n      <td>St. Lucia</td>\n      <td>2018</td>\n      <td>12344</td>\n      <td>11357.889010</td>\n      <td>181889.0</td>\n    </tr>\n    <tr>\n      <th>mco</th>\n      <td>Monaco</td>\n      <td>2018</td>\n      <td>60712</td>\n      <td>185829.017960</td>\n      <td>38682.0</td>\n    </tr>\n    <tr>\n      <th>mdv</th>\n      <td>Maldives</td>\n      <td>2018</td>\n      <td>13611</td>\n      <td>10276.932815</td>\n      <td>515696.0</td>\n    </tr>\n    <tr>\n      <th>mhl</th>\n      <td>Marshall Islands</td>\n      <td>2018</td>\n      <td>3599</td>\n      <td>3788.163594</td>\n      <td>58413.0</td>\n    </tr>\n    <tr>\n      <th>nru</th>\n      <td>Nauru</td>\n      <td>2018</td>\n      <td>13373</td>\n      <td>9762.389302</td>\n      <td>12704.0</td>\n    </tr>\n    <tr>\n      <th>plw</th>\n      <td>Palau</td>\n      <td>2018</td>\n      <td>17202</td>\n      <td>15660.674597</td>\n      <td>17907.0</td>\n    </tr>\n    <tr>\n      <th>slb</th>\n      <td>Solomon Islands</td>\n      <td>2018</td>\n      <td>2142</td>\n      <td>2441.517393</td>\n      <td>652858.0</td>\n    </tr>\n    <tr>\n      <th>smr</th>\n      <td>San Marino</td>\n      <td>2018</td>\n      <td>57647</td>\n      <td>48995.142002</td>\n      <td>33785.0</td>\n    </tr>\n    <tr>\n      <th>som</th>\n      <td>Somalia</td>\n      <td>2018</td>\n      <td>629</td>\n      <td>629.000000</td>\n      <td>15008154.0</td>\n    </tr>\n    <tr>\n      <th>ssd</th>\n      <td>South Sudan</td>\n      <td>2018</td>\n      <td>1772</td>\n      <td>1772.000000</td>\n      <td>10975920.0</td>\n    </tr>\n    <tr>\n      <th>stp</th>\n      <td>Sao Tome and Principe</td>\n      <td>2018</td>\n      <td>3033</td>\n      <td>1953.588290</td>\n      <td>211028.0</td>\n    </tr>\n    <tr>\n      <th>syc</th>\n      <td>Seychelles</td>\n      <td>2018</td>\n      <td>27114</td>\n      <td>16390.824908</td>\n      <td>96762.0</td>\n    </tr>\n    <tr>\n      <th>ton</th>\n      <td>Tonga</td>\n      <td>2018</td>\n      <td>5696</td>\n      <td>4740.792149</td>\n      <td>103197.0</td>\n    </tr>\n    <tr>\n      <th>tuv</th>\n      <td>Tuvalu</td>\n      <td>2018</td>\n      <td>3593</td>\n      <td>3700.744263</td>\n      <td>11508.0</td>\n    </tr>\n    <tr>\n      <th>vct</th>\n      <td>St. Vincent and the Grenadines</td>\n      <td>2018</td>\n      <td>10940</td>\n      <td>7361.400962</td>\n      <td>110210.0</td>\n    </tr>\n    <tr>\n      <th>vut</th>\n      <td>Vanuatu</td>\n      <td>2018</td>\n      <td>2846</td>\n      <td>3125.257989</td>\n      <td>292680.0</td>\n    </tr>\n    <tr>\n      <th>wsm</th>\n      <td>Samoa</td>\n      <td>2018</td>\n      <td>6089</td>\n      <td>4188.528346</td>\n      <td>196130.0</td>\n    </tr>\n  </tbody>\n</table>\n</div>"
     },
     "execution_count": 47,
     "metadata": {},
     "output_type": "execute_result"
    }
   ],
   "source": [
    "df_dem_missing = df_gdp.loc[df_gdp.index.difference(df_dem.index)]\\\n",
    "    .join(df_pop[ColPop.population])\n",
    "df_dem_missing"
   ],
   "metadata": {
    "collapsed": false,
    "pycharm": {
     "name": "#%%\n"
    }
   }
  },
  {
   "cell_type": "markdown",
   "source": [
    "It looks like almost all of those countries are quite small, most of them having a population of less than 1M,\n",
    "and some even less than 100.000.\n",
    "\n",
    "We now calculate the share of their population and GDP relatively to all countries in the GDP data set."
   ],
   "metadata": {
    "collapsed": false,
    "pycharm": {
     "name": "#%% md\n"
    }
   }
  },
  {
   "cell_type": "code",
   "execution_count": 48,
   "outputs": [],
   "source": [
    "pop_total = df_pop[ColPop.population].sum()\n",
    "pop_total_missing_in_df_dem = df_dem_missing[ColPop.population].sum()\n",
    "\n",
    "gdp_total = (df_gdp[ColGdp.gdp_per_capita] * df_gdp.join(df_pop[ColPop.population])[ColPop.population]).sum()\n",
    "gdp_total_missing_in_df_dem = (df_dem_missing[ColGdp.gdp_per_capita] * df_dem_missing[ColPop.population]).sum()"
   ],
   "metadata": {
    "collapsed": false,
    "pycharm": {
     "name": "#%%\n"
    }
   }
  },
  {
   "cell_type": "markdown",
   "source": [
    "The following data frame shows the population, the GDP, and the percentage of population and GDP\n",
    "in countries with missing democracy data in relation to all countries in the GDP data set:"
   ],
   "metadata": {
    "collapsed": false,
    "pycharm": {
     "name": "#%% md\n"
    }
   }
  },
  {
   "cell_type": "code",
   "execution_count": 49,
   "outputs": [
    {
     "data": {
      "text/plain": "                                                   Total Population  \\\nAll countries                                           7.58038e+09   \nCountries without democracy index data                  3.06391e+07   \nPercentage for countries without democracy inde...            0.40%   \n\n                                                      Total GDP  \nAll countries                                       8.57333e+13  \nCountries without democracy index data               9.4096e+10  \nPercentage for countries without democracy inde...        0.11%  ",
      "text/html": "<div>\n<style scoped>\n    .dataframe tbody tr th:only-of-type {\n        vertical-align: middle;\n    }\n\n    .dataframe tbody tr th {\n        vertical-align: top;\n    }\n\n    .dataframe thead th {\n        text-align: right;\n    }\n</style>\n<table border=\"1\" class=\"dataframe\">\n  <thead>\n    <tr style=\"text-align: right;\">\n      <th></th>\n      <th>Total Population</th>\n      <th>Total GDP</th>\n    </tr>\n  </thead>\n  <tbody>\n    <tr>\n      <th>All countries</th>\n      <td>7.58038e+09</td>\n      <td>8.57333e+13</td>\n    </tr>\n    <tr>\n      <th>Countries without democracy index data</th>\n      <td>3.06391e+07</td>\n      <td>9.4096e+10</td>\n    </tr>\n    <tr>\n      <th>Percentage for countries without democracy index data</th>\n      <td>0.40%</td>\n      <td>0.11%</td>\n    </tr>\n  </tbody>\n</table>\n</div>"
     },
     "execution_count": 49,
     "metadata": {},
     "output_type": "execute_result"
    }
   ],
   "source": [
    "pd.DataFrame(\n",
    "    data=[[pop_total, gdp_total],\n",
    "          [pop_total_missing_in_df_dem, gdp_total_missing_in_df_dem],\n",
    "          [f\"{pop_total_missing_in_df_dem / pop_total * 100:.2f}%\", f\"{gdp_total_missing_in_df_dem / gdp_total * 100:.2f}%\"]],\n",
    "    index=[\"All countries\", \"Countries without democracy index data\", \"Percentage for countries without democracy index data \"],\n",
    "    columns=[\"Total Population\", \"Total GDP\"])"
   ],
   "metadata": {
    "collapsed": false,
    "pycharm": {
     "name": "#%%\n"
    }
   }
  },
  {
   "cell_type": "markdown",
   "source": [
    "The countries with missing democracy data represent\n",
    "around 0.4% of world population\n",
    "and around 0.1% of world GDP.\n",
    "Hence, leaving them out would not significantly impact the outcome of our analysis."
   ],
   "metadata": {
    "collapsed": false,
    "pycharm": {
     "name": "#%% md\n"
    }
   }
  },
  {
   "cell_type": "markdown",
   "source": [
    "<a id='join-data'></a>\n",
    "## Join all data sets\n",
    "\n",
    "Join the GDP per capita in the `df_gdp` data frame\n",
    "with the `df_pop` data frame containing population values,\n",
    "the `df_fuel` data frame containing fuel export values,\n",
    "and the `df_dem` data frame containing democracy index values.\n",
    "\n",
    "We will use inner join to consider only data on countries,\n",
    "for which every data frame has values available.\n",
    "Only for fuel exports, we will use left join and fill missing values with 0."
   ],
   "metadata": {
    "collapsed": false,
    "pycharm": {
     "name": "#%% md\n"
    }
   }
  },
  {
   "cell_type": "code",
   "execution_count": 50,
   "outputs": [
    {
     "data": {
      "text/plain": "                  Country  Year  GDP per capita (PPP dollars)  GDP per capita  \\\nCountry code                                                                    \nafg           Afghanistan  2018                          1735      493.750418   \nalb               Albania  2018                         12306     5284.380184   \ndza               Algeria  2018                         13886     4153.733978   \nago                Angola  2018                          5725     3289.646664   \narg             Argentina  2018                         18282    11633.498009   \n\n              Population  Democracy index    Regime type  \\\nCountry code                                               \nafg           37172386.0             29.7  Authoritarian   \nalb            2866376.0             59.8         Hybrid   \ndza           42228429.0             35.0  Authoritarian   \nago           30809762.0             36.2  Authoritarian   \narg           44494502.0             70.2      Democracy   \n\n              Fuel exports (% of merchandise exports)  \nCountry code                                           \nafg                                         10.213180  \nalb                                          1.662666  \ndza                                         96.111562  \nago                                         92.417810  \narg                                          4.119375  ",
      "text/html": "<div>\n<style scoped>\n    .dataframe tbody tr th:only-of-type {\n        vertical-align: middle;\n    }\n\n    .dataframe tbody tr th {\n        vertical-align: top;\n    }\n\n    .dataframe thead th {\n        text-align: right;\n    }\n</style>\n<table border=\"1\" class=\"dataframe\">\n  <thead>\n    <tr style=\"text-align: right;\">\n      <th></th>\n      <th>Country</th>\n      <th>Year</th>\n      <th>GDP per capita (PPP dollars)</th>\n      <th>GDP per capita</th>\n      <th>Population</th>\n      <th>Democracy index</th>\n      <th>Regime type</th>\n      <th>Fuel exports (% of merchandise exports)</th>\n    </tr>\n    <tr>\n      <th>Country code</th>\n      <th></th>\n      <th></th>\n      <th></th>\n      <th></th>\n      <th></th>\n      <th></th>\n      <th></th>\n      <th></th>\n    </tr>\n  </thead>\n  <tbody>\n    <tr>\n      <th>afg</th>\n      <td>Afghanistan</td>\n      <td>2018</td>\n      <td>1735</td>\n      <td>493.750418</td>\n      <td>37172386.0</td>\n      <td>29.7</td>\n      <td>Authoritarian</td>\n      <td>10.213180</td>\n    </tr>\n    <tr>\n      <th>alb</th>\n      <td>Albania</td>\n      <td>2018</td>\n      <td>12306</td>\n      <td>5284.380184</td>\n      <td>2866376.0</td>\n      <td>59.8</td>\n      <td>Hybrid</td>\n      <td>1.662666</td>\n    </tr>\n    <tr>\n      <th>dza</th>\n      <td>Algeria</td>\n      <td>2018</td>\n      <td>13886</td>\n      <td>4153.733978</td>\n      <td>42228429.0</td>\n      <td>35.0</td>\n      <td>Authoritarian</td>\n      <td>96.111562</td>\n    </tr>\n    <tr>\n      <th>ago</th>\n      <td>Angola</td>\n      <td>2018</td>\n      <td>5725</td>\n      <td>3289.646664</td>\n      <td>30809762.0</td>\n      <td>36.2</td>\n      <td>Authoritarian</td>\n      <td>92.417810</td>\n    </tr>\n    <tr>\n      <th>arg</th>\n      <td>Argentina</td>\n      <td>2018</td>\n      <td>18282</td>\n      <td>11633.498009</td>\n      <td>44494502.0</td>\n      <td>70.2</td>\n      <td>Democracy</td>\n      <td>4.119375</td>\n    </tr>\n  </tbody>\n</table>\n</div>"
     },
     "execution_count": 50,
     "metadata": {},
     "output_type": "execute_result"
    }
   ],
   "source": [
    "df = df_gdp.join(df_pop[ColPop.population], how=\"inner\")\\\n",
    "    .join(df_dem[[ColDem.democracy_index, ColDem.regime_type]], how=\"inner\")\\\n",
    "    .join(df_fuel[ColFuel.fuel_exports], how=\"left\")\\\n",
    "\n",
    "df[ColFuel.fuel_exports].fillna(0, inplace=True)\n",
    "df.head()"
   ],
   "metadata": {
    "collapsed": false,
    "pycharm": {
     "name": "#%%\n"
    }
   }
  },
  {
   "cell_type": "code",
   "execution_count": 51,
   "outputs": [
    {
     "name": "stdout",
     "output_type": "stream",
     "text": [
      "<class 'pandas.core.frame.DataFrame'>\n",
      "Index: 166 entries, afg to zwe\n",
      "Data columns (total 8 columns):\n",
      " #   Column                                   Non-Null Count  Dtype   \n",
      "---  ------                                   --------------  -----   \n",
      " 0   Country                                  166 non-null    object  \n",
      " 1   Year                                     166 non-null    int64   \n",
      " 2   GDP per capita (PPP dollars)             166 non-null    int64   \n",
      " 3   GDP per capita                           166 non-null    float64 \n",
      " 4   Population                               166 non-null    float64 \n",
      " 5   Democracy index                          166 non-null    float64 \n",
      " 6   Regime type                              166 non-null    category\n",
      " 7   Fuel exports (% of merchandise exports)  166 non-null    float64 \n",
      "dtypes: category(1), float64(4), int64(2), object(1)\n",
      "memory usage: 15.6+ KB\n"
     ]
    }
   ],
   "source": [
    "df.info()"
   ],
   "metadata": {
    "collapsed": false,
    "pycharm": {
     "name": "#%%\n"
    }
   }
  },
  {
   "cell_type": "markdown",
   "source": [
    "We now have a data frame of 166 countries\n",
    "containing data on\n",
    "GDP per capita (in PPP dollars and in current USD),\n",
    "population,\n",
    "democracy level,\n",
    "and fuel exports\n",
    "for the year 2018."
   ],
   "metadata": {
    "collapsed": false,
    "pycharm": {
     "name": "#%% md\n"
    }
   }
  },
  {
   "cell_type": "markdown",
   "source": [
    "### Derive additional columns\n",
    "\n",
    "We have already added the `regime_type` columns derived from democracy index.\n",
    "We now add columns with total GDP per country, calculated from GDP per capita and population size."
   ],
   "metadata": {
    "collapsed": false,
    "pycharm": {
     "name": "#%% md\n"
    }
   }
  },
  {
   "cell_type": "code",
   "source": [
    "df[ColGdp.gdp_total] = df[ColGdp.gdp_per_capita] * df[ColPop.population]\n",
    "df[ColGdp.gdp_total_ppp] = df[ColGdp.gdp_per_capita_ppp] * df[ColPop.population]\n",
    "df.head()"
   ],
   "metadata": {
    "collapsed": false,
    "pycharm": {
     "name": "#%%\n"
    }
   },
   "execution_count": 52,
   "outputs": [
    {
     "data": {
      "text/plain": "                  Country  Year  GDP per capita (PPP dollars)  GDP per capita  \\\nCountry code                                                                    \nafg           Afghanistan  2018                          1735      493.750418   \nalb               Albania  2018                         12306     5284.380184   \ndza               Algeria  2018                         13886     4153.733978   \nago                Angola  2018                          5725     3289.646664   \narg             Argentina  2018                         18282    11633.498009   \n\n              Population  Democracy index    Regime type  \\\nCountry code                                               \nafg           37172386.0             29.7  Authoritarian   \nalb            2866376.0             59.8         Hybrid   \ndza           42228429.0             35.0  Authoritarian   \nago           30809762.0             36.2  Authoritarian   \narg           44494502.0             70.2      Democracy   \n\n              Fuel exports (% of merchandise exports)     GDP total  \\\nCountry code                                                          \nafg                                         10.213180  1.835388e+10   \nalb                                          1.662666  1.514702e+10   \ndza                                         96.111562  1.754057e+11   \nago                                         92.417810  1.013532e+11   \narg                                          4.119375  5.176267e+11   \n\n              GDP total (PPP dollars)  \nCountry code                           \nafg                      6.449409e+10  \nalb                      3.527362e+10  \ndza                      5.863840e+11  \nago                      1.763859e+11  \narg                      8.134485e+11  ",
      "text/html": "<div>\n<style scoped>\n    .dataframe tbody tr th:only-of-type {\n        vertical-align: middle;\n    }\n\n    .dataframe tbody tr th {\n        vertical-align: top;\n    }\n\n    .dataframe thead th {\n        text-align: right;\n    }\n</style>\n<table border=\"1\" class=\"dataframe\">\n  <thead>\n    <tr style=\"text-align: right;\">\n      <th></th>\n      <th>Country</th>\n      <th>Year</th>\n      <th>GDP per capita (PPP dollars)</th>\n      <th>GDP per capita</th>\n      <th>Population</th>\n      <th>Democracy index</th>\n      <th>Regime type</th>\n      <th>Fuel exports (% of merchandise exports)</th>\n      <th>GDP total</th>\n      <th>GDP total (PPP dollars)</th>\n    </tr>\n    <tr>\n      <th>Country code</th>\n      <th></th>\n      <th></th>\n      <th></th>\n      <th></th>\n      <th></th>\n      <th></th>\n      <th></th>\n      <th></th>\n      <th></th>\n      <th></th>\n    </tr>\n  </thead>\n  <tbody>\n    <tr>\n      <th>afg</th>\n      <td>Afghanistan</td>\n      <td>2018</td>\n      <td>1735</td>\n      <td>493.750418</td>\n      <td>37172386.0</td>\n      <td>29.7</td>\n      <td>Authoritarian</td>\n      <td>10.213180</td>\n      <td>1.835388e+10</td>\n      <td>6.449409e+10</td>\n    </tr>\n    <tr>\n      <th>alb</th>\n      <td>Albania</td>\n      <td>2018</td>\n      <td>12306</td>\n      <td>5284.380184</td>\n      <td>2866376.0</td>\n      <td>59.8</td>\n      <td>Hybrid</td>\n      <td>1.662666</td>\n      <td>1.514702e+10</td>\n      <td>3.527362e+10</td>\n    </tr>\n    <tr>\n      <th>dza</th>\n      <td>Algeria</td>\n      <td>2018</td>\n      <td>13886</td>\n      <td>4153.733978</td>\n      <td>42228429.0</td>\n      <td>35.0</td>\n      <td>Authoritarian</td>\n      <td>96.111562</td>\n      <td>1.754057e+11</td>\n      <td>5.863840e+11</td>\n    </tr>\n    <tr>\n      <th>ago</th>\n      <td>Angola</td>\n      <td>2018</td>\n      <td>5725</td>\n      <td>3289.646664</td>\n      <td>30809762.0</td>\n      <td>36.2</td>\n      <td>Authoritarian</td>\n      <td>92.417810</td>\n      <td>1.013532e+11</td>\n      <td>1.763859e+11</td>\n    </tr>\n    <tr>\n      <th>arg</th>\n      <td>Argentina</td>\n      <td>2018</td>\n      <td>18282</td>\n      <td>11633.498009</td>\n      <td>44494502.0</td>\n      <td>70.2</td>\n      <td>Democracy</td>\n      <td>4.119375</td>\n      <td>5.176267e+11</td>\n      <td>8.134485e+11</td>\n    </tr>\n  </tbody>\n</table>\n</div>"
     },
     "execution_count": 52,
     "metadata": {},
     "output_type": "execute_result"
    }
   ]
  },
  {
   "cell_type": "markdown",
   "source": [
    "### Save data frame as CSV for further usage\n",
    "\n",
    "Finally, we save the cleaned data set into a CSV file."
   ],
   "metadata": {
    "collapsed": false,
    "pycharm": {
     "name": "#%% md\n"
    }
   }
  },
  {
   "cell_type": "code",
   "execution_count": 53,
   "outputs": [],
   "source": [
    "import os\n",
    "\n",
    "if not os.path.exists(output_folder):\n",
    "    os.mkdir(output_folder)\n",
    "\n",
    "df.to_csv(f\"{output_folder}/democracy_and_gdp.csv\")"
   ],
   "metadata": {
    "collapsed": false,
    "pycharm": {
     "name": "#%%\n"
    }
   }
  }
 ],
 "metadata": {
  "kernelspec": {
   "display_name": "Python (python-examples)",
   "language": "python",
   "name": "python-examples"
  },
  "language_info": {
   "codemirror_mode": {
    "name": "ipython",
    "version": 3
   },
   "file_extension": ".py",
   "mimetype": "text/x-python",
   "name": "python",
   "nbconvert_exporter": "python",
   "pygments_lexer": "ipython3",
   "version": "3.8.5"
  }
 },
 "nbformat": 4,
 "nbformat_minor": 1
}