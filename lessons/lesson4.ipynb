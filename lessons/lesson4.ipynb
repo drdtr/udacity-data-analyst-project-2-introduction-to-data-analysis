{
 "cells": [
  {
   "cell_type": "markdown",
   "metadata": {
    "collapsed": true,
    "pycharm": {
     "name": "#%% md\n"
    }
   },
   "source": [
    "# Lesson 4: Data Analysis Process - Case Study 1\n",
    "\n",
    "Investigating a data set on wine quality,\n",
    "available [here](https://archive.ics.uci.edu/ml/datasets/Wine+Quality).\n",
    "The corresponding publication\n",
    "> P. Cortez, A. Cerdeira, F. Almeida, T. Matos and J. Reis.\n",
    "> Modeling wine preferences by data mining from physicochemical properties.\n",
    "> In Decision Support Systems, Elsevier, 47(4):547-553, 2009.\n",
    "can be found [here](http://repositorium.sdum.uminho.pt/bitstream/1822/10029/1/wine5.pdf)\n",
    "(checked in Jan 2021)."
   ]
  },
  {
   "cell_type": "markdown",
   "source": [
    "## Import the wine quality datasets"
   ],
   "metadata": {
    "collapsed": false
   }
  },
  {
   "cell_type": "code",
   "execution_count": 1,
   "outputs": [
    {
     "data": {
      "text/plain": "   fixed acidity  volatile acidity  citric acid  residual sugar  chlorides  \\\n0            7.4              0.70         0.00             1.9      0.076   \n1            7.8              0.88         0.00             2.6      0.098   \n2            7.8              0.76         0.04             2.3      0.092   \n3           11.2              0.28         0.56             1.9      0.075   \n4            7.4              0.70         0.00             1.9      0.076   \n\n   free sulfur dioxide  total sulfur dioxide  density    pH  sulphates  \\\n0                 11.0                  34.0   0.9978  3.51       0.56   \n1                 25.0                  67.0   0.9968  3.20       0.68   \n2                 15.0                  54.0   0.9970  3.26       0.65   \n3                 17.0                  60.0   0.9980  3.16       0.58   \n4                 11.0                  34.0   0.9978  3.51       0.56   \n\n   alcohol  quality  \n0      9.4        5  \n1      9.8        5  \n2      9.8        5  \n3      9.8        6  \n4      9.4        5  ",
      "text/html": "<div>\n<style scoped>\n    .dataframe tbody tr th:only-of-type {\n        vertical-align: middle;\n    }\n\n    .dataframe tbody tr th {\n        vertical-align: top;\n    }\n\n    .dataframe thead th {\n        text-align: right;\n    }\n</style>\n<table border=\"1\" class=\"dataframe\">\n  <thead>\n    <tr style=\"text-align: right;\">\n      <th></th>\n      <th>fixed acidity</th>\n      <th>volatile acidity</th>\n      <th>citric acid</th>\n      <th>residual sugar</th>\n      <th>chlorides</th>\n      <th>free sulfur dioxide</th>\n      <th>total sulfur dioxide</th>\n      <th>density</th>\n      <th>pH</th>\n      <th>sulphates</th>\n      <th>alcohol</th>\n      <th>quality</th>\n    </tr>\n  </thead>\n  <tbody>\n    <tr>\n      <th>0</th>\n      <td>7.4</td>\n      <td>0.70</td>\n      <td>0.00</td>\n      <td>1.9</td>\n      <td>0.076</td>\n      <td>11.0</td>\n      <td>34.0</td>\n      <td>0.9978</td>\n      <td>3.51</td>\n      <td>0.56</td>\n      <td>9.4</td>\n      <td>5</td>\n    </tr>\n    <tr>\n      <th>1</th>\n      <td>7.8</td>\n      <td>0.88</td>\n      <td>0.00</td>\n      <td>2.6</td>\n      <td>0.098</td>\n      <td>25.0</td>\n      <td>67.0</td>\n      <td>0.9968</td>\n      <td>3.20</td>\n      <td>0.68</td>\n      <td>9.8</td>\n      <td>5</td>\n    </tr>\n    <tr>\n      <th>2</th>\n      <td>7.8</td>\n      <td>0.76</td>\n      <td>0.04</td>\n      <td>2.3</td>\n      <td>0.092</td>\n      <td>15.0</td>\n      <td>54.0</td>\n      <td>0.9970</td>\n      <td>3.26</td>\n      <td>0.65</td>\n      <td>9.8</td>\n      <td>5</td>\n    </tr>\n    <tr>\n      <th>3</th>\n      <td>11.2</td>\n      <td>0.28</td>\n      <td>0.56</td>\n      <td>1.9</td>\n      <td>0.075</td>\n      <td>17.0</td>\n      <td>60.0</td>\n      <td>0.9980</td>\n      <td>3.16</td>\n      <td>0.58</td>\n      <td>9.8</td>\n      <td>6</td>\n    </tr>\n    <tr>\n      <th>4</th>\n      <td>7.4</td>\n      <td>0.70</td>\n      <td>0.00</td>\n      <td>1.9</td>\n      <td>0.076</td>\n      <td>11.0</td>\n      <td>34.0</td>\n      <td>0.9978</td>\n      <td>3.51</td>\n      <td>0.56</td>\n      <td>9.4</td>\n      <td>5</td>\n    </tr>\n  </tbody>\n</table>\n</div>"
     },
     "execution_count": 1,
     "metadata": {},
     "output_type": "execute_result"
    }
   ],
   "source": [
    "import numpy as np\n",
    "import pandas as pd\n",
    "\n",
    "df_red_wine = pd.read_csv('../resources/lesson4/winequality-red.csv', sep=';')\n",
    "df_red_wine.head()"
   ],
   "metadata": {
    "collapsed": false,
    "pycharm": {
     "name": "#%%\n"
    }
   }
  },
  {
   "cell_type": "code",
   "execution_count": 2,
   "outputs": [
    {
     "data": {
      "text/plain": "   fixed acidity  volatile acidity  citric acid  residual sugar  chlorides  \\\n0            7.0              0.27         0.36            20.7      0.045   \n1            6.3              0.30         0.34             1.6      0.049   \n2            8.1              0.28         0.40             6.9      0.050   \n3            7.2              0.23         0.32             8.5      0.058   \n4            7.2              0.23         0.32             8.5      0.058   \n\n   free sulfur dioxide  total sulfur dioxide  density    pH  sulphates  \\\n0                 45.0                 170.0   1.0010  3.00       0.45   \n1                 14.0                 132.0   0.9940  3.30       0.49   \n2                 30.0                  97.0   0.9951  3.26       0.44   \n3                 47.0                 186.0   0.9956  3.19       0.40   \n4                 47.0                 186.0   0.9956  3.19       0.40   \n\n   alcohol  quality  \n0      8.8        6  \n1      9.5        6  \n2     10.1        6  \n3      9.9        6  \n4      9.9        6  ",
      "text/html": "<div>\n<style scoped>\n    .dataframe tbody tr th:only-of-type {\n        vertical-align: middle;\n    }\n\n    .dataframe tbody tr th {\n        vertical-align: top;\n    }\n\n    .dataframe thead th {\n        text-align: right;\n    }\n</style>\n<table border=\"1\" class=\"dataframe\">\n  <thead>\n    <tr style=\"text-align: right;\">\n      <th></th>\n      <th>fixed acidity</th>\n      <th>volatile acidity</th>\n      <th>citric acid</th>\n      <th>residual sugar</th>\n      <th>chlorides</th>\n      <th>free sulfur dioxide</th>\n      <th>total sulfur dioxide</th>\n      <th>density</th>\n      <th>pH</th>\n      <th>sulphates</th>\n      <th>alcohol</th>\n      <th>quality</th>\n    </tr>\n  </thead>\n  <tbody>\n    <tr>\n      <th>0</th>\n      <td>7.0</td>\n      <td>0.27</td>\n      <td>0.36</td>\n      <td>20.7</td>\n      <td>0.045</td>\n      <td>45.0</td>\n      <td>170.0</td>\n      <td>1.0010</td>\n      <td>3.00</td>\n      <td>0.45</td>\n      <td>8.8</td>\n      <td>6</td>\n    </tr>\n    <tr>\n      <th>1</th>\n      <td>6.3</td>\n      <td>0.30</td>\n      <td>0.34</td>\n      <td>1.6</td>\n      <td>0.049</td>\n      <td>14.0</td>\n      <td>132.0</td>\n      <td>0.9940</td>\n      <td>3.30</td>\n      <td>0.49</td>\n      <td>9.5</td>\n      <td>6</td>\n    </tr>\n    <tr>\n      <th>2</th>\n      <td>8.1</td>\n      <td>0.28</td>\n      <td>0.40</td>\n      <td>6.9</td>\n      <td>0.050</td>\n      <td>30.0</td>\n      <td>97.0</td>\n      <td>0.9951</td>\n      <td>3.26</td>\n      <td>0.44</td>\n      <td>10.1</td>\n      <td>6</td>\n    </tr>\n    <tr>\n      <th>3</th>\n      <td>7.2</td>\n      <td>0.23</td>\n      <td>0.32</td>\n      <td>8.5</td>\n      <td>0.058</td>\n      <td>47.0</td>\n      <td>186.0</td>\n      <td>0.9956</td>\n      <td>3.19</td>\n      <td>0.40</td>\n      <td>9.9</td>\n      <td>6</td>\n    </tr>\n    <tr>\n      <th>4</th>\n      <td>7.2</td>\n      <td>0.23</td>\n      <td>0.32</td>\n      <td>8.5</td>\n      <td>0.058</td>\n      <td>47.0</td>\n      <td>186.0</td>\n      <td>0.9956</td>\n      <td>3.19</td>\n      <td>0.40</td>\n      <td>9.9</td>\n      <td>6</td>\n    </tr>\n  </tbody>\n</table>\n</div>"
     },
     "execution_count": 2,
     "metadata": {},
     "output_type": "execute_result"
    }
   ],
   "source": [
    "df_white_wine = pd.read_csv('../resources/lesson4/winequality-white.csv', sep=';')\n",
    "df_white_wine.head()"
   ],
   "metadata": {
    "collapsed": false,
    "pycharm": {
     "name": "#%%\n"
    }
   }
  },
  {
   "cell_type": "markdown",
   "source": [
    "We use pre-defined column names."
   ],
   "metadata": {
    "collapsed": false
   }
  },
  {
   "cell_type": "code",
   "execution_count": 3,
   "outputs": [],
   "source": [
    "class Col:\n",
    "    \"\"\" Column names for the wine quality data set. \"\"\"\n",
    "    fixed_acidity = \"fixed acidity\"\n",
    "    volatile_acidity = \"volatile acidity\"\n",
    "    citric_acid = \"citric acid\"\n",
    "    residual_sugar = \"residual sugar\"\n",
    "    chlorides = \"chlorides\"\n",
    "    free_sulfur_dioxide = \"free sulfur dioxide\"\n",
    "    total_sulfur_dioxide = \"total sulfur dioxide\"\n",
    "    density = \"density\"\n",
    "    pH = \"pH\"\n",
    "    sulphates = \"sulphates\"\n",
    "    alcohol = \"alcohol\"\n",
    "    quality = \"quality\"\n",
    "    # additional columns\n",
    "    color = \"color\"\n",
    "    acidity_level = \"acidity level\""
   ],
   "metadata": {
    "collapsed": false,
    "pycharm": {
     "name": "#%%\n"
    }
   }
  },
  {
   "cell_type": "markdown",
   "source": [
    "## Characteristics of the datasets"
   ],
   "metadata": {
    "collapsed": false
   }
  },
  {
   "cell_type": "markdown",
   "source": [
    "#### Size of the datasets"
   ],
   "metadata": {
    "collapsed": false,
    "pycharm": {
     "name": "#%% md\n"
    }
   }
  },
  {
   "cell_type": "code",
   "execution_count": 4,
   "outputs": [
    {
     "data": {
      "text/plain": "(1599, 12)"
     },
     "execution_count": 4,
     "metadata": {},
     "output_type": "execute_result"
    }
   ],
   "source": [
    "df_red_wine.shape"
   ],
   "metadata": {
    "collapsed": false,
    "pycharm": {
     "name": "#%%\n"
    }
   }
  },
  {
   "cell_type": "code",
   "execution_count": 5,
   "outputs": [
    {
     "data": {
      "text/plain": "(4898, 12)"
     },
     "execution_count": 5,
     "metadata": {},
     "output_type": "execute_result"
    }
   ],
   "source": [
    "df_white_wine.shape"
   ],
   "metadata": {
    "collapsed": false,
    "pycharm": {
     "name": "#%%\n"
    }
   }
  },
  {
   "cell_type": "markdown",
   "source": [
    "#### Missing values in the datasets"
   ],
   "metadata": {
    "collapsed": false
   }
  },
  {
   "cell_type": "code",
   "execution_count": 6,
   "outputs": [
    {
     "name": "stdout",
     "output_type": "stream",
     "text": [
      "<class 'pandas.core.frame.DataFrame'>\n",
      "RangeIndex: 1599 entries, 0 to 1598\n",
      "Data columns (total 12 columns):\n",
      " #   Column                Non-Null Count  Dtype  \n",
      "---  ------                --------------  -----  \n",
      " 0   fixed acidity         1599 non-null   float64\n",
      " 1   volatile acidity      1599 non-null   float64\n",
      " 2   citric acid           1599 non-null   float64\n",
      " 3   residual sugar        1599 non-null   float64\n",
      " 4   chlorides             1599 non-null   float64\n",
      " 5   free sulfur dioxide   1599 non-null   float64\n",
      " 6   total sulfur dioxide  1599 non-null   float64\n",
      " 7   density               1599 non-null   float64\n",
      " 8   pH                    1599 non-null   float64\n",
      " 9   sulphates             1599 non-null   float64\n",
      " 10  alcohol               1599 non-null   float64\n",
      " 11  quality               1599 non-null   int64  \n",
      "dtypes: float64(11), int64(1)\n",
      "memory usage: 150.0 KB\n"
     ]
    }
   ],
   "source": [
    "df_red_wine.info()"
   ],
   "metadata": {
    "collapsed": false,
    "pycharm": {
     "name": "#%%\n"
    }
   }
  },
  {
   "cell_type": "code",
   "execution_count": 7,
   "outputs": [
    {
     "name": "stdout",
     "output_type": "stream",
     "text": [
      "<class 'pandas.core.frame.DataFrame'>\n",
      "RangeIndex: 4898 entries, 0 to 4897\n",
      "Data columns (total 12 columns):\n",
      " #   Column                Non-Null Count  Dtype  \n",
      "---  ------                --------------  -----  \n",
      " 0   fixed acidity         4898 non-null   float64\n",
      " 1   volatile acidity      4898 non-null   float64\n",
      " 2   citric acid           4898 non-null   float64\n",
      " 3   residual sugar        4898 non-null   float64\n",
      " 4   chlorides             4898 non-null   float64\n",
      " 5   free sulfur dioxide   4898 non-null   float64\n",
      " 6   total sulfur dioxide  4898 non-null   float64\n",
      " 7   density               4898 non-null   float64\n",
      " 8   pH                    4898 non-null   float64\n",
      " 9   sulphates             4898 non-null   float64\n",
      " 10  alcohol               4898 non-null   float64\n",
      " 11  quality               4898 non-null   int64  \n",
      "dtypes: float64(11), int64(1)\n",
      "memory usage: 459.3 KB\n"
     ]
    }
   ],
   "source": [
    "df_white_wine.info()"
   ],
   "metadata": {
    "collapsed": false,
    "pycharm": {
     "name": "#%%\n"
    }
   }
  },
  {
   "cell_type": "markdown",
   "source": [
    "There are no missing values in both datasets."
   ],
   "metadata": {
    "collapsed": false,
    "pycharm": {
     "name": "#%% md\n"
    }
   }
  },
  {
   "cell_type": "markdown",
   "source": [
    "#### Duplicate rows in the datasets"
   ],
   "metadata": {
    "collapsed": false
   }
  },
  {
   "cell_type": "markdown",
   "source": [
    "Number of duplicate rows in the red wine dataset."
   ],
   "metadata": {
    "collapsed": false
   }
  },
  {
   "cell_type": "code",
   "execution_count": 8,
   "outputs": [
    {
     "data": {
      "text/plain": "240"
     },
     "execution_count": 8,
     "metadata": {},
     "output_type": "execute_result"
    }
   ],
   "source": [
    "sum(df_red_wine.duplicated())"
   ],
   "metadata": {
    "collapsed": false,
    "pycharm": {
     "name": "#%%\n"
    }
   }
  },
  {
   "cell_type": "markdown",
   "source": [
    "Number of duplicate rows in the white wine dataset."
   ],
   "metadata": {
    "collapsed": false,
    "pycharm": {
     "name": "#%% md\n"
    }
   }
  },
  {
   "cell_type": "code",
   "execution_count": 9,
   "outputs": [
    {
     "data": {
      "text/plain": "937"
     },
     "execution_count": 9,
     "metadata": {},
     "output_type": "execute_result"
    }
   ],
   "source": [
    "sum(df_white_wine.duplicated())"
   ],
   "metadata": {
    "collapsed": false,
    "pycharm": {
     "name": "#%%\n"
    }
   }
  },
  {
   "cell_type": "markdown",
   "source": [
    "#### Unique values in the datasets"
   ],
   "metadata": {
    "collapsed": false
   }
  },
  {
   "cell_type": "code",
   "execution_count": 10,
   "outputs": [
    {
     "data": {
      "text/plain": "fixed acidity            96\nvolatile acidity        143\ncitric acid              80\nresidual sugar           91\nchlorides               153\nfree sulfur dioxide      60\ntotal sulfur dioxide    144\ndensity                 436\npH                       89\nsulphates                96\nalcohol                  65\nquality                   6\ndtype: int64"
     },
     "execution_count": 10,
     "metadata": {},
     "output_type": "execute_result"
    }
   ],
   "source": [
    "df_red_wine.nunique()"
   ],
   "metadata": {
    "collapsed": false,
    "pycharm": {
     "name": "#%%\n"
    }
   }
  },
  {
   "cell_type": "markdown",
   "source": [
    "Unique values of red wine quality."
   ],
   "metadata": {
    "collapsed": false
   }
  },
  {
   "cell_type": "code",
   "execution_count": 11,
   "outputs": [
    {
     "data": {
      "text/plain": "6"
     },
     "execution_count": 11,
     "metadata": {},
     "output_type": "execute_result"
    }
   ],
   "source": [
    "df_red_wine.nunique()[Col.quality]"
   ],
   "metadata": {
    "collapsed": false,
    "pycharm": {
     "name": "#%%\n"
    }
   }
  },
  {
   "cell_type": "markdown",
   "source": [
    "Unique values of white wine quality."
   ],
   "metadata": {
    "collapsed": false,
    "pycharm": {
     "name": "#%% md\n"
    }
   }
  },
  {
   "cell_type": "code",
   "execution_count": 12,
   "outputs": [
    {
     "data": {
      "text/plain": "7"
     },
     "execution_count": 12,
     "metadata": {},
     "output_type": "execute_result"
    }
   ],
   "source": [
    "df_white_wine.nunique()[Col.quality]"
   ],
   "metadata": {
    "collapsed": false,
    "pycharm": {
     "name": "#%%\n"
    }
   }
  },
  {
   "cell_type": "markdown",
   "source": [
    "#### Mean density in the red wine dataset"
   ],
   "metadata": {
    "collapsed": false
   }
  },
  {
   "cell_type": "code",
   "execution_count": 13,
   "outputs": [
    {
     "data": {
      "text/plain": "0.996746679174484"
     },
     "execution_count": 13,
     "metadata": {},
     "output_type": "execute_result"
    }
   ],
   "source": [
    "df_red_wine[Col.density].mean()"
   ],
   "metadata": {
    "collapsed": false,
    "pycharm": {
     "name": "#%%\n"
    }
   }
  },
  {
   "cell_type": "markdown",
   "source": [
    "## Appending data frames"
   ],
   "metadata": {
    "collapsed": false,
    "pycharm": {
     "name": "#%% md\n"
    }
   }
  },
  {
   "cell_type": "code",
   "execution_count": 14,
   "outputs": [],
   "source": [
    "color_red = 'red'\n",
    "color_white = 'white'"
   ],
   "metadata": {
    "collapsed": false,
    "pycharm": {
     "name": "#%%\n"
    }
   }
  },
  {
   "cell_type": "markdown",
   "source": [
    "Add a `color` column to both data frames, to later identify the color in the combined data frame."
   ],
   "metadata": {
    "collapsed": false
   }
  },
  {
   "cell_type": "code",
   "execution_count": 15,
   "outputs": [
    {
     "data": {
      "text/plain": "   fixed acidity  volatile acidity  citric acid  residual sugar  chlorides  \\\n0            7.4              0.70         0.00             1.9      0.076   \n1            7.8              0.88         0.00             2.6      0.098   \n2            7.8              0.76         0.04             2.3      0.092   \n3           11.2              0.28         0.56             1.9      0.075   \n4            7.4              0.70         0.00             1.9      0.076   \n\n   free sulfur dioxide  total sulfur dioxide  density    pH  sulphates  \\\n0                 11.0                  34.0   0.9978  3.51       0.56   \n1                 25.0                  67.0   0.9968  3.20       0.68   \n2                 15.0                  54.0   0.9970  3.26       0.65   \n3                 17.0                  60.0   0.9980  3.16       0.58   \n4                 11.0                  34.0   0.9978  3.51       0.56   \n\n   alcohol  quality color  \n0      9.4        5   red  \n1      9.8        5   red  \n2      9.8        5   red  \n3      9.8        6   red  \n4      9.4        5   red  ",
      "text/html": "<div>\n<style scoped>\n    .dataframe tbody tr th:only-of-type {\n        vertical-align: middle;\n    }\n\n    .dataframe tbody tr th {\n        vertical-align: top;\n    }\n\n    .dataframe thead th {\n        text-align: right;\n    }\n</style>\n<table border=\"1\" class=\"dataframe\">\n  <thead>\n    <tr style=\"text-align: right;\">\n      <th></th>\n      <th>fixed acidity</th>\n      <th>volatile acidity</th>\n      <th>citric acid</th>\n      <th>residual sugar</th>\n      <th>chlorides</th>\n      <th>free sulfur dioxide</th>\n      <th>total sulfur dioxide</th>\n      <th>density</th>\n      <th>pH</th>\n      <th>sulphates</th>\n      <th>alcohol</th>\n      <th>quality</th>\n      <th>color</th>\n    </tr>\n  </thead>\n  <tbody>\n    <tr>\n      <th>0</th>\n      <td>7.4</td>\n      <td>0.70</td>\n      <td>0.00</td>\n      <td>1.9</td>\n      <td>0.076</td>\n      <td>11.0</td>\n      <td>34.0</td>\n      <td>0.9978</td>\n      <td>3.51</td>\n      <td>0.56</td>\n      <td>9.4</td>\n      <td>5</td>\n      <td>red</td>\n    </tr>\n    <tr>\n      <th>1</th>\n      <td>7.8</td>\n      <td>0.88</td>\n      <td>0.00</td>\n      <td>2.6</td>\n      <td>0.098</td>\n      <td>25.0</td>\n      <td>67.0</td>\n      <td>0.9968</td>\n      <td>3.20</td>\n      <td>0.68</td>\n      <td>9.8</td>\n      <td>5</td>\n      <td>red</td>\n    </tr>\n    <tr>\n      <th>2</th>\n      <td>7.8</td>\n      <td>0.76</td>\n      <td>0.04</td>\n      <td>2.3</td>\n      <td>0.092</td>\n      <td>15.0</td>\n      <td>54.0</td>\n      <td>0.9970</td>\n      <td>3.26</td>\n      <td>0.65</td>\n      <td>9.8</td>\n      <td>5</td>\n      <td>red</td>\n    </tr>\n    <tr>\n      <th>3</th>\n      <td>11.2</td>\n      <td>0.28</td>\n      <td>0.56</td>\n      <td>1.9</td>\n      <td>0.075</td>\n      <td>17.0</td>\n      <td>60.0</td>\n      <td>0.9980</td>\n      <td>3.16</td>\n      <td>0.58</td>\n      <td>9.8</td>\n      <td>6</td>\n      <td>red</td>\n    </tr>\n    <tr>\n      <th>4</th>\n      <td>7.4</td>\n      <td>0.70</td>\n      <td>0.00</td>\n      <td>1.9</td>\n      <td>0.076</td>\n      <td>11.0</td>\n      <td>34.0</td>\n      <td>0.9978</td>\n      <td>3.51</td>\n      <td>0.56</td>\n      <td>9.4</td>\n      <td>5</td>\n      <td>red</td>\n    </tr>\n  </tbody>\n</table>\n</div>"
     },
     "execution_count": 15,
     "metadata": {},
     "output_type": "execute_result"
    }
   ],
   "source": [
    "df_red_wine[Col.color] = color_red\n",
    "df_red_wine.head()"
   ],
   "metadata": {
    "collapsed": false,
    "pycharm": {
     "name": "#%%\n"
    }
   }
  },
  {
   "cell_type": "code",
   "execution_count": 16,
   "outputs": [
    {
     "data": {
      "text/plain": "   fixed acidity  volatile acidity  citric acid  residual sugar  chlorides  \\\n0            7.0              0.27         0.36            20.7      0.045   \n1            6.3              0.30         0.34             1.6      0.049   \n2            8.1              0.28         0.40             6.9      0.050   \n3            7.2              0.23         0.32             8.5      0.058   \n4            7.2              0.23         0.32             8.5      0.058   \n\n   free sulfur dioxide  total sulfur dioxide  density    pH  sulphates  \\\n0                 45.0                 170.0   1.0010  3.00       0.45   \n1                 14.0                 132.0   0.9940  3.30       0.49   \n2                 30.0                  97.0   0.9951  3.26       0.44   \n3                 47.0                 186.0   0.9956  3.19       0.40   \n4                 47.0                 186.0   0.9956  3.19       0.40   \n\n   alcohol  quality  color  \n0      8.8        6  white  \n1      9.5        6  white  \n2     10.1        6  white  \n3      9.9        6  white  \n4      9.9        6  white  ",
      "text/html": "<div>\n<style scoped>\n    .dataframe tbody tr th:only-of-type {\n        vertical-align: middle;\n    }\n\n    .dataframe tbody tr th {\n        vertical-align: top;\n    }\n\n    .dataframe thead th {\n        text-align: right;\n    }\n</style>\n<table border=\"1\" class=\"dataframe\">\n  <thead>\n    <tr style=\"text-align: right;\">\n      <th></th>\n      <th>fixed acidity</th>\n      <th>volatile acidity</th>\n      <th>citric acid</th>\n      <th>residual sugar</th>\n      <th>chlorides</th>\n      <th>free sulfur dioxide</th>\n      <th>total sulfur dioxide</th>\n      <th>density</th>\n      <th>pH</th>\n      <th>sulphates</th>\n      <th>alcohol</th>\n      <th>quality</th>\n      <th>color</th>\n    </tr>\n  </thead>\n  <tbody>\n    <tr>\n      <th>0</th>\n      <td>7.0</td>\n      <td>0.27</td>\n      <td>0.36</td>\n      <td>20.7</td>\n      <td>0.045</td>\n      <td>45.0</td>\n      <td>170.0</td>\n      <td>1.0010</td>\n      <td>3.00</td>\n      <td>0.45</td>\n      <td>8.8</td>\n      <td>6</td>\n      <td>white</td>\n    </tr>\n    <tr>\n      <th>1</th>\n      <td>6.3</td>\n      <td>0.30</td>\n      <td>0.34</td>\n      <td>1.6</td>\n      <td>0.049</td>\n      <td>14.0</td>\n      <td>132.0</td>\n      <td>0.9940</td>\n      <td>3.30</td>\n      <td>0.49</td>\n      <td>9.5</td>\n      <td>6</td>\n      <td>white</td>\n    </tr>\n    <tr>\n      <th>2</th>\n      <td>8.1</td>\n      <td>0.28</td>\n      <td>0.40</td>\n      <td>6.9</td>\n      <td>0.050</td>\n      <td>30.0</td>\n      <td>97.0</td>\n      <td>0.9951</td>\n      <td>3.26</td>\n      <td>0.44</td>\n      <td>10.1</td>\n      <td>6</td>\n      <td>white</td>\n    </tr>\n    <tr>\n      <th>3</th>\n      <td>7.2</td>\n      <td>0.23</td>\n      <td>0.32</td>\n      <td>8.5</td>\n      <td>0.058</td>\n      <td>47.0</td>\n      <td>186.0</td>\n      <td>0.9956</td>\n      <td>3.19</td>\n      <td>0.40</td>\n      <td>9.9</td>\n      <td>6</td>\n      <td>white</td>\n    </tr>\n    <tr>\n      <th>4</th>\n      <td>7.2</td>\n      <td>0.23</td>\n      <td>0.32</td>\n      <td>8.5</td>\n      <td>0.058</td>\n      <td>47.0</td>\n      <td>186.0</td>\n      <td>0.9956</td>\n      <td>3.19</td>\n      <td>0.40</td>\n      <td>9.9</td>\n      <td>6</td>\n      <td>white</td>\n    </tr>\n  </tbody>\n</table>\n</div>"
     },
     "execution_count": 16,
     "metadata": {},
     "output_type": "execute_result"
    }
   ],
   "source": [
    "df_white_wine[Col.color] = color_white\n",
    "df_white_wine.head()"
   ],
   "metadata": {
    "collapsed": false,
    "pycharm": {
     "name": "#%%\n"
    }
   }
  },
  {
   "cell_type": "markdown",
   "source": [
    "Append the data frames."
   ],
   "metadata": {
    "collapsed": false,
    "pycharm": {
     "name": "#%% md\n"
    }
   }
  },
  {
   "cell_type": "code",
   "execution_count": 17,
   "outputs": [
    {
     "data": {
      "text/plain": "   index  fixed acidity  volatile acidity  citric acid  residual sugar  \\\n0      0            7.4              0.70         0.00             1.9   \n1      1            7.8              0.88         0.00             2.6   \n2      2            7.8              0.76         0.04             2.3   \n3      3           11.2              0.28         0.56             1.9   \n4      4            7.4              0.70         0.00             1.9   \n\n   chlorides  free sulfur dioxide  total sulfur dioxide  density    pH  \\\n0      0.076                 11.0                  34.0   0.9978  3.51   \n1      0.098                 25.0                  67.0   0.9968  3.20   \n2      0.092                 15.0                  54.0   0.9970  3.26   \n3      0.075                 17.0                  60.0   0.9980  3.16   \n4      0.076                 11.0                  34.0   0.9978  3.51   \n\n   sulphates  alcohol  quality color  \n0       0.56      9.4        5   red  \n1       0.68      9.8        5   red  \n2       0.65      9.8        5   red  \n3       0.58      9.8        6   red  \n4       0.56      9.4        5   red  ",
      "text/html": "<div>\n<style scoped>\n    .dataframe tbody tr th:only-of-type {\n        vertical-align: middle;\n    }\n\n    .dataframe tbody tr th {\n        vertical-align: top;\n    }\n\n    .dataframe thead th {\n        text-align: right;\n    }\n</style>\n<table border=\"1\" class=\"dataframe\">\n  <thead>\n    <tr style=\"text-align: right;\">\n      <th></th>\n      <th>index</th>\n      <th>fixed acidity</th>\n      <th>volatile acidity</th>\n      <th>citric acid</th>\n      <th>residual sugar</th>\n      <th>chlorides</th>\n      <th>free sulfur dioxide</th>\n      <th>total sulfur dioxide</th>\n      <th>density</th>\n      <th>pH</th>\n      <th>sulphates</th>\n      <th>alcohol</th>\n      <th>quality</th>\n      <th>color</th>\n    </tr>\n  </thead>\n  <tbody>\n    <tr>\n      <th>0</th>\n      <td>0</td>\n      <td>7.4</td>\n      <td>0.70</td>\n      <td>0.00</td>\n      <td>1.9</td>\n      <td>0.076</td>\n      <td>11.0</td>\n      <td>34.0</td>\n      <td>0.9978</td>\n      <td>3.51</td>\n      <td>0.56</td>\n      <td>9.4</td>\n      <td>5</td>\n      <td>red</td>\n    </tr>\n    <tr>\n      <th>1</th>\n      <td>1</td>\n      <td>7.8</td>\n      <td>0.88</td>\n      <td>0.00</td>\n      <td>2.6</td>\n      <td>0.098</td>\n      <td>25.0</td>\n      <td>67.0</td>\n      <td>0.9968</td>\n      <td>3.20</td>\n      <td>0.68</td>\n      <td>9.8</td>\n      <td>5</td>\n      <td>red</td>\n    </tr>\n    <tr>\n      <th>2</th>\n      <td>2</td>\n      <td>7.8</td>\n      <td>0.76</td>\n      <td>0.04</td>\n      <td>2.3</td>\n      <td>0.092</td>\n      <td>15.0</td>\n      <td>54.0</td>\n      <td>0.9970</td>\n      <td>3.26</td>\n      <td>0.65</td>\n      <td>9.8</td>\n      <td>5</td>\n      <td>red</td>\n    </tr>\n    <tr>\n      <th>3</th>\n      <td>3</td>\n      <td>11.2</td>\n      <td>0.28</td>\n      <td>0.56</td>\n      <td>1.9</td>\n      <td>0.075</td>\n      <td>17.0</td>\n      <td>60.0</td>\n      <td>0.9980</td>\n      <td>3.16</td>\n      <td>0.58</td>\n      <td>9.8</td>\n      <td>6</td>\n      <td>red</td>\n    </tr>\n    <tr>\n      <th>4</th>\n      <td>4</td>\n      <td>7.4</td>\n      <td>0.70</td>\n      <td>0.00</td>\n      <td>1.9</td>\n      <td>0.076</td>\n      <td>11.0</td>\n      <td>34.0</td>\n      <td>0.9978</td>\n      <td>3.51</td>\n      <td>0.56</td>\n      <td>9.4</td>\n      <td>5</td>\n      <td>red</td>\n    </tr>\n  </tbody>\n</table>\n</div>"
     },
     "execution_count": 17,
     "metadata": {},
     "output_type": "execute_result"
    }
   ],
   "source": [
    "df_wine = df_red_wine.append(df_white_wine)\n",
    "df_wine.reset_index(inplace=True)\n",
    "df_wine.head()"
   ],
   "metadata": {
    "collapsed": false,
    "pycharm": {
     "name": "#%%\n"
    }
   }
  },
  {
   "cell_type": "code",
   "execution_count": 18,
   "outputs": [
    {
     "data": {
      "text/plain": "(6497, 14)"
     },
     "execution_count": 18,
     "metadata": {},
     "output_type": "execute_result"
    }
   ],
   "source": [
    "df_wine.shape"
   ],
   "metadata": {
    "collapsed": false,
    "pycharm": {
     "name": "#%%\n"
    }
   }
  },
  {
   "cell_type": "code",
   "execution_count": 19,
   "outputs": [
    {
     "data": {
      "text/plain": "2"
     },
     "execution_count": 19,
     "metadata": {},
     "output_type": "execute_result"
    }
   ],
   "source": [
    "df_wine.nunique()[Col.color]"
   ],
   "metadata": {
    "collapsed": false,
    "pycharm": {
     "name": "#%%\n"
    }
   }
  },
  {
   "cell_type": "markdown",
   "source": [
    "Store the combined data frame."
   ],
   "metadata": {
    "collapsed": false,
    "pycharm": {
     "name": "#%% md\n"
    }
   }
  },
  {
   "cell_type": "code",
   "execution_count": 20,
   "outputs": [],
   "source": [
    "df_wine.to_csv('../output/winequality_edited.csv', index=False)"
   ],
   "metadata": {
    "collapsed": false,
    "pycharm": {
     "name": "#%%\n"
    }
   }
  },
  {
   "cell_type": "markdown",
   "source": [
    "## Exploring with visualizations"
   ],
   "metadata": {
    "collapsed": false,
    "pycharm": {
     "name": "#%% md\n"
    }
   }
  },
  {
   "cell_type": "code",
   "execution_count": 21,
   "outputs": [],
   "source": [
    "import matplotlib.pyplot as plt\n",
    "import seaborn as sns\n",
    "sns.set()"
   ],
   "metadata": {
    "collapsed": false,
    "pycharm": {
     "name": "#%%\n"
    }
   }
  },
  {
   "cell_type": "code",
   "execution_count": 22,
   "outputs": [
    {
     "data": {
      "text/plain": "<Figure size 720x720 with 16 Axes>",
      "image/png": "[encoded data removed]"
     },
     "metadata": {},
     "output_type": "display_data"
    }
   ],
   "source": [
    "df_wine.hist(bins=20, figsize=(10, 10));"
   ],
   "metadata": {
    "collapsed": false,
    "pycharm": {
     "name": "#%%\n"
    }
   }
  },
  {
   "cell_type": "code",
   "execution_count": 23,
   "outputs": [
    {
     "data": {
      "text/plain": "<Figure size 432x288 with 1 Axes>",
      "image/png": "[encoded data removed]"
     },
     "metadata": {},
     "output_type": "display_data"
    },
    {
     "data": {
      "text/plain": "<Figure size 432x288 with 1 Axes>",
      "image/png": "[encoded data removed]"
     },
     "metadata": {},
     "output_type": "display_data"
    },
    {
     "data": {
      "text/plain": "<Figure size 432x288 with 1 Axes>",
      "image/png": "[encoded data removed]"
     },
     "metadata": {},
     "output_type": "display_data"
    },
    {
     "data": {
      "text/plain": "<Figure size 432x288 with 1 Axes>",
      "image/png": "[encoded data removed]"
     },
     "metadata": {},
     "output_type": "display_data"
    }
   ],
   "source": [
    "color = 'c'\n",
    "df_wine.plot(kind='scatter', c=color, x=Col.alcohol, y=Col.quality)\n",
    "df_wine.plot(kind='scatter', c=color, x=Col.volatile_acidity, y=Col.quality)\n",
    "df_wine.plot(kind='scatter', c=color, x=Col.residual_sugar, y=Col.quality)\n",
    "df_wine.plot(kind='scatter', c=color, x=Col.pH, y=Col.quality);"
   ],
   "metadata": {
    "collapsed": false,
    "pycharm": {
     "name": "#%%\n"
    }
   }
  },
  {
   "cell_type": "markdown",
   "source": [
    "## Drawing conclusion using `groupby`"
   ],
   "metadata": {
    "collapsed": false,
    "pycharm": {
     "name": "#%% md\n"
    }
   }
  },
  {
   "cell_type": "markdown",
   "source": [
    "#### Is a certain type of wine (red/white) associated with higher quality?"
   ],
   "metadata": {
    "collapsed": false,
    "pycharm": {
     "name": "#%% md\n"
    }
   }
  },
  {
   "cell_type": "code",
   "execution_count": 24,
   "outputs": [
    {
     "data": {
      "text/plain": "        count      mean       std  min  25%  50%  75%  max\ncolor                                                     \nred    1599.0  5.636023  0.807569  3.0  5.0  6.0  6.0  8.0\nwhite  4898.0  5.877909  0.885639  3.0  5.0  6.0  6.0  9.0",
      "text/html": "<div>\n<style scoped>\n    .dataframe tbody tr th:only-of-type {\n        vertical-align: middle;\n    }\n\n    .dataframe tbody tr th {\n        vertical-align: top;\n    }\n\n    .dataframe thead th {\n        text-align: right;\n    }\n</style>\n<table border=\"1\" class=\"dataframe\">\n  <thead>\n    <tr style=\"text-align: right;\">\n      <th></th>\n      <th>count</th>\n      <th>mean</th>\n      <th>std</th>\n      <th>min</th>\n      <th>25%</th>\n      <th>50%</th>\n      <th>75%</th>\n      <th>max</th>\n    </tr>\n    <tr>\n      <th>color</th>\n      <th></th>\n      <th></th>\n      <th></th>\n      <th></th>\n      <th></th>\n      <th></th>\n      <th></th>\n      <th></th>\n    </tr>\n  </thead>\n  <tbody>\n    <tr>\n      <th>red</th>\n      <td>1599.0</td>\n      <td>5.636023</td>\n      <td>0.807569</td>\n      <td>3.0</td>\n      <td>5.0</td>\n      <td>6.0</td>\n      <td>6.0</td>\n      <td>8.0</td>\n    </tr>\n    <tr>\n      <th>white</th>\n      <td>4898.0</td>\n      <td>5.877909</td>\n      <td>0.885639</td>\n      <td>3.0</td>\n      <td>5.0</td>\n      <td>6.0</td>\n      <td>6.0</td>\n      <td>9.0</td>\n    </tr>\n  </tbody>\n</table>\n</div>"
     },
     "execution_count": 24,
     "metadata": {},
     "output_type": "execute_result"
    }
   ],
   "source": [
    "df_wine.groupby([Col.color])[Col.quality].describe()"
   ],
   "metadata": {
    "collapsed": false,
    "pycharm": {
     "name": "#%%\n"
    }
   }
  },
  {
   "cell_type": "markdown",
   "source": [
    "#### What level of acidity (pH value) receives the highest average rating?"
   ],
   "metadata": {
    "collapsed": false
   }
  },
  {
   "cell_type": "markdown",
   "source": [
    "Divide the pH levels into 4 categories and then check,\n",
    "which of them is associated with the highest mean quality."
   ],
   "metadata": {
    "collapsed": false,
    "pycharm": {
     "name": "#%% md\n"
    }
   }
  },
  {
   "cell_type": "code",
   "execution_count": 25,
   "outputs": [
    {
     "data": {
      "text/plain": "[2.72, 3.11, 3.21, 3.32, 4.01]"
     },
     "execution_count": 25,
     "metadata": {},
     "output_type": "execute_result"
    }
   ],
   "source": [
    "phmin, ph25, ph50, ph75, phmax = df_wine[Col.pH].describe()[['min', '25%', '50%', '75%', 'max']]\n",
    "acidity_level_bin_edges = [phmin, ph25, ph50, ph75, phmax]\n",
    "acidity_level_bin_edges"
   ],
   "metadata": {
    "collapsed": false,
    "pycharm": {
     "name": "#%%\n"
    }
   }
  },
  {
   "cell_type": "code",
   "execution_count": 26,
   "outputs": [],
   "source": [
    "acidity_level_bin_labels = ['high', 'moderately high', 'medium', 'low']\n",
    "\n",
    "df_wine[Col.acidity_level] = pd.cut(df_wine[Col.pH],\n",
    "    bins=acidity_level_bin_edges, labels=acidity_level_bin_labels, include_lowest=True)"
   ],
   "metadata": {
    "collapsed": false,
    "pycharm": {
     "name": "#%%\n"
    }
   }
  },
  {
   "cell_type": "code",
   "execution_count": 27,
   "outputs": [
    {
     "data": {
      "text/plain": "      index  fixed acidity  volatile acidity  citric acid  residual sugar  \\\n3499   1900           10.0              0.23         0.27            14.1   \n151     151            9.2              0.52         1.00             3.4   \n2813   1214            9.7              0.24         0.45             1.2   \n3761   2162            9.9              0.49         0.23             2.4   \n5361   3762            7.4              0.20         0.35             6.1   \n...     ...            ...               ...          ...             ...   \n95       95            4.7              0.60         0.17             2.3   \n45       45            4.6              0.52         0.15             2.1   \n695     695            5.1              0.47         0.02             1.3   \n1316   1316            5.4              0.74         0.00             1.2   \n1321   1321            5.0              0.74         0.00             1.2   \n\n      chlorides  free sulfur dioxide  total sulfur dioxide  density    pH  \\\n3499      0.033                 45.0                 166.0  0.99880  2.72   \n151       0.610                 32.0                  69.0  0.99960  2.74   \n2813      0.033                 11.0                  59.0  0.99260  2.74   \n3761      0.087                 19.0                 115.0  0.99480  2.77   \n5361      0.025                 10.0                  40.0  0.99244  2.79   \n...         ...                  ...                   ...      ...   ...   \n95        0.058                 17.0                 106.0  0.99320  3.85   \n45        0.054                  8.0                  65.0  0.99340  3.90   \n695       0.034                 18.0                  44.0  0.99210  3.90   \n1316      0.041                 16.0                  46.0  0.99258  4.01   \n1321      0.041                 16.0                  46.0  0.99258  4.01   \n\n      sulphates  alcohol  quality  color acidity level  \n3499       0.43      9.7        6  white          high  \n151        2.00      9.4        4    red          high  \n2813       0.47     10.8        6  white          high  \n3761       0.44      9.4        6  white          high  \n5361       0.52     10.9        5  white          high  \n...         ...      ...      ...    ...           ...  \n95         0.60     12.9        6    red           low  \n45         0.56     13.1        4    red           low  \n695        0.62     12.8        6    red           low  \n1316       0.59     12.5        6    red           low  \n1321       0.59     12.5        6    red           low  \n\n[6497 rows x 15 columns]",
      "text/html": "<div>\n<style scoped>\n    .dataframe tbody tr th:only-of-type {\n        vertical-align: middle;\n    }\n\n    .dataframe tbody tr th {\n        vertical-align: top;\n    }\n\n    .dataframe thead th {\n        text-align: right;\n    }\n</style>\n<table border=\"1\" class=\"dataframe\">\n  <thead>\n    <tr style=\"text-align: right;\">\n      <th></th>\n      <th>index</th>\n      <th>fixed acidity</th>\n      <th>volatile acidity</th>\n      <th>citric acid</th>\n      <th>residual sugar</th>\n      <th>chlorides</th>\n      <th>free sulfur dioxide</th>\n      <th>total sulfur dioxide</th>\n      <th>density</th>\n      <th>pH</th>\n      <th>sulphates</th>\n      <th>alcohol</th>\n      <th>quality</th>\n      <th>color</th>\n      <th>acidity level</th>\n    </tr>\n  </thead>\n  <tbody>\n    <tr>\n      <th>3499</th>\n      <td>1900</td>\n      <td>10.0</td>\n      <td>0.23</td>\n      <td>0.27</td>\n      <td>14.1</td>\n      <td>0.033</td>\n      <td>45.0</td>\n      <td>166.0</td>\n      <td>0.99880</td>\n      <td>2.72</td>\n      <td>0.43</td>\n      <td>9.7</td>\n      <td>6</td>\n      <td>white</td>\n      <td>high</td>\n    </tr>\n    <tr>\n      <th>151</th>\n      <td>151</td>\n      <td>9.2</td>\n      <td>0.52</td>\n      <td>1.00</td>\n      <td>3.4</td>\n      <td>0.610</td>\n      <td>32.0</td>\n      <td>69.0</td>\n      <td>0.99960</td>\n      <td>2.74</td>\n      <td>2.00</td>\n      <td>9.4</td>\n      <td>4</td>\n      <td>red</td>\n      <td>high</td>\n    </tr>\n    <tr>\n      <th>2813</th>\n      <td>1214</td>\n      <td>9.7</td>\n      <td>0.24</td>\n      <td>0.45</td>\n      <td>1.2</td>\n      <td>0.033</td>\n      <td>11.0</td>\n      <td>59.0</td>\n      <td>0.99260</td>\n      <td>2.74</td>\n      <td>0.47</td>\n      <td>10.8</td>\n      <td>6</td>\n      <td>white</td>\n      <td>high</td>\n    </tr>\n    <tr>\n      <th>3761</th>\n      <td>2162</td>\n      <td>9.9</td>\n      <td>0.49</td>\n      <td>0.23</td>\n      <td>2.4</td>\n      <td>0.087</td>\n      <td>19.0</td>\n      <td>115.0</td>\n      <td>0.99480</td>\n      <td>2.77</td>\n      <td>0.44</td>\n      <td>9.4</td>\n      <td>6</td>\n      <td>white</td>\n      <td>high</td>\n    </tr>\n    <tr>\n      <th>5361</th>\n      <td>3762</td>\n      <td>7.4</td>\n      <td>0.20</td>\n      <td>0.35</td>\n      <td>6.1</td>\n      <td>0.025</td>\n      <td>10.0</td>\n      <td>40.0</td>\n      <td>0.99244</td>\n      <td>2.79</td>\n      <td>0.52</td>\n      <td>10.9</td>\n      <td>5</td>\n      <td>white</td>\n      <td>high</td>\n    </tr>\n    <tr>\n      <th>...</th>\n      <td>...</td>\n      <td>...</td>\n      <td>...</td>\n      <td>...</td>\n      <td>...</td>\n      <td>...</td>\n      <td>...</td>\n      <td>...</td>\n      <td>...</td>\n      <td>...</td>\n      <td>...</td>\n      <td>...</td>\n      <td>...</td>\n      <td>...</td>\n      <td>...</td>\n    </tr>\n    <tr>\n      <th>95</th>\n      <td>95</td>\n      <td>4.7</td>\n      <td>0.60</td>\n      <td>0.17</td>\n      <td>2.3</td>\n      <td>0.058</td>\n      <td>17.0</td>\n      <td>106.0</td>\n      <td>0.99320</td>\n      <td>3.85</td>\n      <td>0.60</td>\n      <td>12.9</td>\n      <td>6</td>\n      <td>red</td>\n      <td>low</td>\n    </tr>\n    <tr>\n      <th>45</th>\n      <td>45</td>\n      <td>4.6</td>\n      <td>0.52</td>\n      <td>0.15</td>\n      <td>2.1</td>\n      <td>0.054</td>\n      <td>8.0</td>\n      <td>65.0</td>\n      <td>0.99340</td>\n      <td>3.90</td>\n      <td>0.56</td>\n      <td>13.1</td>\n      <td>4</td>\n      <td>red</td>\n      <td>low</td>\n    </tr>\n    <tr>\n      <th>695</th>\n      <td>695</td>\n      <td>5.1</td>\n      <td>0.47</td>\n      <td>0.02</td>\n      <td>1.3</td>\n      <td>0.034</td>\n      <td>18.0</td>\n      <td>44.0</td>\n      <td>0.99210</td>\n      <td>3.90</td>\n      <td>0.62</td>\n      <td>12.8</td>\n      <td>6</td>\n      <td>red</td>\n      <td>low</td>\n    </tr>\n    <tr>\n      <th>1316</th>\n      <td>1316</td>\n      <td>5.4</td>\n      <td>0.74</td>\n      <td>0.00</td>\n      <td>1.2</td>\n      <td>0.041</td>\n      <td>16.0</td>\n      <td>46.0</td>\n      <td>0.99258</td>\n      <td>4.01</td>\n      <td>0.59</td>\n      <td>12.5</td>\n      <td>6</td>\n      <td>red</td>\n      <td>low</td>\n    </tr>\n    <tr>\n      <th>1321</th>\n      <td>1321</td>\n      <td>5.0</td>\n      <td>0.74</td>\n      <td>0.00</td>\n      <td>1.2</td>\n      <td>0.041</td>\n      <td>16.0</td>\n      <td>46.0</td>\n      <td>0.99258</td>\n      <td>4.01</td>\n      <td>0.59</td>\n      <td>12.5</td>\n      <td>6</td>\n      <td>red</td>\n      <td>low</td>\n    </tr>\n  </tbody>\n</table>\n<p>6497 rows × 15 columns</p>\n</div>"
     },
     "execution_count": 27,
     "metadata": {},
     "output_type": "execute_result"
    }
   ],
   "source": [
    "df_wine.sort_values(by=Col.pH)"
   ],
   "metadata": {
    "collapsed": false,
    "pycharm": {
     "name": "#%%\n"
    }
   }
  },
  {
   "cell_type": "code",
   "execution_count": 28,
   "outputs": [
    {
     "name": "stdout",
     "output_type": "stream",
     "text": [
      "<class 'pandas.core.frame.DataFrame'>\n",
      "RangeIndex: 6497 entries, 0 to 6496\n",
      "Data columns (total 15 columns):\n",
      " #   Column                Non-Null Count  Dtype   \n",
      "---  ------                --------------  -----   \n",
      " 0   index                 6497 non-null   int64   \n",
      " 1   fixed acidity         6497 non-null   float64 \n",
      " 2   volatile acidity      6497 non-null   float64 \n",
      " 3   citric acid           6497 non-null   float64 \n",
      " 4   residual sugar        6497 non-null   float64 \n",
      " 5   chlorides             6497 non-null   float64 \n",
      " 6   free sulfur dioxide   6497 non-null   float64 \n",
      " 7   total sulfur dioxide  6497 non-null   float64 \n",
      " 8   density               6497 non-null   float64 \n",
      " 9   pH                    6497 non-null   float64 \n",
      " 10  sulphates             6497 non-null   float64 \n",
      " 11  alcohol               6497 non-null   float64 \n",
      " 12  quality               6497 non-null   int64   \n",
      " 13  color                 6497 non-null   object  \n",
      " 14  acidity level         6497 non-null   category\n",
      "dtypes: category(1), float64(11), int64(2), object(1)\n",
      "memory usage: 717.3+ KB\n"
     ]
    }
   ],
   "source": [
    "df_wine.info()"
   ],
   "metadata": {
    "collapsed": false,
    "pycharm": {
     "name": "#%%\n"
    }
   }
  },
  {
   "cell_type": "code",
   "execution_count": 29,
   "outputs": [
    {
     "data": {
      "text/plain": "acidity level\nhigh               5.783469\nmoderately high    5.784540\nmedium             5.850832\nlow                5.859593\nName: quality, dtype: float64"
     },
     "execution_count": 29,
     "metadata": {},
     "output_type": "execute_result"
    }
   ],
   "source": [
    "mean_quality_by_acidity_level = df_wine.groupby(Col.acidity_level)[Col.quality].mean()\n",
    "mean_quality_by_acidity_level"
   ],
   "metadata": {
    "collapsed": false,
    "pycharm": {
     "name": "#%%\n"
    }
   }
  },
  {
   "cell_type": "code",
   "execution_count": 30,
   "outputs": [
    {
     "name": "stdout",
     "output_type": "stream",
     "text": [
      "low acidity level is associated with highest average quality rating, which is 5.8596.\n"
     ]
    }
   ],
   "source": [
    "print(f\"{mean_quality_by_acidity_level.idxmax()} acidity level is associated \"\n",
    "      f\"with highest average quality rating, which is {mean_quality_by_acidity_level.max():.4f}.\" )"
   ],
   "metadata": {
    "collapsed": false,
    "pycharm": {
     "name": "#%%\n"
    }
   }
  },
  {
   "cell_type": "markdown",
   "source": [
    "## Drawing conclusions using query"
   ],
   "metadata": {
    "collapsed": false
   }
  },
  {
   "cell_type": "markdown",
   "source": [
    "#### Do wines with higher alcohol level receive better ratings?"
   ],
   "metadata": {
    "collapsed": false
   }
  },
  {
   "cell_type": "markdown",
   "source": [
    "Select entries with low and high alcohol."
   ],
   "metadata": {
    "collapsed": false
   }
  },
  {
   "cell_type": "code",
   "execution_count": 31,
   "outputs": [
    {
     "data": {
      "text/plain": "      index  fixed acidity  volatile acidity  citric acid  residual sugar  \\\n0         0            7.4             0.700         0.00            1.90   \n1         1            7.8             0.880         0.00            2.60   \n2         2            7.8             0.760         0.04            2.30   \n3         3           11.2             0.280         0.56            1.90   \n4         4            7.4             0.700         0.00            1.90   \n...     ...            ...               ...          ...             ...   \n6487   4888            6.8             0.220         0.36            1.20   \n6488   4889            4.9             0.235         0.27           11.75   \n6491   4892            6.5             0.230         0.38            1.30   \n6493   4894            6.6             0.320         0.36            8.00   \n6494   4895            6.5             0.240         0.19            1.20   \n\n      chlorides  free sulfur dioxide  total sulfur dioxide  density    pH  \\\n0         0.076                 11.0                  34.0  0.99780  3.51   \n1         0.098                 25.0                  67.0  0.99680  3.20   \n2         0.092                 15.0                  54.0  0.99700  3.26   \n3         0.075                 17.0                  60.0  0.99800  3.16   \n4         0.076                 11.0                  34.0  0.99780  3.51   \n...         ...                  ...                   ...      ...   ...   \n6487      0.052                 38.0                 127.0  0.99330  3.04   \n6488      0.030                 34.0                 118.0  0.99540  3.07   \n6491      0.032                 29.0                 112.0  0.99298  3.29   \n6493      0.047                 57.0                 168.0  0.99490  3.15   \n6494      0.041                 30.0                 111.0  0.99254  2.99   \n\n      sulphates  alcohol  quality  color    acidity level  \n0          0.56      9.4        5    red              low  \n1          0.68      9.8        5    red  moderately high  \n2          0.65      9.8        5    red           medium  \n3          0.58      9.8        6    red  moderately high  \n4          0.56      9.4        5    red              low  \n...         ...      ...      ...    ...              ...  \n6487       0.54      9.2        5  white             high  \n6488       0.50      9.4        6  white             high  \n6491       0.54      9.7        5  white           medium  \n6493       0.46      9.6        5  white  moderately high  \n6494       0.46      9.4        6  white             high  \n\n[3177 rows x 15 columns]",
      "text/html": "<div>\n<style scoped>\n    .dataframe tbody tr th:only-of-type {\n        vertical-align: middle;\n    }\n\n    .dataframe tbody tr th {\n        vertical-align: top;\n    }\n\n    .dataframe thead th {\n        text-align: right;\n    }\n</style>\n<table border=\"1\" class=\"dataframe\">\n  <thead>\n    <tr style=\"text-align: right;\">\n      <th></th>\n      <th>index</th>\n      <th>fixed acidity</th>\n      <th>volatile acidity</th>\n      <th>citric acid</th>\n      <th>residual sugar</th>\n      <th>chlorides</th>\n      <th>free sulfur dioxide</th>\n      <th>total sulfur dioxide</th>\n      <th>density</th>\n      <th>pH</th>\n      <th>sulphates</th>\n      <th>alcohol</th>\n      <th>quality</th>\n      <th>color</th>\n      <th>acidity level</th>\n    </tr>\n  </thead>\n  <tbody>\n    <tr>\n      <th>0</th>\n      <td>0</td>\n      <td>7.4</td>\n      <td>0.700</td>\n      <td>0.00</td>\n      <td>1.90</td>\n      <td>0.076</td>\n      <td>11.0</td>\n      <td>34.0</td>\n      <td>0.99780</td>\n      <td>3.51</td>\n      <td>0.56</td>\n      <td>9.4</td>\n      <td>5</td>\n      <td>red</td>\n      <td>low</td>\n    </tr>\n    <tr>\n      <th>1</th>\n      <td>1</td>\n      <td>7.8</td>\n      <td>0.880</td>\n      <td>0.00</td>\n      <td>2.60</td>\n      <td>0.098</td>\n      <td>25.0</td>\n      <td>67.0</td>\n      <td>0.99680</td>\n      <td>3.20</td>\n      <td>0.68</td>\n      <td>9.8</td>\n      <td>5</td>\n      <td>red</td>\n      <td>moderately high</td>\n    </tr>\n    <tr>\n      <th>2</th>\n      <td>2</td>\n      <td>7.8</td>\n      <td>0.760</td>\n      <td>0.04</td>\n      <td>2.30</td>\n      <td>0.092</td>\n      <td>15.0</td>\n      <td>54.0</td>\n      <td>0.99700</td>\n      <td>3.26</td>\n      <td>0.65</td>\n      <td>9.8</td>\n      <td>5</td>\n      <td>red</td>\n      <td>medium</td>\n    </tr>\n    <tr>\n      <th>3</th>\n      <td>3</td>\n      <td>11.2</td>\n      <td>0.280</td>\n      <td>0.56</td>\n      <td>1.90</td>\n      <td>0.075</td>\n      <td>17.0</td>\n      <td>60.0</td>\n      <td>0.99800</td>\n      <td>3.16</td>\n      <td>0.58</td>\n      <td>9.8</td>\n      <td>6</td>\n      <td>red</td>\n      <td>moderately high</td>\n    </tr>\n    <tr>\n      <th>4</th>\n      <td>4</td>\n      <td>7.4</td>\n      <td>0.700</td>\n      <td>0.00</td>\n      <td>1.90</td>\n      <td>0.076</td>\n      <td>11.0</td>\n      <td>34.0</td>\n      <td>0.99780</td>\n      <td>3.51</td>\n      <td>0.56</td>\n      <td>9.4</td>\n      <td>5</td>\n      <td>red</td>\n      <td>low</td>\n    </tr>\n    <tr>\n      <th>...</th>\n      <td>...</td>\n      <td>...</td>\n      <td>...</td>\n      <td>...</td>\n      <td>...</td>\n      <td>...</td>\n      <td>...</td>\n      <td>...</td>\n      <td>...</td>\n      <td>...</td>\n      <td>...</td>\n      <td>...</td>\n      <td>...</td>\n      <td>...</td>\n      <td>...</td>\n    </tr>\n    <tr>\n      <th>6487</th>\n      <td>4888</td>\n      <td>6.8</td>\n      <td>0.220</td>\n      <td>0.36</td>\n      <td>1.20</td>\n      <td>0.052</td>\n      <td>38.0</td>\n      <td>127.0</td>\n      <td>0.99330</td>\n      <td>3.04</td>\n      <td>0.54</td>\n      <td>9.2</td>\n      <td>5</td>\n      <td>white</td>\n      <td>high</td>\n    </tr>\n    <tr>\n      <th>6488</th>\n      <td>4889</td>\n      <td>4.9</td>\n      <td>0.235</td>\n      <td>0.27</td>\n      <td>11.75</td>\n      <td>0.030</td>\n      <td>34.0</td>\n      <td>118.0</td>\n      <td>0.99540</td>\n      <td>3.07</td>\n      <td>0.50</td>\n      <td>9.4</td>\n      <td>6</td>\n      <td>white</td>\n      <td>high</td>\n    </tr>\n    <tr>\n      <th>6491</th>\n      <td>4892</td>\n      <td>6.5</td>\n      <td>0.230</td>\n      <td>0.38</td>\n      <td>1.30</td>\n      <td>0.032</td>\n      <td>29.0</td>\n      <td>112.0</td>\n      <td>0.99298</td>\n      <td>3.29</td>\n      <td>0.54</td>\n      <td>9.7</td>\n      <td>5</td>\n      <td>white</td>\n      <td>medium</td>\n    </tr>\n    <tr>\n      <th>6493</th>\n      <td>4894</td>\n      <td>6.6</td>\n      <td>0.320</td>\n      <td>0.36</td>\n      <td>8.00</td>\n      <td>0.047</td>\n      <td>57.0</td>\n      <td>168.0</td>\n      <td>0.99490</td>\n      <td>3.15</td>\n      <td>0.46</td>\n      <td>9.6</td>\n      <td>5</td>\n      <td>white</td>\n      <td>moderately high</td>\n    </tr>\n    <tr>\n      <th>6494</th>\n      <td>4895</td>\n      <td>6.5</td>\n      <td>0.240</td>\n      <td>0.19</td>\n      <td>1.20</td>\n      <td>0.041</td>\n      <td>30.0</td>\n      <td>111.0</td>\n      <td>0.99254</td>\n      <td>2.99</td>\n      <td>0.46</td>\n      <td>9.4</td>\n      <td>6</td>\n      <td>white</td>\n      <td>high</td>\n    </tr>\n  </tbody>\n</table>\n<p>3177 rows × 15 columns</p>\n</div>"
     },
     "execution_count": 31,
     "metadata": {},
     "output_type": "execute_result"
    }
   ],
   "source": [
    "alcohol_median = df_wine[Col.alcohol].median()\n",
    "\n",
    "low_alcohol_wines = df_wine[df_wine[Col.alcohol] < alcohol_median]\n",
    "low_alcohol_wines"
   ],
   "metadata": {
    "collapsed": false,
    "pycharm": {
     "name": "#%%\n"
    }
   }
  },
  {
   "cell_type": "code",
   "execution_count": 32,
   "outputs": [
    {
     "data": {
      "text/plain": "      index  fixed acidity  volatile acidity  citric acid  residual sugar  \\\n9         9            7.5             0.500         0.36             6.1   \n11       11            7.5             0.500         0.36             6.1   \n16       16            8.5             0.280         0.56             1.8   \n31       31            6.9             0.685         0.00             2.5   \n36       36            7.8             0.600         0.14             2.4   \n...     ...            ...               ...          ...             ...   \n6489   4890            6.1             0.340         0.29             2.2   \n6490   4891            5.7             0.210         0.32             0.9   \n6492   4893            6.2             0.210         0.29             1.6   \n6495   4896            5.5             0.290         0.30             1.1   \n6496   4897            6.0             0.210         0.38             0.8   \n\n      chlorides  free sulfur dioxide  total sulfur dioxide  density    pH  \\\n9         0.071                 17.0                 102.0  0.99780  3.35   \n11        0.071                 17.0                 102.0  0.99780  3.35   \n16        0.092                 35.0                 103.0  0.99690  3.30   \n31        0.105                 22.0                  37.0  0.99660  3.46   \n36        0.086                  3.0                  15.0  0.99750  3.42   \n...         ...                  ...                   ...      ...   ...   \n6489      0.036                 25.0                 100.0  0.98938  3.06   \n6490      0.038                 38.0                 121.0  0.99074  3.24   \n6492      0.039                 24.0                  92.0  0.99114  3.27   \n6495      0.022                 20.0                 110.0  0.98869  3.34   \n6496      0.020                 22.0                  98.0  0.98941  3.26   \n\n      sulphates  alcohol  quality  color acidity level  \n9          0.80     10.5        5    red           low  \n11         0.80     10.5        5    red           low  \n16         0.75     10.5        7    red        medium  \n31         0.57     10.6        6    red           low  \n36         0.60     10.8        6    red           low  \n...         ...      ...      ...    ...           ...  \n6489       0.44     11.8        6  white          high  \n6490       0.46     10.6        6  white        medium  \n6492       0.50     11.2        6  white        medium  \n6495       0.38     12.8        7  white           low  \n6496       0.32     11.8        6  white        medium  \n\n[3320 rows x 15 columns]",
      "text/html": "<div>\n<style scoped>\n    .dataframe tbody tr th:only-of-type {\n        vertical-align: middle;\n    }\n\n    .dataframe tbody tr th {\n        vertical-align: top;\n    }\n\n    .dataframe thead th {\n        text-align: right;\n    }\n</style>\n<table border=\"1\" class=\"dataframe\">\n  <thead>\n    <tr style=\"text-align: right;\">\n      <th></th>\n      <th>index</th>\n      <th>fixed acidity</th>\n      <th>volatile acidity</th>\n      <th>citric acid</th>\n      <th>residual sugar</th>\n      <th>chlorides</th>\n      <th>free sulfur dioxide</th>\n      <th>total sulfur dioxide</th>\n      <th>density</th>\n      <th>pH</th>\n      <th>sulphates</th>\n      <th>alcohol</th>\n      <th>quality</th>\n      <th>color</th>\n      <th>acidity level</th>\n    </tr>\n  </thead>\n  <tbody>\n    <tr>\n      <th>9</th>\n      <td>9</td>\n      <td>7.5</td>\n      <td>0.500</td>\n      <td>0.36</td>\n      <td>6.1</td>\n      <td>0.071</td>\n      <td>17.0</td>\n      <td>102.0</td>\n      <td>0.99780</td>\n      <td>3.35</td>\n      <td>0.80</td>\n      <td>10.5</td>\n      <td>5</td>\n      <td>red</td>\n      <td>low</td>\n    </tr>\n    <tr>\n      <th>11</th>\n      <td>11</td>\n      <td>7.5</td>\n      <td>0.500</td>\n      <td>0.36</td>\n      <td>6.1</td>\n      <td>0.071</td>\n      <td>17.0</td>\n      <td>102.0</td>\n      <td>0.99780</td>\n      <td>3.35</td>\n      <td>0.80</td>\n      <td>10.5</td>\n      <td>5</td>\n      <td>red</td>\n      <td>low</td>\n    </tr>\n    <tr>\n      <th>16</th>\n      <td>16</td>\n      <td>8.5</td>\n      <td>0.280</td>\n      <td>0.56</td>\n      <td>1.8</td>\n      <td>0.092</td>\n      <td>35.0</td>\n      <td>103.0</td>\n      <td>0.99690</td>\n      <td>3.30</td>\n      <td>0.75</td>\n      <td>10.5</td>\n      <td>7</td>\n      <td>red</td>\n      <td>medium</td>\n    </tr>\n    <tr>\n      <th>31</th>\n      <td>31</td>\n      <td>6.9</td>\n      <td>0.685</td>\n      <td>0.00</td>\n      <td>2.5</td>\n      <td>0.105</td>\n      <td>22.0</td>\n      <td>37.0</td>\n      <td>0.99660</td>\n      <td>3.46</td>\n      <td>0.57</td>\n      <td>10.6</td>\n      <td>6</td>\n      <td>red</td>\n      <td>low</td>\n    </tr>\n    <tr>\n      <th>36</th>\n      <td>36</td>\n      <td>7.8</td>\n      <td>0.600</td>\n      <td>0.14</td>\n      <td>2.4</td>\n      <td>0.086</td>\n      <td>3.0</td>\n      <td>15.0</td>\n      <td>0.99750</td>\n      <td>3.42</td>\n      <td>0.60</td>\n      <td>10.8</td>\n      <td>6</td>\n      <td>red</td>\n      <td>low</td>\n    </tr>\n    <tr>\n      <th>...</th>\n      <td>...</td>\n      <td>...</td>\n      <td>...</td>\n      <td>...</td>\n      <td>...</td>\n      <td>...</td>\n      <td>...</td>\n      <td>...</td>\n      <td>...</td>\n      <td>...</td>\n      <td>...</td>\n      <td>...</td>\n      <td>...</td>\n      <td>...</td>\n      <td>...</td>\n    </tr>\n    <tr>\n      <th>6489</th>\n      <td>4890</td>\n      <td>6.1</td>\n      <td>0.340</td>\n      <td>0.29</td>\n      <td>2.2</td>\n      <td>0.036</td>\n      <td>25.0</td>\n      <td>100.0</td>\n      <td>0.98938</td>\n      <td>3.06</td>\n      <td>0.44</td>\n      <td>11.8</td>\n      <td>6</td>\n      <td>white</td>\n      <td>high</td>\n    </tr>\n    <tr>\n      <th>6490</th>\n      <td>4891</td>\n      <td>5.7</td>\n      <td>0.210</td>\n      <td>0.32</td>\n      <td>0.9</td>\n      <td>0.038</td>\n      <td>38.0</td>\n      <td>121.0</td>\n      <td>0.99074</td>\n      <td>3.24</td>\n      <td>0.46</td>\n      <td>10.6</td>\n      <td>6</td>\n      <td>white</td>\n      <td>medium</td>\n    </tr>\n    <tr>\n      <th>6492</th>\n      <td>4893</td>\n      <td>6.2</td>\n      <td>0.210</td>\n      <td>0.29</td>\n      <td>1.6</td>\n      <td>0.039</td>\n      <td>24.0</td>\n      <td>92.0</td>\n      <td>0.99114</td>\n      <td>3.27</td>\n      <td>0.50</td>\n      <td>11.2</td>\n      <td>6</td>\n      <td>white</td>\n      <td>medium</td>\n    </tr>\n    <tr>\n      <th>6495</th>\n      <td>4896</td>\n      <td>5.5</td>\n      <td>0.290</td>\n      <td>0.30</td>\n      <td>1.1</td>\n      <td>0.022</td>\n      <td>20.0</td>\n      <td>110.0</td>\n      <td>0.98869</td>\n      <td>3.34</td>\n      <td>0.38</td>\n      <td>12.8</td>\n      <td>7</td>\n      <td>white</td>\n      <td>low</td>\n    </tr>\n    <tr>\n      <th>6496</th>\n      <td>4897</td>\n      <td>6.0</td>\n      <td>0.210</td>\n      <td>0.38</td>\n      <td>0.8</td>\n      <td>0.020</td>\n      <td>22.0</td>\n      <td>98.0</td>\n      <td>0.98941</td>\n      <td>3.26</td>\n      <td>0.32</td>\n      <td>11.8</td>\n      <td>6</td>\n      <td>white</td>\n      <td>medium</td>\n    </tr>\n  </tbody>\n</table>\n<p>3320 rows × 15 columns</p>\n</div>"
     },
     "execution_count": 32,
     "metadata": {},
     "output_type": "execute_result"
    }
   ],
   "source": [
    "high_alcohol_wines = df_wine[df_wine[Col.alcohol] >= alcohol_median]\n",
    "high_alcohol_wines"
   ],
   "metadata": {
    "collapsed": false,
    "pycharm": {
     "name": "#%%\n"
    }
   }
  },
  {
   "cell_type": "markdown",
   "source": [
    "Double-check that the groups are a disjoint partitioning of all wine entries."
   ],
   "metadata": {
    "collapsed": false
   }
  },
  {
   "cell_type": "code",
   "execution_count": 33,
   "outputs": [
    {
     "name": "stdout",
     "output_type": "stream",
     "text": [
      "Check that the number of entries in low/high alcohol sub-sets is equal to the number of all entries: True\n",
      "Check that the entries in low/high alcohol sub-sets are disjoint: True\n"
     ]
    }
   ],
   "source": [
    "print(f\"Check that the number of entries in low/high alcohol sub-sets is equal to the number of all entries: \"\n",
    "      f\"{len(df_wine.index) == len(low_alcohol_wines) + len(high_alcohol_wines)}\" )\n",
    "\n",
    "print(f\"Check that the entries in low/high alcohol sub-sets are disjoint: \"\n",
    "      f\"{set(low_alcohol_wines.index.values).isdisjoint(set(high_alcohol_wines.index.values))}\" )"
   ],
   "metadata": {
    "collapsed": false,
    "pycharm": {
     "name": "#%%\n"
    }
   }
  },
  {
   "cell_type": "markdown",
   "source": [
    "Calculate the mean quality for low/high alcohol subsets."
   ],
   "metadata": {
    "collapsed": false
   }
  },
  {
   "cell_type": "code",
   "execution_count": 34,
   "outputs": [
    {
     "name": "stdout",
     "output_type": "stream",
     "text": [
      "Wines with low alcohol, mean rating:  5.4759\n",
      "Wines with high alcohol, mean rating: 6.1461\n"
     ]
    }
   ],
   "source": [
    "print(f\"Wines with low alcohol, mean rating:  {low_alcohol_wines[Col.quality].mean():.4f}\")\n",
    "print(f\"Wines with high alcohol, mean rating: {high_alcohol_wines[Col.quality].mean():.4f}\")"
   ],
   "metadata": {
    "collapsed": false,
    "pycharm": {
     "name": "#%%\n"
    }
   }
  },
  {
   "cell_type": "markdown",
   "source": [
    "#### Do sweeter wines receive better ratings?"
   ],
   "metadata": {
    "collapsed": false,
    "pycharm": {
     "name": "#%% md\n"
    }
   }
  },
  {
   "cell_type": "markdown",
   "source": [
    "Select entries with low and high residual sugar."
   ],
   "metadata": {
    "collapsed": false,
    "pycharm": {
     "name": "#%% md\n"
    }
   }
  },
  {
   "cell_type": "code",
   "execution_count": 35,
   "outputs": [
    {
     "data": {
      "text/plain": "      index  fixed acidity  volatile acidity  citric acid  residual sugar  \\\n0         0            7.4              0.70         0.00             1.9   \n1         1            7.8              0.88         0.00             2.6   \n2         2            7.8              0.76         0.04             2.3   \n3         3           11.2              0.28         0.56             1.9   \n4         4            7.4              0.70         0.00             1.9   \n...     ...            ...               ...          ...             ...   \n6491   4892            6.5              0.23         0.38             1.3   \n6492   4893            6.2              0.21         0.29             1.6   \n6494   4895            6.5              0.24         0.19             1.2   \n6495   4896            5.5              0.29         0.30             1.1   \n6496   4897            6.0              0.21         0.38             0.8   \n\n      chlorides  free sulfur dioxide  total sulfur dioxide  density    pH  \\\n0         0.076                 11.0                  34.0  0.99780  3.51   \n1         0.098                 25.0                  67.0  0.99680  3.20   \n2         0.092                 15.0                  54.0  0.99700  3.26   \n3         0.075                 17.0                  60.0  0.99800  3.16   \n4         0.076                 11.0                  34.0  0.99780  3.51   \n...         ...                  ...                   ...      ...   ...   \n6491      0.032                 29.0                 112.0  0.99298  3.29   \n6492      0.039                 24.0                  92.0  0.99114  3.27   \n6494      0.041                 30.0                 111.0  0.99254  2.99   \n6495      0.022                 20.0                 110.0  0.98869  3.34   \n6496      0.020                 22.0                  98.0  0.98941  3.26   \n\n      sulphates  alcohol  quality  color    acidity level  \n0          0.56      9.4        5    red              low  \n1          0.68      9.8        5    red  moderately high  \n2          0.65      9.8        5    red           medium  \n3          0.58      9.8        6    red  moderately high  \n4          0.56      9.4        5    red              low  \n...         ...      ...      ...    ...              ...  \n6491       0.54      9.7        5  white           medium  \n6492       0.50     11.2        6  white           medium  \n6494       0.46      9.4        6  white             high  \n6495       0.38     12.8        7  white              low  \n6496       0.32     11.8        6  white           medium  \n\n[3227 rows x 15 columns]",
      "text/html": "<div>\n<style scoped>\n    .dataframe tbody tr th:only-of-type {\n        vertical-align: middle;\n    }\n\n    .dataframe tbody tr th {\n        vertical-align: top;\n    }\n\n    .dataframe thead th {\n        text-align: right;\n    }\n</style>\n<table border=\"1\" class=\"dataframe\">\n  <thead>\n    <tr style=\"text-align: right;\">\n      <th></th>\n      <th>index</th>\n      <th>fixed acidity</th>\n      <th>volatile acidity</th>\n      <th>citric acid</th>\n      <th>residual sugar</th>\n      <th>chlorides</th>\n      <th>free sulfur dioxide</th>\n      <th>total sulfur dioxide</th>\n      <th>density</th>\n      <th>pH</th>\n      <th>sulphates</th>\n      <th>alcohol</th>\n      <th>quality</th>\n      <th>color</th>\n      <th>acidity level</th>\n    </tr>\n  </thead>\n  <tbody>\n    <tr>\n      <th>0</th>\n      <td>0</td>\n      <td>7.4</td>\n      <td>0.70</td>\n      <td>0.00</td>\n      <td>1.9</td>\n      <td>0.076</td>\n      <td>11.0</td>\n      <td>34.0</td>\n      <td>0.99780</td>\n      <td>3.51</td>\n      <td>0.56</td>\n      <td>9.4</td>\n      <td>5</td>\n      <td>red</td>\n      <td>low</td>\n    </tr>\n    <tr>\n      <th>1</th>\n      <td>1</td>\n      <td>7.8</td>\n      <td>0.88</td>\n      <td>0.00</td>\n      <td>2.6</td>\n      <td>0.098</td>\n      <td>25.0</td>\n      <td>67.0</td>\n      <td>0.99680</td>\n      <td>3.20</td>\n      <td>0.68</td>\n      <td>9.8</td>\n      <td>5</td>\n      <td>red</td>\n      <td>moderately high</td>\n    </tr>\n    <tr>\n      <th>2</th>\n      <td>2</td>\n      <td>7.8</td>\n      <td>0.76</td>\n      <td>0.04</td>\n      <td>2.3</td>\n      <td>0.092</td>\n      <td>15.0</td>\n      <td>54.0</td>\n      <td>0.99700</td>\n      <td>3.26</td>\n      <td>0.65</td>\n      <td>9.8</td>\n      <td>5</td>\n      <td>red</td>\n      <td>medium</td>\n    </tr>\n    <tr>\n      <th>3</th>\n      <td>3</td>\n      <td>11.2</td>\n      <td>0.28</td>\n      <td>0.56</td>\n      <td>1.9</td>\n      <td>0.075</td>\n      <td>17.0</td>\n      <td>60.0</td>\n      <td>0.99800</td>\n      <td>3.16</td>\n      <td>0.58</td>\n      <td>9.8</td>\n      <td>6</td>\n      <td>red</td>\n      <td>moderately high</td>\n    </tr>\n    <tr>\n      <th>4</th>\n      <td>4</td>\n      <td>7.4</td>\n      <td>0.70</td>\n      <td>0.00</td>\n      <td>1.9</td>\n      <td>0.076</td>\n      <td>11.0</td>\n      <td>34.0</td>\n      <td>0.99780</td>\n      <td>3.51</td>\n      <td>0.56</td>\n      <td>9.4</td>\n      <td>5</td>\n      <td>red</td>\n      <td>low</td>\n    </tr>\n    <tr>\n      <th>...</th>\n      <td>...</td>\n      <td>...</td>\n      <td>...</td>\n      <td>...</td>\n      <td>...</td>\n      <td>...</td>\n      <td>...</td>\n      <td>...</td>\n      <td>...</td>\n      <td>...</td>\n      <td>...</td>\n      <td>...</td>\n      <td>...</td>\n      <td>...</td>\n      <td>...</td>\n    </tr>\n    <tr>\n      <th>6491</th>\n      <td>4892</td>\n      <td>6.5</td>\n      <td>0.23</td>\n      <td>0.38</td>\n      <td>1.3</td>\n      <td>0.032</td>\n      <td>29.0</td>\n      <td>112.0</td>\n      <td>0.99298</td>\n      <td>3.29</td>\n      <td>0.54</td>\n      <td>9.7</td>\n      <td>5</td>\n      <td>white</td>\n      <td>medium</td>\n    </tr>\n    <tr>\n      <th>6492</th>\n      <td>4893</td>\n      <td>6.2</td>\n      <td>0.21</td>\n      <td>0.29</td>\n      <td>1.6</td>\n      <td>0.039</td>\n      <td>24.0</td>\n      <td>92.0</td>\n      <td>0.99114</td>\n      <td>3.27</td>\n      <td>0.50</td>\n      <td>11.2</td>\n      <td>6</td>\n      <td>white</td>\n      <td>medium</td>\n    </tr>\n    <tr>\n      <th>6494</th>\n      <td>4895</td>\n      <td>6.5</td>\n      <td>0.24</td>\n      <td>0.19</td>\n      <td>1.2</td>\n      <td>0.041</td>\n      <td>30.0</td>\n      <td>111.0</td>\n      <td>0.99254</td>\n      <td>2.99</td>\n      <td>0.46</td>\n      <td>9.4</td>\n      <td>6</td>\n      <td>white</td>\n      <td>high</td>\n    </tr>\n    <tr>\n      <th>6495</th>\n      <td>4896</td>\n      <td>5.5</td>\n      <td>0.29</td>\n      <td>0.30</td>\n      <td>1.1</td>\n      <td>0.022</td>\n      <td>20.0</td>\n      <td>110.0</td>\n      <td>0.98869</td>\n      <td>3.34</td>\n      <td>0.38</td>\n      <td>12.8</td>\n      <td>7</td>\n      <td>white</td>\n      <td>low</td>\n    </tr>\n    <tr>\n      <th>6496</th>\n      <td>4897</td>\n      <td>6.0</td>\n      <td>0.21</td>\n      <td>0.38</td>\n      <td>0.8</td>\n      <td>0.020</td>\n      <td>22.0</td>\n      <td>98.0</td>\n      <td>0.98941</td>\n      <td>3.26</td>\n      <td>0.32</td>\n      <td>11.8</td>\n      <td>6</td>\n      <td>white</td>\n      <td>medium</td>\n    </tr>\n  </tbody>\n</table>\n<p>3227 rows × 15 columns</p>\n</div>"
     },
     "execution_count": 35,
     "metadata": {},
     "output_type": "execute_result"
    }
   ],
   "source": [
    "sugar_median = df_wine[Col.residual_sugar].median()\n",
    "\n",
    "low_sugar_wines = df_wine[df_wine[Col.residual_sugar] < sugar_median]\n",
    "low_sugar_wines"
   ],
   "metadata": {
    "collapsed": false,
    "pycharm": {
     "name": "#%%\n"
    }
   }
  },
  {
   "cell_type": "code",
   "execution_count": 36,
   "outputs": [
    {
     "data": {
      "text/plain": "      index  fixed acidity  volatile acidity  citric acid  residual sugar  \\\n9         9            7.5             0.500         0.36            6.10   \n11       11            7.5             0.500         0.36            6.10   \n14       14            8.9             0.620         0.18            3.80   \n15       15            8.9             0.620         0.19            3.90   \n18       18            7.4             0.590         0.08            4.40   \n...     ...            ...               ...          ...             ...   \n6483   4884            6.5             0.330         0.38            8.30   \n6484   4885            6.6             0.340         0.40            8.10   \n6485   4886            6.2             0.210         0.28            5.70   \n6488   4889            4.9             0.235         0.27           11.75   \n6493   4894            6.6             0.320         0.36            8.00   \n\n      chlorides  free sulfur dioxide  total sulfur dioxide  density    pH  \\\n9         0.071                 17.0                 102.0  0.99780  3.35   \n11        0.071                 17.0                 102.0  0.99780  3.35   \n14        0.176                 52.0                 145.0  0.99860  3.16   \n15        0.170                 51.0                 148.0  0.99860  3.17   \n18        0.086                  6.0                  29.0  0.99740  3.38   \n...         ...                  ...                   ...      ...   ...   \n6483      0.048                 68.0                 174.0  0.99492  3.14   \n6484      0.046                 68.0                 170.0  0.99494  3.15   \n6485      0.028                 45.0                 121.0  0.99168  3.21   \n6488      0.030                 34.0                 118.0  0.99540  3.07   \n6493      0.047                 57.0                 168.0  0.99490  3.15   \n\n      sulphates  alcohol  quality  color    acidity level  \n9          0.80    10.50        5    red              low  \n11         0.80    10.50        5    red              low  \n14         0.88     9.20        5    red  moderately high  \n15         0.93     9.20        5    red  moderately high  \n18         0.50     9.00        4    red              low  \n...         ...      ...      ...    ...              ...  \n6483       0.50     9.60        5  white  moderately high  \n6484       0.50     9.55        6  white  moderately high  \n6485       1.08    12.15        7  white  moderately high  \n6488       0.50     9.40        6  white             high  \n6493       0.46     9.60        5  white  moderately high  \n\n[3270 rows x 15 columns]",
      "text/html": "<div>\n<style scoped>\n    .dataframe tbody tr th:only-of-type {\n        vertical-align: middle;\n    }\n\n    .dataframe tbody tr th {\n        vertical-align: top;\n    }\n\n    .dataframe thead th {\n        text-align: right;\n    }\n</style>\n<table border=\"1\" class=\"dataframe\">\n  <thead>\n    <tr style=\"text-align: right;\">\n      <th></th>\n      <th>index</th>\n      <th>fixed acidity</th>\n      <th>volatile acidity</th>\n      <th>citric acid</th>\n      <th>residual sugar</th>\n      <th>chlorides</th>\n      <th>free sulfur dioxide</th>\n      <th>total sulfur dioxide</th>\n      <th>density</th>\n      <th>pH</th>\n      <th>sulphates</th>\n      <th>alcohol</th>\n      <th>quality</th>\n      <th>color</th>\n      <th>acidity level</th>\n    </tr>\n  </thead>\n  <tbody>\n    <tr>\n      <th>9</th>\n      <td>9</td>\n      <td>7.5</td>\n      <td>0.500</td>\n      <td>0.36</td>\n      <td>6.10</td>\n      <td>0.071</td>\n      <td>17.0</td>\n      <td>102.0</td>\n      <td>0.99780</td>\n      <td>3.35</td>\n      <td>0.80</td>\n      <td>10.50</td>\n      <td>5</td>\n      <td>red</td>\n      <td>low</td>\n    </tr>\n    <tr>\n      <th>11</th>\n      <td>11</td>\n      <td>7.5</td>\n      <td>0.500</td>\n      <td>0.36</td>\n      <td>6.10</td>\n      <td>0.071</td>\n      <td>17.0</td>\n      <td>102.0</td>\n      <td>0.99780</td>\n      <td>3.35</td>\n      <td>0.80</td>\n      <td>10.50</td>\n      <td>5</td>\n      <td>red</td>\n      <td>low</td>\n    </tr>\n    <tr>\n      <th>14</th>\n      <td>14</td>\n      <td>8.9</td>\n      <td>0.620</td>\n      <td>0.18</td>\n      <td>3.80</td>\n      <td>0.176</td>\n      <td>52.0</td>\n      <td>145.0</td>\n      <td>0.99860</td>\n      <td>3.16</td>\n      <td>0.88</td>\n      <td>9.20</td>\n      <td>5</td>\n      <td>red</td>\n      <td>moderately high</td>\n    </tr>\n    <tr>\n      <th>15</th>\n      <td>15</td>\n      <td>8.9</td>\n      <td>0.620</td>\n      <td>0.19</td>\n      <td>3.90</td>\n      <td>0.170</td>\n      <td>51.0</td>\n      <td>148.0</td>\n      <td>0.99860</td>\n      <td>3.17</td>\n      <td>0.93</td>\n      <td>9.20</td>\n      <td>5</td>\n      <td>red</td>\n      <td>moderately high</td>\n    </tr>\n    <tr>\n      <th>18</th>\n      <td>18</td>\n      <td>7.4</td>\n      <td>0.590</td>\n      <td>0.08</td>\n      <td>4.40</td>\n      <td>0.086</td>\n      <td>6.0</td>\n      <td>29.0</td>\n      <td>0.99740</td>\n      <td>3.38</td>\n      <td>0.50</td>\n      <td>9.00</td>\n      <td>4</td>\n      <td>red</td>\n      <td>low</td>\n    </tr>\n    <tr>\n      <th>...</th>\n      <td>...</td>\n      <td>...</td>\n      <td>...</td>\n      <td>...</td>\n      <td>...</td>\n      <td>...</td>\n      <td>...</td>\n      <td>...</td>\n      <td>...</td>\n      <td>...</td>\n      <td>...</td>\n      <td>...</td>\n      <td>...</td>\n      <td>...</td>\n      <td>...</td>\n    </tr>\n    <tr>\n      <th>6483</th>\n      <td>4884</td>\n      <td>6.5</td>\n      <td>0.330</td>\n      <td>0.38</td>\n      <td>8.30</td>\n      <td>0.048</td>\n      <td>68.0</td>\n      <td>174.0</td>\n      <td>0.99492</td>\n      <td>3.14</td>\n      <td>0.50</td>\n      <td>9.60</td>\n      <td>5</td>\n      <td>white</td>\n      <td>moderately high</td>\n    </tr>\n    <tr>\n      <th>6484</th>\n      <td>4885</td>\n      <td>6.6</td>\n      <td>0.340</td>\n      <td>0.40</td>\n      <td>8.10</td>\n      <td>0.046</td>\n      <td>68.0</td>\n      <td>170.0</td>\n      <td>0.99494</td>\n      <td>3.15</td>\n      <td>0.50</td>\n      <td>9.55</td>\n      <td>6</td>\n      <td>white</td>\n      <td>moderately high</td>\n    </tr>\n    <tr>\n      <th>6485</th>\n      <td>4886</td>\n      <td>6.2</td>\n      <td>0.210</td>\n      <td>0.28</td>\n      <td>5.70</td>\n      <td>0.028</td>\n      <td>45.0</td>\n      <td>121.0</td>\n      <td>0.99168</td>\n      <td>3.21</td>\n      <td>1.08</td>\n      <td>12.15</td>\n      <td>7</td>\n      <td>white</td>\n      <td>moderately high</td>\n    </tr>\n    <tr>\n      <th>6488</th>\n      <td>4889</td>\n      <td>4.9</td>\n      <td>0.235</td>\n      <td>0.27</td>\n      <td>11.75</td>\n      <td>0.030</td>\n      <td>34.0</td>\n      <td>118.0</td>\n      <td>0.99540</td>\n      <td>3.07</td>\n      <td>0.50</td>\n      <td>9.40</td>\n      <td>6</td>\n      <td>white</td>\n      <td>high</td>\n    </tr>\n    <tr>\n      <th>6493</th>\n      <td>4894</td>\n      <td>6.6</td>\n      <td>0.320</td>\n      <td>0.36</td>\n      <td>8.00</td>\n      <td>0.047</td>\n      <td>57.0</td>\n      <td>168.0</td>\n      <td>0.99490</td>\n      <td>3.15</td>\n      <td>0.46</td>\n      <td>9.60</td>\n      <td>5</td>\n      <td>white</td>\n      <td>moderately high</td>\n    </tr>\n  </tbody>\n</table>\n<p>3270 rows × 15 columns</p>\n</div>"
     },
     "execution_count": 36,
     "metadata": {},
     "output_type": "execute_result"
    }
   ],
   "source": [
    "high_sugar_wines = df_wine[df_wine[Col.residual_sugar] >= sugar_median]\n",
    "high_sugar_wines"
   ],
   "metadata": {
    "collapsed": false,
    "pycharm": {
     "name": "#%%\n"
    }
   }
  },
  {
   "cell_type": "markdown",
   "source": [
    "Double-check that the groups are a disjoint partitioning of all wine entries."
   ],
   "metadata": {
    "collapsed": false,
    "pycharm": {
     "name": "#%% md\n"
    }
   }
  },
  {
   "cell_type": "code",
   "execution_count": 37,
   "outputs": [
    {
     "name": "stdout",
     "output_type": "stream",
     "text": [
      "Check that the number of entries in low/high sigar sub-sets is equal to the number of all entries: True\n",
      "Check that the entries in low/high sugar sub-sets are disjoint: True\n"
     ]
    }
   ],
   "source": [
    "print(f\"Check that the number of entries in low/high sigar sub-sets is equal to the number of all entries: \"\n",
    "      f\"{len(df_wine.index) == len(low_sugar_wines) + len(high_sugar_wines)}\" )\n",
    "\n",
    "print(f\"Check that the entries in low/high sugar sub-sets are disjoint: \"\n",
    "      f\"{set(low_sugar_wines.index.values).isdisjoint(set(high_sugar_wines.index.values))}\" )"
   ],
   "metadata": {
    "collapsed": false,
    "pycharm": {
     "name": "#%%\n"
    }
   }
  },
  {
   "cell_type": "markdown",
   "source": [
    "Calculate the mean quality for low/high sugar subsets."
   ],
   "metadata": {
    "collapsed": false,
    "pycharm": {
     "name": "#%% md\n"
    }
   }
  },
  {
   "cell_type": "code",
   "execution_count": 38,
   "outputs": [
    {
     "name": "stdout",
     "output_type": "stream",
     "text": [
      "Wines with low sugar, mean rating:  5.8088\n",
      "Wines with high sugar, mean rating: 5.8278\n"
     ]
    }
   ],
   "source": [
    "mean_quality_low_sugar = low_sugar_wines[Col.quality].mean()\n",
    "mean_quality_high_sugar = high_sugar_wines[Col.quality].mean()\n",
    "\n",
    "print(f\"Wines with low sugar, mean rating:  {mean_quality_low_sugar:.4f}\")\n",
    "print(f\"Wines with high sugar, mean rating: {mean_quality_high_sugar:.4f}\")"
   ],
   "metadata": {
    "collapsed": false,
    "pycharm": {
     "name": "#%%\n"
    }
   }
  },
  {
   "cell_type": "markdown",
   "source": [
    "## Plotting Type & Quality with `DataFrame.plot`"
   ],
   "metadata": {
    "collapsed": false
   }
  },
  {
   "cell_type": "markdown",
   "source": [
    "Plot the average wine quality rating by color."
   ],
   "metadata": {
    "collapsed": false,
    "pycharm": {
     "name": "#%% md\n"
    }
   }
  },
  {
   "cell_type": "code",
   "execution_count": 39,
   "outputs": [
    {
     "data": {
      "text/plain": "<Figure size 432x288 with 1 Axes>",
      "image/png": "[encoded data removed]"
     },
     "metadata": {},
     "output_type": "display_data"
    }
   ],
   "source": [
    "title_font_size = 16\n",
    "label_font_size = 14\n",
    "\n",
    "wine_colors = [color_red, color_white]\n",
    "df_wine.groupby([Col.color])[Col.quality].mean().plot(kind='bar', color=wine_colors)\n",
    "plt.title('Average wine quality by color', fontsize=title_font_size)\n",
    "plt.xlabel('Color', fontsize=label_font_size)\n",
    "plt.ylabel('Quality', fontsize=label_font_size);"
   ],
   "metadata": {
    "collapsed": false,
    "pycharm": {
     "name": "#%%\n"
    }
   }
  },
  {
   "cell_type": "markdown",
   "source": [
    "Plot the counts of quality ratings by quality and color."
   ],
   "metadata": {
    "collapsed": false,
    "pycharm": {
     "name": "#%% md\n"
    }
   }
  },
  {
   "cell_type": "code",
   "execution_count": 40,
   "outputs": [
    {
     "data": {
      "text/plain": "<Figure size 432x288 with 1 Axes>",
      "image/png": "[encoded data removed]"
     },
     "metadata": {},
     "output_type": "display_data"
    }
   ],
   "source": [
    "# counts in all columns are the same so we pick just one column, e.g., the `index`\n",
    "wine_counts_by_quality_and_color = df_wine.groupby([Col.quality, Col.color]).count()['index']\n",
    "\n",
    "wine_counts_by_quality_and_color.plot(kind='bar', color=wine_colors)\n",
    "plt.title('Counts by wine color and quality', fontsize=title_font_size)\n",
    "plt.xlabel('Quality and Color', fontsize=label_font_size)\n",
    "plt.ylabel('Count', fontsize=label_font_size);"
   ],
   "metadata": {
    "collapsed": false,
    "pycharm": {
     "name": "#%%\n"
    }
   }
  },
  {
   "cell_type": "markdown",
   "source": [
    "Because there are far more white wine than red wine samples,\n",
    "it's hard to compare them directly.\n",
    "Therefore, we adjust them proportionately to the total counts of red vs. white wine samples."
   ],
   "metadata": {
    "collapsed": false,
    "pycharm": {
     "name": "#%% md\n"
    }
   }
  },
  {
   "cell_type": "code",
   "execution_count": 41,
   "outputs": [
    {
     "data": {
      "text/plain": "<Figure size 432x288 with 1 Axes>",
      "image/png": "[encoded data removed]"
     },
     "metadata": {},
     "output_type": "display_data"
    }
   ],
   "source": [
    "total_counts = df_wine.groupby(Col.color).count()['index']\n",
    "wine_proportions_by_quality_and_color = wine_counts_by_quality_and_color / total_counts\n",
    "\n",
    "wine_proportions_by_quality_and_color.plot(kind='bar', color=wine_colors)\n",
    "plt.title('Proportions by wine color and quality', fontsize=title_font_size)\n",
    "plt.xlabel('Quality and Color', fontsize=16)\n",
    "plt.ylabel('Proportion', fontsize=16);"
   ],
   "metadata": {
    "collapsed": false,
    "pycharm": {
     "name": "#%%\n"
    }
   }
  },
  {
   "cell_type": "markdown",
   "source": [
    "## Plotting with Matplotlib\n",
    "\n",
    "### Matplotlib example\n",
    "\n",
    "Simple example of a bar chart with matplotlib."
   ],
   "metadata": {
    "collapsed": false
   }
  },
  {
   "cell_type": "code",
   "source": [
    "plt.bar([1, 2, 3, 5], [10, 20, 30, 50]);"
   ],
   "metadata": {
    "collapsed": false,
    "pycharm": {
     "name": "#%%\n"
    }
   },
   "execution_count": 42,
   "outputs": [
    {
     "data": {
      "text/plain": "<Figure size 432x288 with 1 Axes>",
      "image/png": "[encoded data removed]"
     },
     "metadata": {},
     "output_type": "display_data"
    }
   ]
  },
  {
   "cell_type": "markdown",
   "source": [
    "The `x` tick labels can be specified with `plt.xticks`"
   ],
   "metadata": {
    "collapsed": false,
    "pycharm": {
     "name": "#%% md\n"
    }
   }
  },
  {
   "cell_type": "code",
   "execution_count": 43,
   "outputs": [
    {
     "data": {
      "text/plain": "<Figure size 432x288 with 1 Axes>",
      "image/png": "[encoded data removed]"
     },
     "metadata": {},
     "output_type": "display_data"
    }
   ],
   "source": [
    "plt.bar([1, 2, 3, 5], [10, 20, 30, 50])\n",
    "plt.xticks([1, 2, 3, 4, 5, 6], ['a', 'b', 'c', 'd', 'e', 'f']);"
   ],
   "metadata": {
    "collapsed": false,
    "pycharm": {
     "name": "#%%\n"
    }
   }
  },
  {
   "cell_type": "markdown",
   "source": [
    "The `x` tick labels can also be specified directly as `plt.bar` parameter"
   ],
   "metadata": {
    "collapsed": false,
    "pycharm": {
     "name": "#%% md\n"
    }
   }
  },
  {
   "cell_type": "code",
   "execution_count": 44,
   "outputs": [
    {
     "data": {
      "text/plain": "<Figure size 432x288 with 1 Axes>",
      "image/png": "[encoded data removed]"
     },
     "metadata": {},
     "output_type": "display_data"
    }
   ],
   "source": [
    "plt.bar([1, 2, 3, 5], [10, 20, 30, 50], tick_label=['a', 'b', 'c', 'e']);"
   ],
   "metadata": {
    "collapsed": false,
    "pycharm": {
     "name": "#%%\n"
    }
   }
  },
  {
   "cell_type": "markdown",
   "source": [
    "Set the title and axis labels."
   ],
   "metadata": {
    "collapsed": false,
    "pycharm": {
     "name": "#%% md\n"
    }
   }
  },
  {
   "cell_type": "code",
   "execution_count": 45,
   "outputs": [
    {
     "data": {
      "text/plain": "<Figure size 432x288 with 1 Axes>",
      "image/png": "[encoded data removed]"
     },
     "metadata": {},
     "output_type": "display_data"
    }
   ],
   "source": [
    "plt.bar([1, 2, 3, 5], [10, 20, 30, 50], tick_label=['a', 'b', 'c', 'e'])\n",
    "plt.title('Title')\n",
    "plt.xlabel('X label')\n",
    "plt.ylabel('Y label');"
   ],
   "metadata": {
    "collapsed": false,
    "pycharm": {
     "name": "#%%\n"
    }
   }
  },
  {
   "cell_type": "markdown",
   "source": [
    "### Plotting wine quality with Matplotlib"
   ],
   "metadata": {
    "collapsed": false
   }
  },
  {
   "cell_type": "markdown",
   "source": [
    "#### Do wines with higher alcohol level receive better ratings?"
   ],
   "metadata": {
    "collapsed": false
   }
  },
  {
   "cell_type": "code",
   "execution_count": 46,
   "outputs": [
    {
     "data": {
      "text/plain": "10.3"
     },
     "execution_count": 46,
     "metadata": {},
     "output_type": "execute_result"
    }
   ],
   "source": [
    "median_alcohol = df_wine[Col.alcohol].median()\n",
    "median_alcohol"
   ],
   "metadata": {
    "collapsed": false,
    "pycharm": {
     "name": "#%%\n"
    }
   }
  },
  {
   "cell_type": "code",
   "execution_count": 47,
   "outputs": [
    {
     "data": {
      "text/plain": "(3177, 15)"
     },
     "execution_count": 47,
     "metadata": {},
     "output_type": "execute_result"
    }
   ],
   "source": [
    "df_wine_low_alcohol = df_wine[df_wine[Col.alcohol] < median_alcohol]\n",
    "df_wine_low_alcohol.shape"
   ],
   "metadata": {
    "collapsed": false,
    "pycharm": {
     "name": "#%%\n"
    }
   }
  },
  {
   "cell_type": "code",
   "source": [
    "df_wine_high_alcohol = df_wine[df_wine[Col.alcohol] >= median_alcohol]\n",
    "df_wine_high_alcohol.shape"
   ],
   "metadata": {
    "collapsed": false,
    "pycharm": {
     "name": "#%%\n"
    }
   },
   "execution_count": 48,
   "outputs": [
    {
     "data": {
      "text/plain": "(3320, 15)"
     },
     "execution_count": 48,
     "metadata": {},
     "output_type": "execute_result"
    }
   ]
  },
  {
   "cell_type": "code",
   "execution_count": 49,
   "outputs": [
    {
     "data": {
      "text/plain": "(5.475920679886686, 6.146084337349397)"
     },
     "execution_count": 49,
     "metadata": {},
     "output_type": "execute_result"
    }
   ],
   "source": [
    "mean_quality_low_alcohol = df_wine_low_alcohol[Col.quality].mean()\n",
    "mean_quality_high_alcohol = df_wine_high_alcohol[Col.quality].mean()\n",
    "(mean_quality_low_alcohol, mean_quality_high_alcohol)"
   ],
   "metadata": {
    "collapsed": false,
    "pycharm": {
     "name": "#%%\n"
    }
   }
  },
  {
   "cell_type": "code",
   "execution_count": 50,
   "outputs": [
    {
     "data": {
      "text/plain": "<Figure size 432x288 with 1 Axes>",
      "image/png": "[encoded data removed]"
     },
     "metadata": {},
     "output_type": "display_data"
    }
   ],
   "source": [
    "title_font_size = 16\n",
    "label_font_size = 14\n",
    "\n",
    "# the layout of the chart was partially taken from the lesson material\n",
    "locations = [1, 2]\n",
    "heights = [mean_quality_low_alcohol, mean_quality_high_alcohol]\n",
    "labels = ['Low', 'High']\n",
    "plt.bar(locations, heights, tick_label=labels)\n",
    "plt.title('Average wine quality by alcohol content', fontsize=title_font_size)\n",
    "plt.xlabel('Alcohol content', fontsize=label_font_size)\n",
    "plt.ylabel('Average wine quality', fontsize=label_font_size);"
   ],
   "metadata": {
    "collapsed": false,
    "pycharm": {
     "name": "#%%\n"
    }
   }
  },
  {
   "cell_type": "markdown",
   "source": [
    "#### Do sweeter wines receive better ratings?"
   ],
   "metadata": {
    "collapsed": false
   }
  },
  {
   "cell_type": "code",
   "execution_count": 51,
   "outputs": [
    {
     "data": {
      "text/plain": "<Figure size 432x288 with 1 Axes>",
      "image/png": "[encoded data removed]"
     },
     "metadata": {},
     "output_type": "display_data"
    }
   ],
   "source": [
    "locations = [1, 2]\n",
    "heights = [mean_quality_low_sugar, mean_quality_high_sugar]\n",
    "labels = ['Low', 'High']\n",
    "plt.bar(locations, heights, tick_label=labels)\n",
    "plt.title('Average wine quality by sugar content', fontsize=title_font_size)\n",
    "plt.xlabel('Sugar content', fontsize=label_font_size)\n",
    "plt.ylabel('Average quality rating', fontsize=label_font_size);"
   ],
   "metadata": {
    "collapsed": false,
    "pycharm": {
     "name": "#%%\n"
    }
   }
  },
  {
   "cell_type": "markdown",
   "source": [
    "#### What level of acidity (pH value) receives the highest average rating?"
   ],
   "metadata": {
    "collapsed": false
   }
  },
  {
   "cell_type": "code",
   "execution_count": 52,
   "outputs": [
    {
     "data": {
      "text/plain": "<Figure size 432x288 with 1 Axes>",
      "image/png": "[encoded data removed]"
     },
     "metadata": {},
     "output_type": "display_data"
    }
   ],
   "source": [
    "mean_quality_by_acidity_level = df_wine.groupby(Col.acidity_level)[Col.quality].mean()\n",
    "plt.bar([1, 2, 3, 4], height=mean_quality_by_acidity_level, tick_label=mean_quality_by_acidity_level.index)\n",
    "plt.title('Average wine quality by acidity level', fontsize=title_font_size)\n",
    "plt.xlabel('Acidity level', fontsize=label_font_size)\n",
    "plt.ylabel('Average quality rating', fontsize=label_font_size);"
   ],
   "metadata": {
    "collapsed": false,
    "pycharm": {
     "name": "#%%\n"
    }
   }
  },
  {
   "cell_type": "code",
   "execution_count": 53,
   "outputs": [
    {
     "name": "stderr",
     "output_type": "stream",
     "text": [
      "C:\\Users\\david\\.conda\\envs\\python-examples\\lib\\site-packages\\matplotlib\\axes\\_base.py:348: FutureWarning: Support for multi-dimensional indexing (e.g. `obj[:, None]`) is deprecated and will be removed in a future version.  Convert to a numpy array before indexing instead.\n",
      "  x = x[:, np.newaxis]\n"
     ]
    },
    {
     "data": {
      "text/plain": "<Figure size 432x288 with 1 Axes>",
      "image/png": "[encoded data removed]"
     },
     "metadata": {},
     "output_type": "display_data"
    }
   ],
   "source": [
    "mean_quality_by_acidity_level = df_wine.groupby(Col.acidity_level)[Col.quality].mean()\n",
    "plt.plot(mean_quality_by_acidity_level)\n",
    "delta = mean_quality_by_acidity_level.max() - mean_quality_by_acidity_level.min()\n",
    "plt.ylim(mean_quality_by_acidity_level.min() - delta, mean_quality_by_acidity_level.max() + delta)\n",
    "plt.title('Average wine quality by acidity level', fontsize=title_font_size)\n",
    "plt.xlabel('Acidity level', fontsize=label_font_size)\n",
    "plt.ylabel('Average quality rating', fontsize=label_font_size);"
   ],
   "metadata": {
    "collapsed": false,
    "pycharm": {
     "name": "#%%\n"
    }
   }
  },
  {
   "cell_type": "markdown",
   "source": [
    "### Plotting wine color and quality with Matplotlib\n",
    "\n",
    "Computation and layout of the chart partially taken from the lesson material."
   ],
   "metadata": {
    "collapsed": false,
    "pycharm": {
     "name": "#%% md\n"
    }
   }
  },
  {
   "cell_type": "code",
   "execution_count": 54,
   "outputs": [
    {
     "data": {
      "text/plain": "color  quality\nred    3            10\n       4            53\n       5           681\n       6           638\n       7           199\n       8            18\nwhite  3            20\n       4           163\n       5          1457\n       6          2198\n       7           880\n       8           175\n       9             5\nName: index, dtype: int64"
     },
     "execution_count": 54,
     "metadata": {},
     "output_type": "execute_result"
    }
   ],
   "source": [
    "wine_color_counts = df_wine.groupby([Col.color, Col.quality]).count()['index']\n",
    "wine_color_counts"
   ],
   "metadata": {
    "collapsed": false,
    "pycharm": {
     "name": "#%%\n"
    }
   }
  },
  {
   "cell_type": "code",
   "execution_count": 55,
   "outputs": [
    {
     "data": {
      "text/plain": "color\nred      1599\nwhite    4898\nName: index, dtype: int64"
     },
     "execution_count": 55,
     "metadata": {},
     "output_type": "execute_result"
    }
   ],
   "source": [
    "wine_color_totals = df_wine.groupby([Col.color]).count()['index']\n",
    "wine_color_totals"
   ],
   "metadata": {
    "collapsed": false,
    "pycharm": {
     "name": "#%%\n"
    }
   }
  },
  {
   "cell_type": "code",
   "execution_count": 56,
   "outputs": [
    {
     "data": {
      "text/plain": "quality\n3    0.004083\n4    0.033279\n5    0.297468\n6    0.448755\n7    0.179665\n8    0.035729\n9    0.001021\nName: index, dtype: float64"
     },
     "execution_count": 56,
     "metadata": {},
     "output_type": "execute_result"
    }
   ],
   "source": [
    "wine_proportions_white = wine_color_counts[color_white] / wine_color_totals[color_white]\n",
    "wine_proportions_white"
   ],
   "metadata": {
    "collapsed": false,
    "pycharm": {
     "name": "#%%\n"
    }
   }
  },
  {
   "cell_type": "code",
   "execution_count": 57,
   "outputs": [
    {
     "data": {
      "text/plain": "quality\n3    0.006254\n4    0.033146\n5    0.425891\n6    0.398999\n7    0.124453\n8    0.011257\n9    0.000000\nName: index, dtype: float64"
     },
     "execution_count": 57,
     "metadata": {},
     "output_type": "execute_result"
    }
   ],
   "source": [
    "wine_proportions_red = wine_color_counts[color_red] / wine_color_totals[color_red]\n",
    "wine_proportions_red[9] = 0 # arrays must have same length for plotting\n",
    "wine_proportions_red"
   ],
   "metadata": {
    "collapsed": false,
    "pycharm": {
     "name": "#%%\n"
    }
   }
  },
  {
   "cell_type": "code",
   "execution_count": 58,
   "outputs": [
    {
     "data": {
      "text/plain": "<Figure size 432x288 with 1 Axes>",
      "image/png": "[encoded data removed]"
     },
     "metadata": {},
     "output_type": "display_data"
    }
   ],
   "source": [
    "ind = np.arange(len(wine_proportions_white))\n",
    "bar_width = 0.35\n",
    "red_bars = plt.bar(ind, wine_proportions_red, bar_width, color='r', alpha=.7, label='Red wine')\n",
    "white_bars = plt.bar(ind + bar_width, wine_proportions_white, bar_width, color='w', alpha=.7, label='White wine')\n",
    "plt.title('Proportions by wine color and quality', fontsize=title_font_size)\n",
    "plt.xlabel('Quality', fontsize=16)\n",
    "plt.ylabel('Proportion', fontsize=16)\n",
    "plt.legend();\n"
   ],
   "metadata": {
    "collapsed": false,
    "pycharm": {
     "name": "#%%\n"
    }
   }
  }
 ],
 "metadata": {
  "kernelspec": {
   "name": "python-examples",
   "language": "python",
   "display_name": "Python (python-examples)"
  },
  "language_info": {
   "codemirror_mode": {
    "name": "ipython",
    "version": 2
   },
   "file_extension": ".py",
   "mimetype": "text/x-python",
   "name": "python",
   "nbconvert_exporter": "python",
   "pygments_lexer": "ipython2",
   "version": "2.7.6"
  }
 },
 "nbformat": 4,
 "nbformat_minor": 0
}